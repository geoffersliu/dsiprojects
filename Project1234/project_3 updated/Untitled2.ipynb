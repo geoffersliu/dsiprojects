{
 "cells": [
  {
   "cell_type": "code",
   "execution_count": 1,
   "metadata": {},
   "outputs": [],
   "source": [
    "import pandas as pd\n",
    "import numpy as np\n",
    "import matplotlib.pyplot as plt\n",
    "import nltk\n",
    "import string\n",
    "import re\n",
    "from nltk.tokenize import RegexpTokenizer\n",
    "from sklearn.model_selection import train_test_split, GridSearchCV, cross_val_score\n",
    "from nltk.corpus import stopwords\n",
    "from sklearn.linear_model import LogisticRegression\n",
    "from sklearn.feature_extraction.text import CountVectorizer, TfidfVectorizer\n",
    "from sklearn.pipeline import Pipeline\n",
    "from collections import Counter\n",
    "import matplotlib as plt\n",
    "from sklearn.naive_bayes import BernoulliNB, MultinomialNB\n",
    "from bs4 import BeautifulSoup\n",
    "from nltk.stem.porter import PorterStemmer\n",
    "from nltk.stem import WordNetLemmatizer\n",
    "from sklearn.metrics import confusion_matrix\n",
    "from wordcloud import WordCloud, STOPWORDS \n",
    "import seaborn as sns\n",
    "pd.set_option('display.max_columns', None)\n",
    "%matplotlib inline"
   ]
  },
  {
   "cell_type": "code",
   "execution_count": 2,
   "metadata": {},
   "outputs": [],
   "source": [
    "#read csv files\n",
    "invest_df = pd.read_csv('./datasets/ddup_investing.csv')\n",
    "loan_df = pd.read_csv('./datasets/ddup_loan.csv')"
   ]
  },
  {
   "cell_type": "code",
   "execution_count": 3,
   "metadata": {},
   "outputs": [
    {
     "data": {
      "text/plain": [
       "Unnamed: 0     0\n",
       "name           0\n",
       "subreddit      0\n",
       "title          0\n",
       "selftext      35\n",
       "dtype: int64"
      ]
     },
     "execution_count": 3,
     "metadata": {},
     "output_type": "execute_result"
    }
   ],
   "source": [
    "#see the null values for invest_df\n",
    "invest_df.isnull().sum()"
   ]
  },
  {
   "cell_type": "code",
   "execution_count": 4,
   "metadata": {},
   "outputs": [],
   "source": [
    "#drop null values\n",
    "invest_df=invest_df.dropna().reset_index(drop=True)"
   ]
  },
  {
   "cell_type": "code",
   "execution_count": 5,
   "metadata": {},
   "outputs": [
    {
     "data": {
      "text/plain": [
       "Unnamed: 0    0\n",
       "name          0\n",
       "subreddit     0\n",
       "title         0\n",
       "selftext      0\n",
       "dtype: int64"
      ]
     },
     "execution_count": 5,
     "metadata": {},
     "output_type": "execute_result"
    }
   ],
   "source": [
    "invest_df.isnull().sum()"
   ]
  },
  {
   "cell_type": "code",
   "execution_count": 6,
   "metadata": {},
   "outputs": [
    {
     "data": {
      "text/plain": [
       "Unnamed: 0    0\n",
       "name          0\n",
       "subreddit     0\n",
       "title         0\n",
       "selftext      1\n",
       "dtype: int64"
      ]
     },
     "execution_count": 6,
     "metadata": {},
     "output_type": "execute_result"
    }
   ],
   "source": [
    "#see the null values for fan_df\n",
    "loan_df.isnull().sum()"
   ]
  },
  {
   "cell_type": "code",
   "execution_count": 7,
   "metadata": {},
   "outputs": [],
   "source": [
    "#drop null values\n",
    "loan_df=loan_df.dropna().reset_index(drop=True)\n",
    "\n"
   ]
  },
  {
   "cell_type": "code",
   "execution_count": 8,
   "metadata": {},
   "outputs": [
    {
     "data": {
      "text/plain": [
       "Unnamed: 0    0\n",
       "name          0\n",
       "subreddit     0\n",
       "title         0\n",
       "selftext      0\n",
       "dtype: int64"
      ]
     },
     "execution_count": 8,
     "metadata": {},
     "output_type": "execute_result"
    }
   ],
   "source": [
    "loan_df.isnull().sum()"
   ]
  },
  {
   "cell_type": "code",
   "execution_count": 9,
   "metadata": {},
   "outputs": [
    {
     "data": {
      "text/plain": [
       "(924, 5)"
      ]
     },
     "execution_count": 9,
     "metadata": {},
     "output_type": "execute_result"
    }
   ],
   "source": [
    "invest_df.shape"
   ]
  },
  {
   "cell_type": "code",
   "execution_count": 10,
   "metadata": {},
   "outputs": [
    {
     "data": {
      "text/plain": [
       "(946, 5)"
      ]
     },
     "execution_count": 10,
     "metadata": {},
     "output_type": "execute_result"
    }
   ],
   "source": [
    "loan_df.shape"
   ]
  },
  {
   "cell_type": "code",
   "execution_count": 11,
   "metadata": {},
   "outputs": [],
   "source": [
    "#drop duplicate for invest_df\n",
    "invest_df.drop_duplicates(subset='selftext',keep='first',inplace=True,ignore_index=True)\n",
    "invest_df.drop_duplicates(subset='title',keep='first',inplace=True,ignore_index=True)\n"
   ]
  },
  {
   "cell_type": "code",
   "execution_count": 12,
   "metadata": {},
   "outputs": [
    {
     "data": {
      "text/plain": [
       "(923, 5)"
      ]
     },
     "execution_count": 12,
     "metadata": {},
     "output_type": "execute_result"
    }
   ],
   "source": [
    "invest_df.shape"
   ]
  },
  {
   "cell_type": "code",
   "execution_count": 13,
   "metadata": {},
   "outputs": [],
   "source": [
    "#drop duplicate for loan_df\n",
    "loan_df.drop_duplicates(subset='selftext',keep='first',inplace=True,ignore_index=True)\n",
    "loan_df.drop_duplicates(subset='title',keep='first',inplace=True,ignore_index=True)\n"
   ]
  },
  {
   "cell_type": "code",
   "execution_count": 14,
   "metadata": {},
   "outputs": [
    {
     "data": {
      "text/plain": [
       "(946, 5)"
      ]
     },
     "execution_count": 14,
     "metadata": {},
     "output_type": "execute_result"
    }
   ],
   "source": [
    "loan_df.shape"
   ]
  },
  {
   "cell_type": "code",
   "execution_count": 15,
   "metadata": {},
   "outputs": [],
   "source": [
    "#Combine both dataframes rows. \n",
    "comb_df = pd.concat([invest_df,loan_df]).reset_index(drop=True)\n"
   ]
  },
  {
   "cell_type": "code",
   "execution_count": 16,
   "metadata": {},
   "outputs": [],
   "source": [
    "#drop unamed column\n",
    "comb_df.drop(['Unnamed: 0'],axis=1,inplace=True)\n",
    "\n"
   ]
  },
  {
   "cell_type": "code",
   "execution_count": 17,
   "metadata": {},
   "outputs": [
    {
     "data": {
      "text/html": [
       "<div>\n",
       "<style scoped>\n",
       "    .dataframe tbody tr th:only-of-type {\n",
       "        vertical-align: middle;\n",
       "    }\n",
       "\n",
       "    .dataframe tbody tr th {\n",
       "        vertical-align: top;\n",
       "    }\n",
       "\n",
       "    .dataframe thead th {\n",
       "        text-align: right;\n",
       "    }\n",
       "</style>\n",
       "<table border=\"1\" class=\"dataframe\">\n",
       "  <thead>\n",
       "    <tr style=\"text-align: right;\">\n",
       "      <th></th>\n",
       "      <th>name</th>\n",
       "      <th>subreddit</th>\n",
       "      <th>title</th>\n",
       "      <th>selftext</th>\n",
       "    </tr>\n",
       "  </thead>\n",
       "  <tbody>\n",
       "    <tr>\n",
       "      <th>0</th>\n",
       "      <td>t3_ggfbbc</td>\n",
       "      <td>investing</td>\n",
       "      <td>This video is the simplest video that explains...</td>\n",
       "      <td># [https://youtu.be/PqiewtqGYM4](https://youtu...</td>\n",
       "    </tr>\n",
       "    <tr>\n",
       "      <th>1</th>\n",
       "      <td>t3_ggfazw</td>\n",
       "      <td>investing</td>\n",
       "      <td>Non index funds that do well when the market i...</td>\n",
       "      <td>I thought I’d try something a little different...</td>\n",
       "    </tr>\n",
       "    <tr>\n",
       "      <th>2</th>\n",
       "      <td>t3_ggf7zk</td>\n",
       "      <td>investing</td>\n",
       "      <td>What profits should we expect for a company th...</td>\n",
       "      <td>I'm new to investing and have no background in...</td>\n",
       "    </tr>\n",
       "    <tr>\n",
       "      <th>3</th>\n",
       "      <td>t3_ggeebs</td>\n",
       "      <td>investing</td>\n",
       "      <td>Daily Advice Thread - All basic help or advice...</td>\n",
       "      <td>If your question is \"I have $10,000, what do I...</td>\n",
       "    </tr>\n",
       "    <tr>\n",
       "      <th>4</th>\n",
       "      <td>t3_ggedr4</td>\n",
       "      <td>investing</td>\n",
       "      <td>Group and company f/s and consolidated statements</td>\n",
       "      <td>I can't seem to understand. The difference bet...</td>\n",
       "    </tr>\n",
       "  </tbody>\n",
       "</table>\n",
       "</div>"
      ],
      "text/plain": [
       "        name  subreddit                                              title  \\\n",
       "0  t3_ggfbbc  investing  This video is the simplest video that explains...   \n",
       "1  t3_ggfazw  investing  Non index funds that do well when the market i...   \n",
       "2  t3_ggf7zk  investing  What profits should we expect for a company th...   \n",
       "3  t3_ggeebs  investing  Daily Advice Thread - All basic help or advice...   \n",
       "4  t3_ggedr4  investing  Group and company f/s and consolidated statements   \n",
       "\n",
       "                                            selftext  \n",
       "0  # [https://youtu.be/PqiewtqGYM4](https://youtu...  \n",
       "1  I thought I’d try something a little different...  \n",
       "2  I'm new to investing and have no background in...  \n",
       "3  If your question is \"I have $10,000, what do I...  \n",
       "4  I can't seem to understand. The difference bet...  "
      ]
     },
     "execution_count": 17,
     "metadata": {},
     "output_type": "execute_result"
    }
   ],
   "source": [
    "comb_df.head()\n",
    "\n"
   ]
  },
  {
   "cell_type": "code",
   "execution_count": 18,
   "metadata": {},
   "outputs": [
    {
     "data": {
      "text/plain": [
       "StudentLoans    0.506153\n",
       "investing       0.493847\n",
       "Name: subreddit, dtype: float64"
      ]
     },
     "execution_count": 18,
     "metadata": {},
     "output_type": "execute_result"
    }
   ],
   "source": [
    "comb_df['subreddit'].value_counts(normalize=True)\n",
    "\n"
   ]
  },
  {
   "cell_type": "code",
   "execution_count": 19,
   "metadata": {},
   "outputs": [
    {
     "data": {
      "text/plain": [
       "(1869, 4)"
      ]
     },
     "execution_count": 19,
     "metadata": {},
     "output_type": "execute_result"
    }
   ],
   "source": [
    "comb_df.shape"
   ]
  },
  {
   "cell_type": "code",
   "execution_count": 20,
   "metadata": {},
   "outputs": [],
   "source": [
    "#comine title and selftext\n",
    "comb_df['all_text'] = comb_df['title'] + comb_df['selftext']\n",
    "\n"
   ]
  },
  {
   "cell_type": "code",
   "execution_count": 21,
   "metadata": {},
   "outputs": [
    {
     "data": {
      "text/html": [
       "<div>\n",
       "<style scoped>\n",
       "    .dataframe tbody tr th:only-of-type {\n",
       "        vertical-align: middle;\n",
       "    }\n",
       "\n",
       "    .dataframe tbody tr th {\n",
       "        vertical-align: top;\n",
       "    }\n",
       "\n",
       "    .dataframe thead th {\n",
       "        text-align: right;\n",
       "    }\n",
       "</style>\n",
       "<table border=\"1\" class=\"dataframe\">\n",
       "  <thead>\n",
       "    <tr style=\"text-align: right;\">\n",
       "      <th></th>\n",
       "      <th>name</th>\n",
       "      <th>subreddit</th>\n",
       "      <th>title</th>\n",
       "      <th>selftext</th>\n",
       "      <th>all_text</th>\n",
       "    </tr>\n",
       "  </thead>\n",
       "  <tbody>\n",
       "    <tr>\n",
       "      <th>0</th>\n",
       "      <td>t3_ggfbbc</td>\n",
       "      <td>investing</td>\n",
       "      <td>This video is the simplest video that explains...</td>\n",
       "      <td># [https://youtu.be/PqiewtqGYM4](https://youtu...</td>\n",
       "      <td>This video is the simplest video that explains...</td>\n",
       "    </tr>\n",
       "    <tr>\n",
       "      <th>1</th>\n",
       "      <td>t3_ggfazw</td>\n",
       "      <td>investing</td>\n",
       "      <td>Non index funds that do well when the market i...</td>\n",
       "      <td>I thought I’d try something a little different...</td>\n",
       "      <td>Non index funds that do well when the market i...</td>\n",
       "    </tr>\n",
       "    <tr>\n",
       "      <th>2</th>\n",
       "      <td>t3_ggf7zk</td>\n",
       "      <td>investing</td>\n",
       "      <td>What profits should we expect for a company th...</td>\n",
       "      <td>I'm new to investing and have no background in...</td>\n",
       "      <td>What profits should we expect for a company th...</td>\n",
       "    </tr>\n",
       "    <tr>\n",
       "      <th>3</th>\n",
       "      <td>t3_ggeebs</td>\n",
       "      <td>investing</td>\n",
       "      <td>Daily Advice Thread - All basic help or advice...</td>\n",
       "      <td>If your question is \"I have $10,000, what do I...</td>\n",
       "      <td>Daily Advice Thread - All basic help or advice...</td>\n",
       "    </tr>\n",
       "    <tr>\n",
       "      <th>4</th>\n",
       "      <td>t3_ggedr4</td>\n",
       "      <td>investing</td>\n",
       "      <td>Group and company f/s and consolidated statements</td>\n",
       "      <td>I can't seem to understand. The difference bet...</td>\n",
       "      <td>Group and company f/s and consolidated stateme...</td>\n",
       "    </tr>\n",
       "  </tbody>\n",
       "</table>\n",
       "</div>"
      ],
      "text/plain": [
       "        name  subreddit                                              title  \\\n",
       "0  t3_ggfbbc  investing  This video is the simplest video that explains...   \n",
       "1  t3_ggfazw  investing  Non index funds that do well when the market i...   \n",
       "2  t3_ggf7zk  investing  What profits should we expect for a company th...   \n",
       "3  t3_ggeebs  investing  Daily Advice Thread - All basic help or advice...   \n",
       "4  t3_ggedr4  investing  Group and company f/s and consolidated statements   \n",
       "\n",
       "                                            selftext  \\\n",
       "0  # [https://youtu.be/PqiewtqGYM4](https://youtu...   \n",
       "1  I thought I’d try something a little different...   \n",
       "2  I'm new to investing and have no background in...   \n",
       "3  If your question is \"I have $10,000, what do I...   \n",
       "4  I can't seem to understand. The difference bet...   \n",
       "\n",
       "                                            all_text  \n",
       "0  This video is the simplest video that explains...  \n",
       "1  Non index funds that do well when the market i...  \n",
       "2  What profits should we expect for a company th...  \n",
       "3  Daily Advice Thread - All basic help or advice...  \n",
       "4  Group and company f/s and consolidated stateme...  "
      ]
     },
     "execution_count": 21,
     "metadata": {},
     "output_type": "execute_result"
    }
   ],
   "source": [
    "comb_df.head()"
   ]
  },
  {
   "cell_type": "code",
   "execution_count": 22,
   "metadata": {},
   "outputs": [
    {
     "data": {
      "text/plain": [
       "\"This video is the simplest video that explains stocks to people who don't understand what they are/how they work# [https://youtu.be/PqiewtqGYM4](https://youtu.be/PqiewtqGYM4)\""
      ]
     },
     "execution_count": 22,
     "metadata": {},
     "output_type": "execute_result"
    }
   ],
   "source": [
    "#clean the all_text column\n",
    "comb_df['all_text'][0]"
   ]
  },
  {
   "cell_type": "code",
   "execution_count": 23,
   "metadata": {},
   "outputs": [],
   "source": [
    "# create target variable, y which maps subreddit into a 1/0 column, where 1 indicates dating_advice\n",
    "comb_df['y'] = [1 if i == 'StudentLoans' else 0 for i in comb_df['subreddit']]\n"
   ]
  },
  {
   "cell_type": "code",
   "execution_count": 24,
   "metadata": {},
   "outputs": [
    {
     "data": {
      "text/html": [
       "<div>\n",
       "<style scoped>\n",
       "    .dataframe tbody tr th:only-of-type {\n",
       "        vertical-align: middle;\n",
       "    }\n",
       "\n",
       "    .dataframe tbody tr th {\n",
       "        vertical-align: top;\n",
       "    }\n",
       "\n",
       "    .dataframe thead th {\n",
       "        text-align: right;\n",
       "    }\n",
       "</style>\n",
       "<table border=\"1\" class=\"dataframe\">\n",
       "  <thead>\n",
       "    <tr style=\"text-align: right;\">\n",
       "      <th></th>\n",
       "      <th>name</th>\n",
       "      <th>subreddit</th>\n",
       "      <th>title</th>\n",
       "      <th>selftext</th>\n",
       "      <th>all_text</th>\n",
       "      <th>y</th>\n",
       "    </tr>\n",
       "  </thead>\n",
       "  <tbody>\n",
       "    <tr>\n",
       "      <th>0</th>\n",
       "      <td>t3_ggfbbc</td>\n",
       "      <td>investing</td>\n",
       "      <td>This video is the simplest video that explains...</td>\n",
       "      <td># [https://youtu.be/PqiewtqGYM4](https://youtu...</td>\n",
       "      <td>This video is the simplest video that explains...</td>\n",
       "      <td>0</td>\n",
       "    </tr>\n",
       "    <tr>\n",
       "      <th>1</th>\n",
       "      <td>t3_ggfazw</td>\n",
       "      <td>investing</td>\n",
       "      <td>Non index funds that do well when the market i...</td>\n",
       "      <td>I thought I’d try something a little different...</td>\n",
       "      <td>Non index funds that do well when the market i...</td>\n",
       "      <td>0</td>\n",
       "    </tr>\n",
       "    <tr>\n",
       "      <th>2</th>\n",
       "      <td>t3_ggf7zk</td>\n",
       "      <td>investing</td>\n",
       "      <td>What profits should we expect for a company th...</td>\n",
       "      <td>I'm new to investing and have no background in...</td>\n",
       "      <td>What profits should we expect for a company th...</td>\n",
       "      <td>0</td>\n",
       "    </tr>\n",
       "    <tr>\n",
       "      <th>3</th>\n",
       "      <td>t3_ggeebs</td>\n",
       "      <td>investing</td>\n",
       "      <td>Daily Advice Thread - All basic help or advice...</td>\n",
       "      <td>If your question is \"I have $10,000, what do I...</td>\n",
       "      <td>Daily Advice Thread - All basic help or advice...</td>\n",
       "      <td>0</td>\n",
       "    </tr>\n",
       "    <tr>\n",
       "      <th>4</th>\n",
       "      <td>t3_ggedr4</td>\n",
       "      <td>investing</td>\n",
       "      <td>Group and company f/s and consolidated statements</td>\n",
       "      <td>I can't seem to understand. The difference bet...</td>\n",
       "      <td>Group and company f/s and consolidated stateme...</td>\n",
       "      <td>0</td>\n",
       "    </tr>\n",
       "  </tbody>\n",
       "</table>\n",
       "</div>"
      ],
      "text/plain": [
       "        name  subreddit                                              title  \\\n",
       "0  t3_ggfbbc  investing  This video is the simplest video that explains...   \n",
       "1  t3_ggfazw  investing  Non index funds that do well when the market i...   \n",
       "2  t3_ggf7zk  investing  What profits should we expect for a company th...   \n",
       "3  t3_ggeebs  investing  Daily Advice Thread - All basic help or advice...   \n",
       "4  t3_ggedr4  investing  Group and company f/s and consolidated statements   \n",
       "\n",
       "                                            selftext  \\\n",
       "0  # [https://youtu.be/PqiewtqGYM4](https://youtu...   \n",
       "1  I thought I’d try something a little different...   \n",
       "2  I'm new to investing and have no background in...   \n",
       "3  If your question is \"I have $10,000, what do I...   \n",
       "4  I can't seem to understand. The difference bet...   \n",
       "\n",
       "                                            all_text  y  \n",
       "0  This video is the simplest video that explains...  0  \n",
       "1  Non index funds that do well when the market i...  0  \n",
       "2  What profits should we expect for a company th...  0  \n",
       "3  Daily Advice Thread - All basic help or advice...  0  \n",
       "4  Group and company f/s and consolidated stateme...  0  "
      ]
     },
     "execution_count": 24,
     "metadata": {},
     "output_type": "execute_result"
    }
   ],
   "source": [
    "comb_df.head()"
   ]
  },
  {
   "cell_type": "code",
   "execution_count": 25,
   "metadata": {},
   "outputs": [],
   "source": [
    "def review_to_words(raw_review):\n",
    "    # Function to convert a raw review to a string of words\n",
    "    # The input is a single string (a raw movie review), and \n",
    "    # the output is a single string (a preprocessed movie review)\n",
    "    \n",
    "    # 1. Remove HTML.\n",
    "    review_text = BeautifulSoup(raw_review).get_text()\n",
    "    \n",
    "    # 2. Remove non-letters.\n",
    "    #remove https tags\n",
    "    letters_only = re.sub(r'https?:\\/\\/.*[\\r\\n]*','',review_text)\n",
    "    #remove new lines\n",
    "    letters_only = re.sub(\"\\n\",\" \",review_text)\n",
    "    #remove words with 1 or 2 letters\n",
    "    letters_only = re.sub(r\"\\b[a-zA-Z]{1,2}\\b\", \"\", review_text)\n",
    "    letters_only = re.sub(\"[^a-zA-Z]\", \" \", review_text)\n",
    "    \n",
    "    \n",
    "    # 3. Convert to lower case, split into individual words.\n",
    "    words = letters_only.lower().split()\n",
    "    \n",
    "    # 4. In Python, searching a set is much faster than searching\n",
    "    # a list, so convert the stopwords to a set.\n",
    "    stops = set(stopwords.words('english'))\n",
    "    \n",
    "  \n",
    "    \n",
    "    # 5. Remove stopwords.\n",
    "    meaningful_words = [w for w in words if w not in stops]\n",
    "    \n",
    "    more_stops= ['StudentLoans','investing','would','get','make','know','still','like','http',\n",
    "                'com','www','take','go','going']\n",
    "    \n",
    "    meaningful_words = [w for w in meaningful_words if w not in more_stops]\n",
    "    \n",
    "    #5.5 Lemmatize of words (Stemmer returns weird results like 'people' as 'peopl')\n",
    "    lemm = WordNetLemmatizer()\n",
    "    meaningful_words = [lemm.lemmatize(w) for w in meaningful_words]\n",
    "    \n",
    "    # 6. Join the words back into one string separated by space, \n",
    "    # and return the result.\n",
    "    return(\" \".join(meaningful_words))"
   ]
  },
  {
   "cell_type": "code",
   "execution_count": 26,
   "metadata": {},
   "outputs": [],
   "source": [
    "# create column for cleaned all_text\n",
    "comb_df['clean_text'] = comb_df['all_text'].apply(lambda x: review_to_words(x))"
   ]
  },
  {
   "cell_type": "code",
   "execution_count": 27,
   "metadata": {},
   "outputs": [
    {
     "data": {
      "text/html": [
       "<div>\n",
       "<style scoped>\n",
       "    .dataframe tbody tr th:only-of-type {\n",
       "        vertical-align: middle;\n",
       "    }\n",
       "\n",
       "    .dataframe tbody tr th {\n",
       "        vertical-align: top;\n",
       "    }\n",
       "\n",
       "    .dataframe thead th {\n",
       "        text-align: right;\n",
       "    }\n",
       "</style>\n",
       "<table border=\"1\" class=\"dataframe\">\n",
       "  <thead>\n",
       "    <tr style=\"text-align: right;\">\n",
       "      <th></th>\n",
       "      <th>name</th>\n",
       "      <th>subreddit</th>\n",
       "      <th>title</th>\n",
       "      <th>selftext</th>\n",
       "      <th>all_text</th>\n",
       "      <th>y</th>\n",
       "      <th>clean_text</th>\n",
       "    </tr>\n",
       "  </thead>\n",
       "  <tbody>\n",
       "    <tr>\n",
       "      <th>0</th>\n",
       "      <td>t3_ggfbbc</td>\n",
       "      <td>investing</td>\n",
       "      <td>This video is the simplest video that explains...</td>\n",
       "      <td># [https://youtu.be/PqiewtqGYM4](https://youtu...</td>\n",
       "      <td>This video is the simplest video that explains...</td>\n",
       "      <td>0</td>\n",
       "      <td>video simplest video explains stock people und...</td>\n",
       "    </tr>\n",
       "    <tr>\n",
       "      <th>1</th>\n",
       "      <td>t3_ggfazw</td>\n",
       "      <td>investing</td>\n",
       "      <td>Non index funds that do well when the market i...</td>\n",
       "      <td>I thought I’d try something a little different...</td>\n",
       "      <td>Non index funds that do well when the market i...</td>\n",
       "      <td>0</td>\n",
       "      <td>non index fund well market flat thought try so...</td>\n",
       "    </tr>\n",
       "    <tr>\n",
       "      <th>2</th>\n",
       "      <td>t3_ggf7zk</td>\n",
       "      <td>investing</td>\n",
       "      <td>What profits should we expect for a company th...</td>\n",
       "      <td>I'm new to investing and have no background in...</td>\n",
       "      <td>What profits should we expect for a company th...</td>\n",
       "      <td>0</td>\n",
       "      <td>profit expect company come first covid race va...</td>\n",
       "    </tr>\n",
       "    <tr>\n",
       "      <th>3</th>\n",
       "      <td>t3_ggeebs</td>\n",
       "      <td>investing</td>\n",
       "      <td>Daily Advice Thread - All basic help or advice...</td>\n",
       "      <td>If your question is \"I have $10,000, what do I...</td>\n",
       "      <td>Daily Advice Thread - All basic help or advice...</td>\n",
       "      <td>0</td>\n",
       "      <td>daily advice thread basic help advice question...</td>\n",
       "    </tr>\n",
       "    <tr>\n",
       "      <th>4</th>\n",
       "      <td>t3_ggedr4</td>\n",
       "      <td>investing</td>\n",
       "      <td>Group and company f/s and consolidated statements</td>\n",
       "      <td>I can't seem to understand. The difference bet...</td>\n",
       "      <td>Group and company f/s and consolidated stateme...</td>\n",
       "      <td>0</td>\n",
       "      <td>group company f consolidated statementsi seem ...</td>\n",
       "    </tr>\n",
       "  </tbody>\n",
       "</table>\n",
       "</div>"
      ],
      "text/plain": [
       "        name  subreddit                                              title  \\\n",
       "0  t3_ggfbbc  investing  This video is the simplest video that explains...   \n",
       "1  t3_ggfazw  investing  Non index funds that do well when the market i...   \n",
       "2  t3_ggf7zk  investing  What profits should we expect for a company th...   \n",
       "3  t3_ggeebs  investing  Daily Advice Thread - All basic help or advice...   \n",
       "4  t3_ggedr4  investing  Group and company f/s and consolidated statements   \n",
       "\n",
       "                                            selftext  \\\n",
       "0  # [https://youtu.be/PqiewtqGYM4](https://youtu...   \n",
       "1  I thought I’d try something a little different...   \n",
       "2  I'm new to investing and have no background in...   \n",
       "3  If your question is \"I have $10,000, what do I...   \n",
       "4  I can't seem to understand. The difference bet...   \n",
       "\n",
       "                                            all_text  y  \\\n",
       "0  This video is the simplest video that explains...  0   \n",
       "1  Non index funds that do well when the market i...  0   \n",
       "2  What profits should we expect for a company th...  0   \n",
       "3  Daily Advice Thread - All basic help or advice...  0   \n",
       "4  Group and company f/s and consolidated stateme...  0   \n",
       "\n",
       "                                          clean_text  \n",
       "0  video simplest video explains stock people und...  \n",
       "1  non index fund well market flat thought try so...  \n",
       "2  profit expect company come first covid race va...  \n",
       "3  daily advice thread basic help advice question...  \n",
       "4  group company f consolidated statementsi seem ...  "
      ]
     },
     "execution_count": 27,
     "metadata": {},
     "output_type": "execute_result"
    }
   ],
   "source": [
    "comb_df.head()"
   ]
  },
  {
   "cell_type": "code",
   "execution_count": 28,
   "metadata": {},
   "outputs": [],
   "source": [
    "# instantiate CountVectorizer and TfidfVectorizer \n",
    "cvec = CountVectorizer()\n",
    "tfidf = TfidfVectorizer()"
   ]
  },
  {
   "cell_type": "code",
   "execution_count": 29,
   "metadata": {},
   "outputs": [],
   "source": [
    "# CountVectorizer token counts for student loans and invest\n",
    "cvec_loan = pd.DataFrame(cvec.fit_transform(comb_df[comb_df['subreddit']=='StudentLoans']['clean_text']).todense(),\n",
    "                       columns=cvec.get_feature_names())\n",
    "\n",
    "cvec_invest = pd.DataFrame(cvec.fit_transform(comb_df[comb_df['subreddit']=='investing']['clean_text']).todense(),\n",
    "                       columns=cvec.get_feature_names())\n"
   ]
  },
  {
   "cell_type": "code",
   "execution_count": 30,
   "metadata": {},
   "outputs": [
    {
     "data": {
      "image/png": "[encoded data removed]",
      "text/plain": [
       "<Figure size 432x288 with 1 Axes>"
      ]
     },
     "metadata": {
      "needs_background": "light"
     },
     "output_type": "display_data"
    }
   ],
   "source": [
    "cvec_loan_20 = cvec_loan.sum().sort_values(ascending=False).head(20)\n",
    "\n",
    "sns.barplot(y=cvec_loan_20.index.values, x = cvec_loan_20).set_title('Top 20 student loan words');"
   ]
  },
  {
   "cell_type": "code",
   "execution_count": 31,
   "metadata": {},
   "outputs": [
    {
     "data": {
      "image/png": "[encoded data removed]",
      "text/plain": [
       "<Figure size 432x288 with 1 Axes>"
      ]
     },
     "metadata": {
      "needs_background": "light"
     },
     "output_type": "display_data"
    }
   ],
   "source": [
    "cvec_invest_20 = cvec_invest.sum().sort_values(ascending=False).head(20)\n",
    "\n",
    "sns.barplot(y=cvec_invest_20.index.values, x = cvec_invest_20).set_title('Top 20 investing words');"
   ]
  },
  {
   "cell_type": "code",
   "execution_count": 36,
   "metadata": {},
   "outputs": [],
   "source": [
    "def show_wordcloud(data, title = None):\n",
    "    wordcloud = WordCloud(\n",
    "        background_color='white',\n",
    "        stopwords=stopwords,\n",
    "        max_words=200,\n",
    "        max_font_size=40, \n",
    "        scale=3,\n",
    "        random_state=1 # chosen at random by flipping a coin; it was heads\n",
    "    ).generate(str(data))\n",
    "\n",
    "    fig = plt.figure(1, figsize=(12, 12))\n",
    "    plt.axis('off')\n",
    "    if title: \n",
    "        fig.suptitle(title, fontsize=20)\n",
    "        fig.subplots_adjust(top=2.3)\n",
    "\n",
    "    plt.imshow(wordcloud)\n",
    "    plt.show()"
   ]
  },
  {
   "cell_type": "code",
   "execution_count": 33,
   "metadata": {},
   "outputs": [],
   "source": [
    "age = [10,11,12,13,14,15]\n",
    "ht = [180,181,182,183,184]"
   ]
  },
  {
   "cell_type": "code",
   "execution_count": 34,
   "metadata": {},
   "outputs": [
    {
     "ename": "TypeError",
     "evalue": "'module' object is not callable",
     "output_type": "error",
     "traceback": [
      "\u001b[0;31m---------------------------------------------------------------------------\u001b[0m",
      "\u001b[0;31mTypeError\u001b[0m                                 Traceback (most recent call last)",
      "\u001b[0;32m<ipython-input-34-2af334e00b2c>\u001b[0m in \u001b[0;36m<module>\u001b[0;34m\u001b[0m\n\u001b[0;32m----> 1\u001b[0;31m \u001b[0mfig\u001b[0m \u001b[0;34m=\u001b[0m \u001b[0mplt\u001b[0m\u001b[0;34m.\u001b[0m\u001b[0mfigure\u001b[0m\u001b[0;34m(\u001b[0m\u001b[0mfigsize\u001b[0m\u001b[0;34m=\u001b[0m\u001b[0;34m(\u001b[0m\u001b[0;36m12\u001b[0m\u001b[0;34m,\u001b[0m \u001b[0;36m10\u001b[0m\u001b[0;34m)\u001b[0m\u001b[0;34m)\u001b[0m\u001b[0;34m\u001b[0m\u001b[0;34m\u001b[0m\u001b[0m\n\u001b[0m\u001b[1;32m      2\u001b[0m \u001b[0;34m\u001b[0m\u001b[0m\n\u001b[1;32m      3\u001b[0m \u001b[0mplt\u001b[0m\u001b[0;34m.\u001b[0m\u001b[0mscatter\u001b[0m\u001b[0;34m(\u001b[0m\u001b[0mage\u001b[0m\u001b[0;34m,\u001b[0m\u001b[0mht\u001b[0m\u001b[0;34m)\u001b[0m\u001b[0;34m\u001b[0m\u001b[0;34m\u001b[0m\u001b[0m\n",
      "\u001b[0;31mTypeError\u001b[0m: 'module' object is not callable"
     ]
    }
   ],
   "source": [
    "fig = plt.figure(figsize=(12, 10))\n",
    "\n",
    "plt.scatter(age,ht)"
   ]
  },
  {
   "cell_type": "code",
   "execution_count": null,
   "metadata": {},
   "outputs": [],
   "source": []
  }
 ],
 "metadata": {
  "kernelspec": {
   "display_name": "Python 3",
   "language": "python",
   "name": "python3"
  },
  "language_info": {
   "codemirror_mode": {
    "name": "ipython",
    "version": 3
   },
   "file_extension": ".py",
   "mimetype": "text/x-python",
   "name": "python",
   "nbconvert_exporter": "python",
   "pygments_lexer": "ipython3",
   "version": "3.7.6"
  }
 },
 "nbformat": 4,
 "nbformat_minor": 4
}
