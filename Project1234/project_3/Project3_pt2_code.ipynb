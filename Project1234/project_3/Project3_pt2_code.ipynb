{
 "cells": [
  {
   "cell_type": "markdown",
   "metadata": {},
   "source": [
    "# Project 3 Part 2"
   ]
  },
  {
   "cell_type": "code",
   "execution_count": 2,
   "metadata": {},
   "outputs": [],
   "source": [
    "import pandas as pd\n",
    "import numpy as np\n",
    "import matplotlib.pyplot as plt\n",
    "import nltk\n",
    "import string\n",
    "import re\n"
   ]
  },
  {
   "cell_type": "markdown",
   "metadata": {},
   "source": [
    "## Data Cleaning"
   ]
  },
  {
   "cell_type": "code",
   "execution_count": 21,
   "metadata": {},
   "outputs": [],
   "source": [
    "#read csv files\n",
    "invest_df = pd.read_csv('./datasets/ddup_investing.csv')\n",
    "fan_df = pd.read_csv('./datasets/ddup_fan.csv')"
   ]
  },
  {
   "cell_type": "code",
   "execution_count": 22,
   "metadata": {},
   "outputs": [
    {
     "data": {
      "text/plain": [
       "Unnamed: 0     0\n",
       "name           0\n",
       "subreddit      0\n",
       "title          0\n",
       "selftext      35\n",
       "dtype: int64"
      ]
     },
     "execution_count": 22,
     "metadata": {},
     "output_type": "execute_result"
    }
   ],
   "source": [
    "#see the null values for invest_df\n",
    "invest_df.isnull().sum()\n"
   ]
  },
  {
   "cell_type": "code",
   "execution_count": 23,
   "metadata": {},
   "outputs": [],
   "source": [
    "#drop null values\n",
    "invest_df=invest_df.dropna().reset_index(drop=True)\n"
   ]
  },
  {
   "cell_type": "code",
   "execution_count": 24,
   "metadata": {},
   "outputs": [
    {
     "data": {
      "text/plain": [
       "Unnamed: 0    0\n",
       "name          0\n",
       "subreddit     0\n",
       "title         0\n",
       "selftext      0\n",
       "dtype: int64"
      ]
     },
     "execution_count": 24,
     "metadata": {},
     "output_type": "execute_result"
    }
   ],
   "source": [
    "invest_df.isnull().sum()\n"
   ]
  },
  {
   "cell_type": "code",
   "execution_count": 34,
   "metadata": {},
   "outputs": [],
   "source": [
    "#drop duplicate selftext\n",
    "invest_df.drop_duplicates(subset='selftext',keep='first',inplace=True,ignore_index=True)\n"
   ]
  },
  {
   "cell_type": "code",
   "execution_count": 35,
   "metadata": {},
   "outputs": [
    {
     "data": {
      "text/plain": [
       "(923, 5)"
      ]
     },
     "execution_count": 35,
     "metadata": {},
     "output_type": "execute_result"
    }
   ],
   "source": [
    "invest_df.shape"
   ]
  },
  {
   "cell_type": "code",
   "execution_count": 25,
   "metadata": {},
   "outputs": [
    {
     "data": {
      "text/plain": [
       "Unnamed: 0     0\n",
       "name           0\n",
       "subreddit      0\n",
       "title          0\n",
       "selftext      20\n",
       "dtype: int64"
      ]
     },
     "execution_count": 25,
     "metadata": {},
     "output_type": "execute_result"
    }
   ],
   "source": [
    "#see the null values for fan_df\n",
    "fan_df.isnull().sum()"
   ]
  },
  {
   "cell_type": "code",
   "execution_count": 26,
   "metadata": {},
   "outputs": [],
   "source": [
    "#drop null values\n",
    "fan_df=fan_df.dropna().reset_index(drop=True)\n",
    "\n"
   ]
  },
  {
   "cell_type": "code",
   "execution_count": 27,
   "metadata": {},
   "outputs": [
    {
     "data": {
      "text/plain": [
       "Unnamed: 0    0\n",
       "name          0\n",
       "subreddit     0\n",
       "title         0\n",
       "selftext      0\n",
       "dtype: int64"
      ]
     },
     "execution_count": 27,
     "metadata": {},
     "output_type": "execute_result"
    }
   ],
   "source": [
    "fan_df.isnull().sum()"
   ]
  },
  {
   "cell_type": "code",
   "execution_count": 36,
   "metadata": {},
   "outputs": [],
   "source": [
    "#drop duplicate selftext\n",
    "fan_df.drop_duplicates(subset='selftext',keep='first',inplace=True,ignore_index=True)"
   ]
  },
  {
   "cell_type": "code",
   "execution_count": 37,
   "metadata": {},
   "outputs": [
    {
     "data": {
      "text/plain": [
       "(953, 5)"
      ]
     },
     "execution_count": 37,
     "metadata": {},
     "output_type": "execute_result"
    }
   ],
   "source": [
    "fan_df.shape"
   ]
  },
  {
   "cell_type": "code",
   "execution_count": 38,
   "metadata": {},
   "outputs": [],
   "source": [
    "#Combine both dataframes rows. \n",
    "comb_df = pd.concat([invest_df,fan_df]).reset_index(drop=True)\n"
   ]
  },
  {
   "cell_type": "code",
   "execution_count": 39,
   "metadata": {},
   "outputs": [],
   "source": [
    "#drop unamed column\n",
    "comb_df.drop(['Unnamed: 0'],axis=1,inplace=True)\n",
    "\n"
   ]
  },
  {
   "cell_type": "code",
   "execution_count": 40,
   "metadata": {},
   "outputs": [
    {
     "data": {
      "text/html": [
       "<div>\n",
       "<style scoped>\n",
       "    .dataframe tbody tr th:only-of-type {\n",
       "        vertical-align: middle;\n",
       "    }\n",
       "\n",
       "    .dataframe tbody tr th {\n",
       "        vertical-align: top;\n",
       "    }\n",
       "\n",
       "    .dataframe thead th {\n",
       "        text-align: right;\n",
       "    }\n",
       "</style>\n",
       "<table border=\"1\" class=\"dataframe\">\n",
       "  <thead>\n",
       "    <tr style=\"text-align: right;\">\n",
       "      <th></th>\n",
       "      <th>name</th>\n",
       "      <th>subreddit</th>\n",
       "      <th>title</th>\n",
       "      <th>selftext</th>\n",
       "    </tr>\n",
       "  </thead>\n",
       "  <tbody>\n",
       "    <tr>\n",
       "      <th>0</th>\n",
       "      <td>t3_ggfbbc</td>\n",
       "      <td>investing</td>\n",
       "      <td>This video is the simplest video that explains...</td>\n",
       "      <td># [https://youtu.be/PqiewtqGYM4](https://youtu...</td>\n",
       "    </tr>\n",
       "    <tr>\n",
       "      <th>1</th>\n",
       "      <td>t3_ggfazw</td>\n",
       "      <td>investing</td>\n",
       "      <td>Non index funds that do well when the market i...</td>\n",
       "      <td>I thought I’d try something a little different...</td>\n",
       "    </tr>\n",
       "    <tr>\n",
       "      <th>2</th>\n",
       "      <td>t3_ggf7zk</td>\n",
       "      <td>investing</td>\n",
       "      <td>What profits should we expect for a company th...</td>\n",
       "      <td>I'm new to investing and have no background in...</td>\n",
       "    </tr>\n",
       "    <tr>\n",
       "      <th>3</th>\n",
       "      <td>t3_ggeebs</td>\n",
       "      <td>investing</td>\n",
       "      <td>Daily Advice Thread - All basic help or advice...</td>\n",
       "      <td>If your question is \"I have $10,000, what do I...</td>\n",
       "    </tr>\n",
       "    <tr>\n",
       "      <th>4</th>\n",
       "      <td>t3_ggedr4</td>\n",
       "      <td>investing</td>\n",
       "      <td>Group and company f/s and consolidated statements</td>\n",
       "      <td>I can't seem to understand. The difference bet...</td>\n",
       "    </tr>\n",
       "  </tbody>\n",
       "</table>\n",
       "</div>"
      ],
      "text/plain": [
       "        name  subreddit                                              title  \\\n",
       "0  t3_ggfbbc  investing  This video is the simplest video that explains...   \n",
       "1  t3_ggfazw  investing  Non index funds that do well when the market i...   \n",
       "2  t3_ggf7zk  investing  What profits should we expect for a company th...   \n",
       "3  t3_ggeebs  investing  Daily Advice Thread - All basic help or advice...   \n",
       "4  t3_ggedr4  investing  Group and company f/s and consolidated statements   \n",
       "\n",
       "                                            selftext  \n",
       "0  # [https://youtu.be/PqiewtqGYM4](https://youtu...  \n",
       "1  I thought I’d try something a little different...  \n",
       "2  I'm new to investing and have no background in...  \n",
       "3  If your question is \"I have $10,000, what do I...  \n",
       "4  I can't seem to understand. The difference bet...  "
      ]
     },
     "execution_count": 40,
     "metadata": {},
     "output_type": "execute_result"
    }
   ],
   "source": [
    "comb_df.head()\n",
    "\n"
   ]
  },
  {
   "cell_type": "code",
   "execution_count": 41,
   "metadata": {},
   "outputs": [
    {
     "data": {
      "text/plain": [
       "FanFiction    0.507996\n",
       "investing     0.492004\n",
       "Name: subreddit, dtype: float64"
      ]
     },
     "execution_count": 41,
     "metadata": {},
     "output_type": "execute_result"
    }
   ],
   "source": [
    "comb_df['subreddit'].value_counts(normalize=True)\n",
    "\n"
   ]
  },
  {
   "cell_type": "markdown",
   "metadata": {},
   "source": [
    "The difference in proportion between fanfiction and investing is about 0.03 so it should not make too much of an impact in modeling."
   ]
  },
  {
   "cell_type": "code",
   "execution_count": 42,
   "metadata": {},
   "outputs": [],
   "source": [
    "#comine title and selftext\n",
    "comb_df['all_text'] = comb_df['title'] + comb_df['selftext']\n",
    "\n"
   ]
  },
  {
   "cell_type": "code",
   "execution_count": 43,
   "metadata": {},
   "outputs": [
    {
     "data": {
      "text/html": [
       "<div>\n",
       "<style scoped>\n",
       "    .dataframe tbody tr th:only-of-type {\n",
       "        vertical-align: middle;\n",
       "    }\n",
       "\n",
       "    .dataframe tbody tr th {\n",
       "        vertical-align: top;\n",
       "    }\n",
       "\n",
       "    .dataframe thead th {\n",
       "        text-align: right;\n",
       "    }\n",
       "</style>\n",
       "<table border=\"1\" class=\"dataframe\">\n",
       "  <thead>\n",
       "    <tr style=\"text-align: right;\">\n",
       "      <th></th>\n",
       "      <th>name</th>\n",
       "      <th>subreddit</th>\n",
       "      <th>title</th>\n",
       "      <th>selftext</th>\n",
       "      <th>all_text</th>\n",
       "    </tr>\n",
       "  </thead>\n",
       "  <tbody>\n",
       "    <tr>\n",
       "      <th>0</th>\n",
       "      <td>t3_ggfbbc</td>\n",
       "      <td>investing</td>\n",
       "      <td>This video is the simplest video that explains...</td>\n",
       "      <td># [https://youtu.be/PqiewtqGYM4](https://youtu...</td>\n",
       "      <td>This video is the simplest video that explains...</td>\n",
       "    </tr>\n",
       "    <tr>\n",
       "      <th>1</th>\n",
       "      <td>t3_ggfazw</td>\n",
       "      <td>investing</td>\n",
       "      <td>Non index funds that do well when the market i...</td>\n",
       "      <td>I thought I’d try something a little different...</td>\n",
       "      <td>Non index funds that do well when the market i...</td>\n",
       "    </tr>\n",
       "    <tr>\n",
       "      <th>2</th>\n",
       "      <td>t3_ggf7zk</td>\n",
       "      <td>investing</td>\n",
       "      <td>What profits should we expect for a company th...</td>\n",
       "      <td>I'm new to investing and have no background in...</td>\n",
       "      <td>What profits should we expect for a company th...</td>\n",
       "    </tr>\n",
       "    <tr>\n",
       "      <th>3</th>\n",
       "      <td>t3_ggeebs</td>\n",
       "      <td>investing</td>\n",
       "      <td>Daily Advice Thread - All basic help or advice...</td>\n",
       "      <td>If your question is \"I have $10,000, what do I...</td>\n",
       "      <td>Daily Advice Thread - All basic help or advice...</td>\n",
       "    </tr>\n",
       "    <tr>\n",
       "      <th>4</th>\n",
       "      <td>t3_ggedr4</td>\n",
       "      <td>investing</td>\n",
       "      <td>Group and company f/s and consolidated statements</td>\n",
       "      <td>I can't seem to understand. The difference bet...</td>\n",
       "      <td>Group and company f/s and consolidated stateme...</td>\n",
       "    </tr>\n",
       "  </tbody>\n",
       "</table>\n",
       "</div>"
      ],
      "text/plain": [
       "        name  subreddit                                              title  \\\n",
       "0  t3_ggfbbc  investing  This video is the simplest video that explains...   \n",
       "1  t3_ggfazw  investing  Non index funds that do well when the market i...   \n",
       "2  t3_ggf7zk  investing  What profits should we expect for a company th...   \n",
       "3  t3_ggeebs  investing  Daily Advice Thread - All basic help or advice...   \n",
       "4  t3_ggedr4  investing  Group and company f/s and consolidated statements   \n",
       "\n",
       "                                            selftext  \\\n",
       "0  # [https://youtu.be/PqiewtqGYM4](https://youtu...   \n",
       "1  I thought I’d try something a little different...   \n",
       "2  I'm new to investing and have no background in...   \n",
       "3  If your question is \"I have $10,000, what do I...   \n",
       "4  I can't seem to understand. The difference bet...   \n",
       "\n",
       "                                            all_text  \n",
       "0  This video is the simplest video that explains...  \n",
       "1  Non index funds that do well when the market i...  \n",
       "2  What profits should we expect for a company th...  \n",
       "3  Daily Advice Thread - All basic help or advice...  \n",
       "4  Group and company f/s and consolidated stateme...  "
      ]
     },
     "execution_count": 43,
     "metadata": {},
     "output_type": "execute_result"
    }
   ],
   "source": [
    "comb_df.head()"
   ]
  },
  {
   "cell_type": "code",
   "execution_count": 44,
   "metadata": {},
   "outputs": [
    {
     "data": {
      "text/plain": [
       "(1876, 5)"
      ]
     },
     "execution_count": 44,
     "metadata": {},
     "output_type": "execute_result"
    }
   ],
   "source": [
    "comb_df.shape"
   ]
  },
  {
   "cell_type": "code",
   "execution_count": null,
   "metadata": {},
   "outputs": [],
   "source": []
  }
 ],
 "metadata": {
  "kernelspec": {
   "display_name": "Python 3",
   "language": "python",
   "name": "python3"
  },
  "language_info": {
   "codemirror_mode": {
    "name": "ipython",
    "version": 3
   },
   "file_extension": ".py",
   "mimetype": "text/x-python",
   "name": "python",
   "nbconvert_exporter": "python",
   "pygments_lexer": "ipython3",
   "version": "3.7.6"
  }
 },
 "nbformat": 4,
 "nbformat_minor": 4
}
