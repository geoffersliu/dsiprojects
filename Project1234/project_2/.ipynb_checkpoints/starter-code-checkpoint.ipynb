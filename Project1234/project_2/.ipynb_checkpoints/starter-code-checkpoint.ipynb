{
 "cells": [
  {
   "cell_type": "markdown",
   "metadata": {},
   "source": [
    "# Project 2 - Ames Housing Data and Kaggle Challenge"
   ]
  },
  {
   "cell_type": "markdown",
   "metadata": {},
   "source": [
    "## Problem Statement\n",
    "Use 25-30 predictors in your model"
   ]
  },
  {
   "cell_type": "markdown",
   "metadata": {},
   "source": [
    "## Executive Summary"
   ]
  },
  {
   "cell_type": "markdown",
   "metadata": {},
   "source": [
    "### Contents:\n",
    "- [Data Import & Cleaning](#Data-Import-and-Cleaning)\n",
    "- [Exploratory Data Analysis](#Exploratory-Data-Analysis)\n",
    "- [Feature Engineering](#Feature-Engineering)"
   ]
  },
  {
   "cell_type": "code",
   "execution_count": 1,
   "metadata": {},
   "outputs": [],
   "source": [
    "#Imports:\n",
    "import numpy as np\n",
    "import pandas as pd\n",
    "import scipy.stats as stats\n",
    "import seaborn as sns\n",
    "import matplotlib.pyplot as plt\n",
    "from sklearn.preprocessing import PolynomialFeatures, StandardScaler\n",
    "from sklearn.linear_model import LinearRegression, LassoCV, RidgeCV, Lasso, Ridge,  ElasticNet\n",
    "from sklearn.model_selection import train_test_split, cross_val_score, KFold\n",
    "\n",
    "pd.set_option('display.max_columns', None)\n",
    "pd.set_option('display.max_rows', None)\n",
    "\n",
    "\n",
    "sns.set_style('whitegrid')\n",
    "\n",
    "%config InlineBackend.figure_format = 'retina'\n",
    "%matplotlib inline\n",
    "\n"
   ]
  },
  {
   "cell_type": "markdown",
   "metadata": {},
   "source": [
    "## Data Import and Cleaning"
   ]
  },
  {
   "cell_type": "code",
   "execution_count": 2,
   "metadata": {},
   "outputs": [],
   "source": [
    "sample = pd.read_csv('./datasets/sample_sub_reg.csv',keep_default_na=False) #assign sample_sub_reg.csv to sample\n",
    "test = pd.read_csv('./datasets/test.csv',keep_default_na=False) #assign test.csv to test\n",
    "train = pd.read_csv('./datasets/train.csv',keep_default_na=False) #assign train.csv to train\n"
   ]
  },
  {
   "cell_type": "code",
   "execution_count": 3,
   "metadata": {},
   "outputs": [],
   "source": [
    "# Changing train column names to lower case strings and using '_' for spaces\n",
    "train.columns = [col.lower() for col in train.columns] \n",
    "train.columns = [col.replace(' ','_') for col in train.columns]\n"
   ]
  },
  {
   "cell_type": "code",
   "execution_count": 4,
   "metadata": {},
   "outputs": [],
   "source": [
    "# Changing test column names to lower case strings and using '_' for spaces\n",
    "test.columns = [col.lower() for col in test.columns] \n",
    "test.columns = [col.replace(' ','_') for col in test.columns]\n"
   ]
  },
  {
   "cell_type": "code",
   "execution_count": 5,
   "metadata": {},
   "outputs": [
    {
     "data": {
      "text/plain": [
       "439.5"
      ]
     },
     "execution_count": 5,
     "metadata": {},
     "output_type": "execute_result"
    }
   ],
   "source": [
    "879/2 #calculate 50% of each column total entries\n"
   ]
  },
  {
   "cell_type": "code",
   "execution_count": 6,
   "metadata": {},
   "outputs": [],
   "source": [
    "#train.info()"
   ]
  },
  {
   "cell_type": "code",
   "execution_count": 7,
   "metadata": {},
   "outputs": [
    {
     "name": "stdout",
     "output_type": "stream",
     "text": [
      "[  0 176 224 162 168 120 407 144 150 255 508 180 140  96 323 153  86 216\n",
      " 245 182 290 304]\n",
      "[  0 176 224 162 168 120 407 144 150 255 508 180 140  96 323 153  86 216\n",
      " 245 182 290 304]\n"
     ]
    }
   ],
   "source": [
    "print(train['3ssn_porch'].unique())\n",
    "print(train['3ssn_porch'].unique())"
   ]
  },
  {
   "cell_type": "code",
   "execution_count": 8,
   "metadata": {},
   "outputs": [],
   "source": [
    "#convert train columns with pd.to_numeric()\n",
    "train[['lot_frontage', 'lot_area','mas_vnr_area', 'bsmtfin_sf_1', 'bsmtfin_sf_2', 'bsmt_unf_sf',\n",
    "       'total_bsmt_sf', '1st_flr_sf', '2nd_flr_sf','low_qual_fin_sf', 'gr_liv_area', 'garage_cars', \n",
    "       'garage_area', 'wood_deck_sf', 'open_porch_sf', 'enclosed_porch', '3ssn_porch', 'screen_porch',\n",
    "       'pool_area', 'misc_val','mo_sold', 'yr_sold', 'saleprice', 'bsmt_full_bath', 'bsmt_half_bath', 'full_bath', 'half_bath', \n",
    "       'bedroom_abvgr', 'kitchen_abvgr', 'totrms_abvgrd', 'fireplaces','year_built','year_remod/add','garage_yr_blt','overall_qual','overall_cond']] = train[['lot_frontage', \n",
    "       'lot_area','mas_vnr_area', 'bsmtfin_sf_1', 'bsmtfin_sf_2', 'bsmt_unf_sf',\n",
    "       'total_bsmt_sf', '1st_flr_sf', '2nd_flr_sf','low_qual_fin_sf', 'gr_liv_area', 'garage_cars', \n",
    "       'garage_area', 'wood_deck_sf', 'open_porch_sf', 'enclosed_porch', '3ssn_porch', 'screen_porch',\n",
    "       'pool_area', 'misc_val','mo_sold', 'yr_sold', 'saleprice', 'bsmt_full_bath', 'bsmt_half_bath', 'full_bath', 'half_bath', \n",
    "       'bedroom_abvgr', 'kitchen_abvgr', 'totrms_abvgrd', 'fireplaces','year_built','year_remod/add',\n",
    "       'garage_yr_blt','overall_qual','overall_cond']].apply(pd.to_numeric) \n",
    "                   "
   ]
  },
  {
   "cell_type": "code",
   "execution_count": 9,
   "metadata": {},
   "outputs": [],
   "source": [
    "#convert numerical columns to float\n",
    "train[['lot_frontage', 'lot_area','mas_vnr_area', 'bsmtfin_sf_1', 'bsmtfin_sf_2', 'bsmt_unf_sf',\n",
    "       'total_bsmt_sf', '1st_flr_sf', '2nd_flr_sf','low_qual_fin_sf', 'gr_liv_area', \n",
    "       'garage_area', 'wood_deck_sf', 'open_porch_sf', 'enclosed_porch', '3ssn_porch', 'screen_porch',\n",
    "       'pool_area', 'misc_val', 'saleprice']] = train[['lot_frontage', 'lot_area','mas_vnr_area', 'bsmtfin_sf_1', 'bsmtfin_sf_2', 'bsmt_unf_sf',\n",
    "       'total_bsmt_sf', '1st_flr_sf', '2nd_flr_sf','low_qual_fin_sf', 'gr_liv_area', \n",
    "       'garage_area', 'wood_deck_sf', 'open_porch_sf', 'enclosed_porch', '3ssn_porch', 'screen_porch',\n",
    "       'pool_area', 'misc_val', 'saleprice']].astype(float)\n"
   ]
  },
  {
   "cell_type": "code",
   "execution_count": 10,
   "metadata": {},
   "outputs": [
    {
     "ename": "ValueError",
     "evalue": "Cannot convert non-finite values (NA or inf) to integer",
     "output_type": "error",
     "traceback": [
      "\u001b[0;31m---------------------------------------------------------------------------\u001b[0m",
      "\u001b[0;31mValueError\u001b[0m                                Traceback (most recent call last)",
      "\u001b[0;32m<ipython-input-10-3664ef890d84>\u001b[0m in \u001b[0;36m<module>\u001b[0;34m\u001b[0m\n\u001b[1;32m      4\u001b[0m        \u001b[0;34m'garage_cars'\u001b[0m\u001b[0;34m]\u001b[0m\u001b[0;34m]\u001b[0m \u001b[0;34m=\u001b[0m \u001b[0mtrain\u001b[0m\u001b[0;34m[\u001b[0m\u001b[0;34m[\u001b[0m\u001b[0;34m'year_built'\u001b[0m\u001b[0;34m,\u001b[0m\u001b[0;34m'year_remod/add'\u001b[0m\u001b[0;34m,\u001b[0m\u001b[0;34m'bsmt_full_bath'\u001b[0m\u001b[0;34m,\u001b[0m\u001b[0;34m'bsmt_half_bath'\u001b[0m\u001b[0;34m,\u001b[0m\u001b[0;34m'full_bath'\u001b[0m\u001b[0;34m,\u001b[0m\u001b[0;34m\u001b[0m\u001b[0;34m\u001b[0m\u001b[0m\n\u001b[1;32m      5\u001b[0m        \u001b[0;34m'half_bath'\u001b[0m\u001b[0;34m,\u001b[0m\u001b[0;34m'bedroom_abvgr'\u001b[0m\u001b[0;34m,\u001b[0m\u001b[0;34m'kitchen_abvgr'\u001b[0m\u001b[0;34m,\u001b[0m\u001b[0;34m'totrms_abvgrd'\u001b[0m\u001b[0;34m,\u001b[0m\u001b[0;34m'fireplaces'\u001b[0m\u001b[0;34m,\u001b[0m\u001b[0;34m'garage_yr_blt'\u001b[0m\u001b[0;34m,\u001b[0m\u001b[0;34m\u001b[0m\u001b[0;34m\u001b[0m\u001b[0m\n\u001b[0;32m----> 6\u001b[0;31m        'garage_cars']].astype(int)\n\u001b[0m",
      "\u001b[0;32m~/opt/anaconda3/lib/python3.7/site-packages/pandas/core/generic.py\u001b[0m in \u001b[0;36mastype\u001b[0;34m(self, dtype, copy, errors)\u001b[0m\n\u001b[1;32m   5696\u001b[0m         \u001b[0;32melse\u001b[0m\u001b[0;34m:\u001b[0m\u001b[0;34m\u001b[0m\u001b[0;34m\u001b[0m\u001b[0m\n\u001b[1;32m   5697\u001b[0m             \u001b[0;31m# else, only a single dtype is given\u001b[0m\u001b[0;34m\u001b[0m\u001b[0;34m\u001b[0m\u001b[0;34m\u001b[0m\u001b[0m\n\u001b[0;32m-> 5698\u001b[0;31m             \u001b[0mnew_data\u001b[0m \u001b[0;34m=\u001b[0m \u001b[0mself\u001b[0m\u001b[0;34m.\u001b[0m\u001b[0m_data\u001b[0m\u001b[0;34m.\u001b[0m\u001b[0mastype\u001b[0m\u001b[0;34m(\u001b[0m\u001b[0mdtype\u001b[0m\u001b[0;34m=\u001b[0m\u001b[0mdtype\u001b[0m\u001b[0;34m,\u001b[0m \u001b[0mcopy\u001b[0m\u001b[0;34m=\u001b[0m\u001b[0mcopy\u001b[0m\u001b[0;34m,\u001b[0m \u001b[0merrors\u001b[0m\u001b[0;34m=\u001b[0m\u001b[0merrors\u001b[0m\u001b[0;34m)\u001b[0m\u001b[0;34m\u001b[0m\u001b[0;34m\u001b[0m\u001b[0m\n\u001b[0m\u001b[1;32m   5699\u001b[0m             \u001b[0;32mreturn\u001b[0m \u001b[0mself\u001b[0m\u001b[0;34m.\u001b[0m\u001b[0m_constructor\u001b[0m\u001b[0;34m(\u001b[0m\u001b[0mnew_data\u001b[0m\u001b[0;34m)\u001b[0m\u001b[0;34m.\u001b[0m\u001b[0m__finalize__\u001b[0m\u001b[0;34m(\u001b[0m\u001b[0mself\u001b[0m\u001b[0;34m)\u001b[0m\u001b[0;34m\u001b[0m\u001b[0;34m\u001b[0m\u001b[0m\n\u001b[1;32m   5700\u001b[0m \u001b[0;34m\u001b[0m\u001b[0m\n",
      "\u001b[0;32m~/opt/anaconda3/lib/python3.7/site-packages/pandas/core/internals/managers.py\u001b[0m in \u001b[0;36mastype\u001b[0;34m(self, dtype, copy, errors)\u001b[0m\n\u001b[1;32m    580\u001b[0m \u001b[0;34m\u001b[0m\u001b[0m\n\u001b[1;32m    581\u001b[0m     \u001b[0;32mdef\u001b[0m \u001b[0mastype\u001b[0m\u001b[0;34m(\u001b[0m\u001b[0mself\u001b[0m\u001b[0;34m,\u001b[0m \u001b[0mdtype\u001b[0m\u001b[0;34m,\u001b[0m \u001b[0mcopy\u001b[0m\u001b[0;34m:\u001b[0m \u001b[0mbool\u001b[0m \u001b[0;34m=\u001b[0m \u001b[0;32mFalse\u001b[0m\u001b[0;34m,\u001b[0m \u001b[0merrors\u001b[0m\u001b[0;34m:\u001b[0m \u001b[0mstr\u001b[0m \u001b[0;34m=\u001b[0m \u001b[0;34m\"raise\"\u001b[0m\u001b[0;34m)\u001b[0m\u001b[0;34m:\u001b[0m\u001b[0;34m\u001b[0m\u001b[0;34m\u001b[0m\u001b[0m\n\u001b[0;32m--> 582\u001b[0;31m         \u001b[0;32mreturn\u001b[0m \u001b[0mself\u001b[0m\u001b[0;34m.\u001b[0m\u001b[0mapply\u001b[0m\u001b[0;34m(\u001b[0m\u001b[0;34m\"astype\"\u001b[0m\u001b[0;34m,\u001b[0m \u001b[0mdtype\u001b[0m\u001b[0;34m=\u001b[0m\u001b[0mdtype\u001b[0m\u001b[0;34m,\u001b[0m \u001b[0mcopy\u001b[0m\u001b[0;34m=\u001b[0m\u001b[0mcopy\u001b[0m\u001b[0;34m,\u001b[0m \u001b[0merrors\u001b[0m\u001b[0;34m=\u001b[0m\u001b[0merrors\u001b[0m\u001b[0;34m)\u001b[0m\u001b[0;34m\u001b[0m\u001b[0;34m\u001b[0m\u001b[0m\n\u001b[0m\u001b[1;32m    583\u001b[0m \u001b[0;34m\u001b[0m\u001b[0m\n\u001b[1;32m    584\u001b[0m     \u001b[0;32mdef\u001b[0m \u001b[0mconvert\u001b[0m\u001b[0;34m(\u001b[0m\u001b[0mself\u001b[0m\u001b[0;34m,\u001b[0m \u001b[0;34m**\u001b[0m\u001b[0mkwargs\u001b[0m\u001b[0;34m)\u001b[0m\u001b[0;34m:\u001b[0m\u001b[0;34m\u001b[0m\u001b[0;34m\u001b[0m\u001b[0m\n",
      "\u001b[0;32m~/opt/anaconda3/lib/python3.7/site-packages/pandas/core/internals/managers.py\u001b[0m in \u001b[0;36mapply\u001b[0;34m(self, f, filter, **kwargs)\u001b[0m\n\u001b[1;32m    440\u001b[0m                 \u001b[0mapplied\u001b[0m \u001b[0;34m=\u001b[0m \u001b[0mb\u001b[0m\u001b[0;34m.\u001b[0m\u001b[0mapply\u001b[0m\u001b[0;34m(\u001b[0m\u001b[0mf\u001b[0m\u001b[0;34m,\u001b[0m \u001b[0;34m**\u001b[0m\u001b[0mkwargs\u001b[0m\u001b[0;34m)\u001b[0m\u001b[0;34m\u001b[0m\u001b[0;34m\u001b[0m\u001b[0m\n\u001b[1;32m    441\u001b[0m             \u001b[0;32melse\u001b[0m\u001b[0;34m:\u001b[0m\u001b[0;34m\u001b[0m\u001b[0;34m\u001b[0m\u001b[0m\n\u001b[0;32m--> 442\u001b[0;31m                 \u001b[0mapplied\u001b[0m \u001b[0;34m=\u001b[0m \u001b[0mgetattr\u001b[0m\u001b[0;34m(\u001b[0m\u001b[0mb\u001b[0m\u001b[0;34m,\u001b[0m \u001b[0mf\u001b[0m\u001b[0;34m)\u001b[0m\u001b[0;34m(\u001b[0m\u001b[0;34m**\u001b[0m\u001b[0mkwargs\u001b[0m\u001b[0;34m)\u001b[0m\u001b[0;34m\u001b[0m\u001b[0;34m\u001b[0m\u001b[0m\n\u001b[0m\u001b[1;32m    443\u001b[0m             \u001b[0mresult_blocks\u001b[0m \u001b[0;34m=\u001b[0m \u001b[0m_extend_blocks\u001b[0m\u001b[0;34m(\u001b[0m\u001b[0mapplied\u001b[0m\u001b[0;34m,\u001b[0m \u001b[0mresult_blocks\u001b[0m\u001b[0;34m)\u001b[0m\u001b[0;34m\u001b[0m\u001b[0;34m\u001b[0m\u001b[0m\n\u001b[1;32m    444\u001b[0m \u001b[0;34m\u001b[0m\u001b[0m\n",
      "\u001b[0;32m~/opt/anaconda3/lib/python3.7/site-packages/pandas/core/internals/blocks.py\u001b[0m in \u001b[0;36mastype\u001b[0;34m(self, dtype, copy, errors)\u001b[0m\n\u001b[1;32m    623\u001b[0m             \u001b[0mvals1d\u001b[0m \u001b[0;34m=\u001b[0m \u001b[0mvalues\u001b[0m\u001b[0;34m.\u001b[0m\u001b[0mravel\u001b[0m\u001b[0;34m(\u001b[0m\u001b[0;34m)\u001b[0m\u001b[0;34m\u001b[0m\u001b[0;34m\u001b[0m\u001b[0m\n\u001b[1;32m    624\u001b[0m             \u001b[0;32mtry\u001b[0m\u001b[0;34m:\u001b[0m\u001b[0;34m\u001b[0m\u001b[0;34m\u001b[0m\u001b[0m\n\u001b[0;32m--> 625\u001b[0;31m                 \u001b[0mvalues\u001b[0m \u001b[0;34m=\u001b[0m \u001b[0mastype_nansafe\u001b[0m\u001b[0;34m(\u001b[0m\u001b[0mvals1d\u001b[0m\u001b[0;34m,\u001b[0m \u001b[0mdtype\u001b[0m\u001b[0;34m,\u001b[0m \u001b[0mcopy\u001b[0m\u001b[0;34m=\u001b[0m\u001b[0;32mTrue\u001b[0m\u001b[0;34m)\u001b[0m\u001b[0;34m\u001b[0m\u001b[0;34m\u001b[0m\u001b[0m\n\u001b[0m\u001b[1;32m    626\u001b[0m             \u001b[0;32mexcept\u001b[0m \u001b[0;34m(\u001b[0m\u001b[0mValueError\u001b[0m\u001b[0;34m,\u001b[0m \u001b[0mTypeError\u001b[0m\u001b[0;34m)\u001b[0m\u001b[0;34m:\u001b[0m\u001b[0;34m\u001b[0m\u001b[0;34m\u001b[0m\u001b[0m\n\u001b[1;32m    627\u001b[0m                 \u001b[0;31m# e.g. astype_nansafe can fail on object-dtype of strings\u001b[0m\u001b[0;34m\u001b[0m\u001b[0;34m\u001b[0m\u001b[0;34m\u001b[0m\u001b[0m\n",
      "\u001b[0;32m~/opt/anaconda3/lib/python3.7/site-packages/pandas/core/dtypes/cast.py\u001b[0m in \u001b[0;36mastype_nansafe\u001b[0;34m(arr, dtype, copy, skipna)\u001b[0m\n\u001b[1;32m    866\u001b[0m \u001b[0;34m\u001b[0m\u001b[0m\n\u001b[1;32m    867\u001b[0m         \u001b[0;32mif\u001b[0m \u001b[0;32mnot\u001b[0m \u001b[0mnp\u001b[0m\u001b[0;34m.\u001b[0m\u001b[0misfinite\u001b[0m\u001b[0;34m(\u001b[0m\u001b[0marr\u001b[0m\u001b[0;34m)\u001b[0m\u001b[0;34m.\u001b[0m\u001b[0mall\u001b[0m\u001b[0;34m(\u001b[0m\u001b[0;34m)\u001b[0m\u001b[0;34m:\u001b[0m\u001b[0;34m\u001b[0m\u001b[0;34m\u001b[0m\u001b[0m\n\u001b[0;32m--> 868\u001b[0;31m             \u001b[0;32mraise\u001b[0m \u001b[0mValueError\u001b[0m\u001b[0;34m(\u001b[0m\u001b[0;34m\"Cannot convert non-finite values (NA or inf) to integer\"\u001b[0m\u001b[0;34m)\u001b[0m\u001b[0;34m\u001b[0m\u001b[0;34m\u001b[0m\u001b[0m\n\u001b[0m\u001b[1;32m    869\u001b[0m \u001b[0;34m\u001b[0m\u001b[0m\n\u001b[1;32m    870\u001b[0m     \u001b[0;32melif\u001b[0m \u001b[0mis_object_dtype\u001b[0m\u001b[0;34m(\u001b[0m\u001b[0marr\u001b[0m\u001b[0;34m)\u001b[0m\u001b[0;34m:\u001b[0m\u001b[0;34m\u001b[0m\u001b[0;34m\u001b[0m\u001b[0m\n",
      "\u001b[0;31mValueError\u001b[0m: Cannot convert non-finite values (NA or inf) to integer"
     ]
    }
   ],
   "source": [
    "#convert train columns to int\n",
    "train[['year_built','year_remod/add','bsmt_full_bath','bsmt_half_bath','full_bath',\n",
    "       'half_bath','bedroom_abvgr','kitchen_abvgr','totrms_abvgrd','fireplaces','garage_yr_blt',\n",
    "       'garage_cars']] = train[['year_built','year_remod/add','bsmt_full_bath','bsmt_half_bath','full_bath',\n",
    "       'half_bath','bedroom_abvgr','kitchen_abvgr','totrms_abvgrd','fireplaces','garage_yr_blt',\n",
    "       'garage_cars']].astype(int)"
   ]
  },
  {
   "cell_type": "code",
   "execution_count": null,
   "metadata": {},
   "outputs": [],
   "source": [
    "#convert train columns to object\n",
    "train[['ms_subclass', 'ms_zoning', 'street', 'alley', 'lot_shape' ,'land_contour','utilities','lot_config','land_slope',\n",
    "'neighborhood' ,'condition_1' ,'condition_2' ,'bldg_type' ,'house_style',\n",
    "'roof_style','roof_matl','exterior_1st','exterior_2nd','mas_vnr_type','exter_qual','exter_cond','foundation','bsmt_qual','bsmt_cond',\n",
    "'bsmt_exposure','bsmtfin_type_1','bsmtfin_type_2','heating','heating_qc','central_air','electrical','kitchen_qual','functional',\n",
    "'fireplace_qu','garage_type','garage_finish','garage_qual','garage_cond','paved_drive','pool_qc','fence','misc_feature',\n",
    "'sale_type']] = train[['ms_subclass', 'ms_zoning', 'street', 'alley', 'lot_shape' ,'land_contour','utilities','lot_config','land_slope',\n",
    "'neighborhood' ,'condition_1' ,'condition_2' ,'bldg_type' ,'house_style',\n",
    "'roof_style','roof_matl','exterior_1st','exterior_2nd','mas_vnr_type','exter_qual','exter_cond','foundation','bsmt_qual','bsmt_cond',\n",
    "'bsmt_exposure','bsmtfin_type_1','bsmtfin_type_2','heating','heating_qc','central_air','electrical','kitchen_qual','functional',\n",
    "'fireplace_qu','garage_type','garage_finish','garage_qual','garage_cond','paved_drive','pool_qc','fence','misc_feature',\n",
    "'sale_type']].astype(str)\n"
   ]
  },
  {
   "cell_type": "code",
   "execution_count": null,
   "metadata": {},
   "outputs": [],
   "source": [
    "#Replace '' values in rows with np.nan\n",
    "train = train.replace('',np.nan)\n"
   ]
  },
  {
   "cell_type": "code",
   "execution_count": null,
   "metadata": {},
   "outputs": [],
   "source": [
    "#convert test columns with pd.to_numeric()\n",
    "test[['lot_frontage', 'lot_area','mas_vnr_area', 'bsmtfin_sf_1', 'bsmtfin_sf_2', 'bsmt_unf_sf',\n",
    "       'total_bsmt_sf', '1st_flr_sf', '2nd_flr_sf','low_qual_fin_sf', 'gr_liv_area', 'garage_cars', \n",
    "       'garage_area', 'wood_deck_sf', 'open_porch_sf', 'enclosed_porch', '3ssn_porch', 'screen_porch',\n",
    "       'pool_area', 'misc_val','mo_sold', 'yr_sold', 'bsmt_full_bath', 'bsmt_half_bath', 'full_bath', 'half_bath', \n",
    "       'bedroom_abvgr', 'kitchen_abvgr', 'totrms_abvgrd', 'fireplaces','year_built','year_remod/add','garage_yr_blt',\n",
    "       'overall_qual','overall_cond']] = test[['lot_frontage', \n",
    "       'lot_area','mas_vnr_area', 'bsmtfin_sf_1', 'bsmtfin_sf_2', 'bsmt_unf_sf',\n",
    "       'total_bsmt_sf', '1st_flr_sf', '2nd_flr_sf','low_qual_fin_sf', 'gr_liv_area', 'garage_cars', \n",
    "       'garage_area', 'wood_deck_sf', 'open_porch_sf', 'enclosed_porch', '3ssn_porch', 'screen_porch',\n",
    "       'pool_area', 'misc_val','mo_sold', 'yr_sold', 'bsmt_full_bath', 'bsmt_half_bath', 'full_bath', 'half_bath', \n",
    "       'bedroom_abvgr', 'kitchen_abvgr', 'totrms_abvgrd', 'fireplaces','year_built',\n",
    "       'year_remod/add','garage_yr_blt','overall_qual','overall_cond']].apply(pd.to_numeric) \n",
    "\n"
   ]
  },
  {
   "cell_type": "code",
   "execution_count": null,
   "metadata": {},
   "outputs": [],
   "source": [
    "#convert numerical columns to float\n",
    "test[['lot_frontage', 'lot_area','mas_vnr_area', 'bsmtfin_sf_1', 'bsmtfin_sf_2', 'bsmt_unf_sf',\n",
    "       'total_bsmt_sf', '1st_flr_sf', '2nd_flr_sf','low_qual_fin_sf', 'gr_liv_area', \n",
    "       'garage_area', 'wood_deck_sf', 'open_porch_sf', 'enclosed_porch', '3ssn_porch', 'screen_porch',\n",
    "       'pool_area', 'misc_val']] = test[['lot_frontage', 'lot_area','mas_vnr_area', 'bsmtfin_sf_1', 'bsmtfin_sf_2', 'bsmt_unf_sf',\n",
    "       'total_bsmt_sf', '1st_flr_sf', '2nd_flr_sf','low_qual_fin_sf', 'gr_liv_area', \n",
    "       'garage_area', 'wood_deck_sf', 'open_porch_sf', 'enclosed_porch', '3ssn_porch', 'screen_porch',\n",
    "       'pool_area', 'misc_val']].astype(float)\n",
    "\n"
   ]
  },
  {
   "cell_type": "code",
   "execution_count": null,
   "metadata": {},
   "outputs": [],
   "source": [
    "#convert test columns to int\n",
    "test[['year_built','year_remod/add','bsmt_full_bath','bsmt_half_bath','full_bath',\n",
    "       'half_bath','bedroom_abvgr','kitchen_abvgr','totrms_abvgrd','fireplaces','garage_yr_blt',\n",
    "       'garage_cars']] = test[['year_built','year_remod/add','bsmt_full_bath','bsmt_half_bath','full_bath',\n",
    "       'half_bath','bedroom_abvgr','kitchen_abvgr','totrms_abvgrd','fireplaces','garage_yr_blt',\n",
    "       'garage_cars']].astype(int)"
   ]
  },
  {
   "cell_type": "code",
   "execution_count": null,
   "metadata": {},
   "outputs": [],
   "source": [
    "#convert test columns to object\n",
    "test[['ms_subclass', 'ms_zoning', 'street', 'alley', 'lot_shape' ,'land_contour','utilities','lot_config','land_slope',\n",
    "'neighborhood' ,'condition_1' ,'condition_2' ,'bldg_type' ,'house_style',\n",
    "'roof_style','roof_matl','exterior_1st','exterior_2nd','mas_vnr_type','exter_qual','exter_cond','foundation','bsmt_qual','bsmt_cond',\n",
    "'bsmt_exposure','bsmtfin_type_1','bsmtfin_type_2','heating','heating_qc','central_air','electrical','kitchen_qual','functional',\n",
    "'fireplace_qu','garage_type','garage_finish','garage_qual','garage_cond','paved_drive','pool_qc','fence','misc_feature',\n",
    "'sale_type']] = test[['ms_subclass', 'ms_zoning', 'street', 'alley', 'lot_shape' ,'land_contour','utilities','lot_config','land_slope',\n",
    "'neighborhood' ,'condition_1' ,'condition_2' ,'bldg_type' ,'house_style',\n",
    "'roof_style','roof_matl','exterior_1st','exterior_2nd','mas_vnr_type','exter_qual','exter_cond','foundation','bsmt_qual','bsmt_cond',\n",
    "'bsmt_exposure','bsmtfin_type_1','bsmtfin_type_2','heating','heating_qc','central_air','electrical','kitchen_qual','functional',\n",
    "'fireplace_qu','garage_type','garage_finish','garage_qual','garage_cond','paved_drive','pool_qc','fence','misc_feature',\n",
    "'sale_type']].astype(str)\n",
    "\n"
   ]
  },
  {
   "cell_type": "code",
   "execution_count": null,
   "metadata": {},
   "outputs": [],
   "source": [
    "#Replace '' values in rows with np.nan\n",
    "test = test.replace('',np.nan)\n"
   ]
  },
  {
   "cell_type": "code",
   "execution_count": null,
   "metadata": {},
   "outputs": [],
   "source": [
    "train.info()"
   ]
  },
  {
   "cell_type": "code",
   "execution_count": null,
   "metadata": {},
   "outputs": [],
   "source": [
    "train.corr()['saleprice'].sort_values(ascending=False)"
   ]
  },
  {
   "cell_type": "code",
   "execution_count": null,
   "metadata": {},
   "outputs": [],
   "source": [
    "#columns to consider dropping \n",
    "#ID and PID can be dropped as they are just unique identifiers\n",
    "#enclosed_porch has 1724 value 0\n",
    "#3ssn_porch has 2025 rows value 0\n",
    "#enclosed_porch has 1870 value 0\n",
    "#year_remod/add has a strong corr with year built and we will use year built instead\n",
    "#bsmtfin_sf_2 has 1803 value 0 and bsmtfin_type_2 is related to it so will drop both\n",
    "#1st_flr_sf and 2nd_flr_sf are actually summed to create gr_liv_area so they will be dropped\n",
    "#low_qual_fin_sf has 2018 value 0, could mean most ames house do not have low quality finishings or data is not reliale\n",
    "#bsmt_full_bath has 1200 value 0\n",
    "#bsmt_half_bath has 1923 value 0\n",
    "#wood_deck_sf has 1075 value 0\n",
    "#pool_area has has 2042 value 0\n",
    "#misc_val has 1986 value 0 and misc_feature is corresponding nominal column so both will drop\n"
   ]
  },
  {
   "cell_type": "code",
   "execution_count": null,
   "metadata": {},
   "outputs": [],
   "source": [
    "#1 row in test with kitchen qual 'Po'\n",
    "test[test['kitchen_qual']=='Po']\n"
   ]
  },
  {
   "cell_type": "code",
   "execution_count": null,
   "metadata": {},
   "outputs": [],
   "source": [
    "#Dropping values in test ordinal columns not found in train ordinal columns and only 1 test row has value 'Po' \n",
    "test.drop(test.index[test['kitchen_qual'] == 'Po'], inplace = True)\n",
    "\n"
   ]
  },
  {
   "cell_type": "code",
   "execution_count": null,
   "metadata": {},
   "outputs": [],
   "source": [
    "#Mapping object columns to ordinal categorizing\n",
    "#overall_qual, overall_cond,\n",
    "train['lot_shape']= train['lot_shape'].map({'IR1':2, 'IR2':1, 'IR3':0, 'Reg':3})\n",
    "test['lot_shape']= test['lot_shape'].map({'IR1':2, 'IR2':1, 'IR3':0, 'Reg':3})\n",
    "\n",
    "train['utilities']= train['utilities'].map({'AllPub':2, 'NoSeWa':0, 'NoSewr':1})\n",
    "test['utilities']= test['utilities'].map({'AllPub':2, 'NoSeWa':0, 'NoSewr':1})\n",
    "\n",
    "train['land_slope']= train['land_slope'].map({'Gtl':2, 'Mod':1, 'Sev':0})\n",
    "test['land_slope']= test['land_slope'].map({'Gtl':2, 'Mod':1, 'Sev':0})\n",
    "\n",
    "train['exter_qual']= train['exter_qual'].map({'Gd':3, 'TA':1, 'Ex':2,'Fa':0})\n",
    "test['exter_qual']= test['exter_qual'].map({'Gd':3, 'TA':1, 'Ex':2, 'Fa':0})\n",
    "\n",
    "train['exter_cond']= train['exter_cond'].map({'TA':2, 'Gd':3, 'Fa':1, 'Ex':4, 'Po':0})\n",
    "test['exter_cond']= test['exter_cond'].map({'TA':2, 'Gd':3, 'Fa':1, 'Ex':4, 'Po':0})\n",
    "\n",
    "train['bsmt_qual']= train['bsmt_qual'].map({'TA':3, 'Gd':4, 'Fa':2, 'NA':0, 'Ex':5,'Po':1}) #has nan\n",
    "test['bsmt_qual']= test['bsmt_qual'].map({'TA':3, 'Gd':4, 'Fa':2, 'NA':0, 'Ex':5,'Po':1})\n",
    "\n",
    "train['bsmt_cond']= train['bsmt_cond'].map({'TA':3, 'Gd':4, 'Fa':2, 'NA':0, 'Ex':5,'Po':1}) #has nan\n",
    "test['bsmt_cond']= test['bsmt_cond'].map({'TA':3, 'Gd':4, 'Fa':2, 'NA':0, 'Ex':5,'Po':1})\n",
    "\n",
    "train['bsmt_exposure']= train['bsmt_exposure'].map({'No':1, 'Gd':4, 'Av':3, 'NA':0, 'Mn':2}) #has nan\n",
    "test['bsmt_exposure']= test['bsmt_exposure'].map({'No':1, 'Gd':4, 'Av':3, 'NA':0, 'Mn':2})\n",
    "\n",
    "train['bsmtfin_type_1']= train['bsmtfin_type_1'].map({'GLQ':6, 'Unf':1, 'ALQ':5, 'Rec':3, 'NA':0, 'BLQ':4, 'LwQ':2}) #has nan\n",
    "test['bsmtfin_type_1']= test['bsmtfin_type_1'].map({'GLQ':6, 'Unf':1, 'ALQ':5, 'Rec':3, 'NA':0, 'BLQ':4, 'LwQ':2})\n",
    "\n",
    "train['bsmtfin_type_2']= train['bsmtfin_type_2'].map({'Unf':1, 'Rec':3, 'NA':0, 'BLQ':4, 'GLQ':6, 'LwQ':2, 'ALQ':5}) #has nan\n",
    "test['bsmtfin_type_2']= test['bsmtfin_type_2'].map({'Unf':1, 'Rec':3, 'NA':0, 'BLQ':4, 'GLQ':6, 'LwQ':2, 'ALQ':5})\n",
    "\n",
    "train['heating_qc']= train['heating_qc'].map({'Ex':4 ,'TA':2 ,'Gd':3 ,'Fa':1 ,'Po':0})\n",
    "test['heating_qc']= test['heating_qc'].map({'Ex':4 ,'TA':2 ,'Gd':3 ,'Fa':1 ,'Po':0})\n",
    "\n",
    "train['electrical']= train['electrical'].map({'FuseA':3, 'FuseF':2, 'FuseP':1, 'Mix':0, 'SBrkr':4})\n",
    "test['electrical']= test['electrical'].map({'FuseA':3, 'FuseF':2, 'FuseP':1, 'Mix':0, 'SBrkr':4}) #has nan\n",
    "\n",
    "train['kitchen_qual']= train['kitchen_qual'].map({'Gd':2, 'TA':1, 'Fa':0, 'Ex':3}) \n",
    "test['kitchen_qual']= test['kitchen_qual'].map({'Gd':2, 'TA':1, 'Fa':0, 'Ex':3})\n",
    "\n",
    "train['functional']= train['functional'].map({'Typ':7, 'Mod':4, 'Min2':5, 'Maj1':3, 'Min1':6, 'Sev':1, 'Sal':0, 'Maj2':2})\n",
    "test['functional']= test['functional'].map({'Typ':7, 'Mod':4, 'Min2':5, 'Maj1':3, 'Min1':6, 'Sev':1, 'Sal':0, 'Maj2':2})\n",
    "\n",
    "train['fireplace_qu']= train['fireplace_qu'].map({'NA':0, 'TA':3, 'Gd':4, 'Po':1, 'Ex':5, 'Fa':2})\n",
    "test['fireplace_qu']= test['fireplace_qu'].map({'NA':0, 'TA':3, 'Gd':4, 'Po':1, 'Ex':5, 'Fa':2})\n",
    "\n",
    "train['garage_finish']= train['garage_finish'].map({'RFn':2, 'Unf':1, 'Fin':3, 'NA':0}) #has nan\n",
    "test['garage_finish']= test['garage_finish'].map({'RFn':2, 'Unf':1, 'Fin':3, 'NA':0}) #has nan\n",
    "\n",
    "train['garage_qual']= train['garage_qual'].map({'TA':3, 'Fa':2, 'NA':0, 'Gd':4, 'Ex':5, 'Po':1}) #has nan\n",
    "test['garage_qual']= test['garage_qual'].map({'TA':3, 'Fa':2, 'NA':0, 'Gd':4, 'Ex':5, 'Po':1})\n",
    "\n",
    "train['garage_cond']= train['garage_cond'].map({'TA':3, 'Fa':2, 'NA':0, 'Gd':4, 'Ex':5, 'Po':1}) #has nan\n",
    "test['garage_cond']= test['garage_cond'].map({'TA':3, 'Fa':2, 'NA':0, 'Gd':4, 'Ex':5, 'Po':1})\n",
    "\n",
    "train['paved_drive']= train['paved_drive'].map({'Y':2, 'N':0, 'P':1}) \n",
    "test['paved_drive']= test['paved_drive'].map({'Y':2, 'N':0, 'P':1}) \n",
    "\n",
    "train['pool_qc']= train['pool_qc'].map({'NA':0, 'Fa':1, 'Gd':3, 'Ex':4, 'TA':2})\n",
    "test['pool_qc']= test['pool_qc'].map({'NA':0, 'Fa':1, 'Gd':3, 'Ex':4, 'TA':2})\n",
    "\n",
    "train['fence']= train['fence'].map({'NA':0, 'MnPrv':3, 'GdPrv':4, 'GdWo':2, 'MnWw':1}) \n",
    "test['fence']= test['fence'].map({'NA':0, 'MnPrv':3, 'GdPrv':4, 'GdWo':2, 'MnWw':1})\n"
   ]
  },
  {
   "cell_type": "code",
   "execution_count": null,
   "metadata": {},
   "outputs": [],
   "source": [
    "print(train['overall_cond'].unique())\n",
    "print(test['overall_cond'].unique())\n",
    "\n"
   ]
  },
  {
   "cell_type": "code",
   "execution_count": null,
   "metadata": {
    "scrolled": false
   },
   "outputs": [],
   "source": [
    "#train[train['overall_cond']==5][['overall_qual','saleprice']].sort_values(['overall_qual','saleprice'],ascending =False)"
   ]
  },
  {
   "cell_type": "code",
   "execution_count": null,
   "metadata": {},
   "outputs": [],
   "source": [
    "#test.info()\n"
   ]
  },
  {
   "cell_type": "code",
   "execution_count": null,
   "metadata": {},
   "outputs": [],
   "source": [
    "#Dropping PID column as it's just unique identifier\n",
    "#Dropping Alley, Fireplace Qu, Pool QC, Fence and Misc Feature as NA categorical values make up bulk of their columns \n",
    "#coldrop = ['pid','alley', 'fireplace_qu', 'pool_qc', 'fence', 'misc_feature']\n",
    "#train = train.drop(coldrop,axis=1)\n",
    "#test = test.drop(coldrop,axis=1)\n",
    "\n"
   ]
  },
  {
   "cell_type": "code",
   "execution_count": null,
   "metadata": {},
   "outputs": [],
   "source": [
    "#def distinctuni(d1,d2):\n",
    "#    for i,col in enumerate(d1):\n",
    "#        for j,coll in enumerate(d2):\n",
    "#            print('train '+d1.columns[i]+\" : \"+d1[col].unique())\n",
    "            \n",
    "#            print('test '+d2.columns[j]+\" : \"+d2[coll].unique())\n",
    "#            print('\\n')\n",
    "\n"
   ]
  },
  {
   "cell_type": "code",
   "execution_count": null,
   "metadata": {},
   "outputs": [],
   "source": [
    "#fill row 1327 np.nan with 0 as no basement or basement bath\n",
    "train.drop(train.index[1327],inplace=True)\n",
    "\n"
   ]
  },
  {
   "cell_type": "code",
   "execution_count": null,
   "metadata": {},
   "outputs": [],
   "source": [
    "train.loc[1326:1328,:]\n"
   ]
  },
  {
   "cell_type": "code",
   "execution_count": null,
   "metadata": {},
   "outputs": [],
   "source": [
    "#create numerical columns\n",
    "num_col = ['lot_frontage', 'lot_area','mas_vnr_area', 'bsmtfin_sf_1', 'bsmtfin_sf_2', 'bsmt_unf_sf',\n",
    "       'total_bsmt_sf', '1st_flr_sf', '2nd_flr_sf','low_qual_fin_sf', 'gr_liv_area', 'garage_cars', \n",
    "       'garage_area', 'wood_deck_sf', 'open_porch_sf', 'enclosed_porch', '3ssn_porch', 'screen_porch',\n",
    "       'pool_area', 'misc_val', 'bsmt_full_bath', 'bsmt_half_bath', 'full_bath', 'half_bath', \n",
    "       'bedroom_abvgr', 'kitchen_abvgr', 'totrms_abvgrd', 'fireplaces','mo_sold', 'yr_sold', 'year_built',\n",
    "       'year_remod/add']"
   ]
  },
  {
   "cell_type": "code",
   "execution_count": null,
   "metadata": {},
   "outputs": [],
   "source": [
    "#create ordinal columns\n",
    "ordinal_col = ['overall_qual', 'overall_cond', 'exter_qual', 'exter_cond', 'bsmt_qual', 'bsmt_cond', 'bsmt_exposure', \n",
    "               'bsmtfin_type_1', 'bsmtfin_type_2', 'heating_qc', 'kitchen_qual', 'functional', 'fireplace_qu', \n",
    "               'garage_qual', 'garage_cond', 'pool_qc', 'fence']"
   ]
  },
  {
   "cell_type": "code",
   "execution_count": null,
   "metadata": {},
   "outputs": [],
   "source": [
    "#creating list of columns to become dummy variables for train and test\n",
    "dummycol = ['ms_subclass', 'ms_zoning', 'street', 'alley', 'land_contour', 'lot_config',\n",
    "            'neighborhood', 'condition_1', 'condition_2', 'bldg_type', 'house_style', 'roof_style',\n",
    "            'roof_matl', 'exterior_1st', 'exterior_2nd', 'mas_vnr_type', 'foundation', \n",
    "            'heating', 'central_air','garage_type', 'misc_feature','sale_type']"
   ]
  },
  {
   "cell_type": "code",
   "execution_count": null,
   "metadata": {},
   "outputs": [],
   "source": [
    "#Categorizing for dummy variables \n",
    "#https://www.youtube.com/watch?v=Fm1F_dVMgEk&list=PLYGvOQTnahYKInRCq3_Q4viVR56dHX2x5&index=2\n",
    "for col in dummycol:\n",
    "    train[col] = train[col].fillna(train[col].mode()[0])\n",
    "    test[col] = test[col].fillna(train[col].mode()[0]) #because values should be based on train\n",
    "    \n",
    "    train_val = sorted(list(train[col].unique())) \n",
    "    test_val = sorted(list(test[col].unique()))\n",
    "    \n",
    "    categories = set(train_val + test_val) #to create the unique set of categories for each train and test column\n",
    "    \n",
    "    train[col] = pd.Categorical(train[col], categories=categories)\n",
    "    test[col] = pd.Categorical(test[col], categories=categories)"
   ]
  },
  {
   "cell_type": "code",
   "execution_count": null,
   "metadata": {},
   "outputs": [],
   "source": [
    "#Creating train and test dummies dataframe\n",
    "train_dum = pd.get_dummies(train[dummycol])\n",
    "test_dum = pd.get_dummies(test[dummycol])"
   ]
  },
  {
   "cell_type": "code",
   "execution_count": null,
   "metadata": {
    "scrolled": true
   },
   "outputs": [],
   "source": [
    "#to see train_dum works\n",
    "train_dum.head()\n"
   ]
  },
  {
   "cell_type": "code",
   "execution_count": null,
   "metadata": {},
   "outputs": [],
   "source": [
    "#to see test_dum works\n",
    "test_dum.head()\n"
   ]
  },
  {
   "cell_type": "code",
   "execution_count": null,
   "metadata": {},
   "outputs": [],
   "source": [
    "#print(train['ms_zoning'].unique())\n",
    "#print(test['ms_zoning'].unique())"
   ]
  },
  {
   "cell_type": "code",
   "execution_count": null,
   "metadata": {},
   "outputs": [],
   "source": [
    "test_dum.info()"
   ]
  },
  {
   "cell_type": "code",
   "execution_count": null,
   "metadata": {},
   "outputs": [],
   "source": [
    "#to see columns with null values\n",
    "trainnull_colns = train.columns[train.isnull().any()]\n",
    "train[trainnull_colns].isnull().sum().sort_values(ascending=False)\n"
   ]
  },
  {
   "cell_type": "code",
   "execution_count": null,
   "metadata": {},
   "outputs": [],
   "source": [
    "train.info()"
   ]
  },
  {
   "cell_type": "code",
   "execution_count": null,
   "metadata": {},
   "outputs": [],
   "source": [
    "train.iloc[22:24,:] #to check if mas_vnr_area has become column mean"
   ]
  },
  {
   "cell_type": "code",
   "execution_count": null,
   "metadata": {},
   "outputs": [],
   "source": [
    "train.iloc[1710:1714,:] #check that garage qual 1712 is column mode"
   ]
  },
  {
   "cell_type": "code",
   "execution_count": null,
   "metadata": {},
   "outputs": [],
   "source": [
    "#to see columns with null values\n",
    "testnull_colns = test.columns[test.isnull().any()]\n",
    "test[testnull_colns].isnull().sum().sort_values(ascending=False)\n"
   ]
  },
  {
   "cell_type": "code",
   "execution_count": null,
   "metadata": {},
   "outputs": [],
   "source": [
    "train[train['bsmt_exposure'].isnull()]\n"
   ]
  },
  {
   "cell_type": "code",
   "execution_count": null,
   "metadata": {},
   "outputs": [],
   "source": [
    "train[train['mas_vnr_type'].isnull()]\n"
   ]
  },
  {
   "cell_type": "code",
   "execution_count": null,
   "metadata": {},
   "outputs": [],
   "source": [
    "#check train total_bsmt_sf null\n",
    "train[train['total_bsmt_sf'].isnull()]\n"
   ]
  },
  {
   "cell_type": "code",
   "execution_count": null,
   "metadata": {},
   "outputs": [],
   "source": [
    "#define function to fill mode for columns with np.nan values\n",
    "\n",
    "def fillmode(df1,df2,collist):\n",
    "    \n",
    "    for i,col in enumerate(collist):\n",
    "        \n",
    "        try:\n",
    "            df1[col] = df1[col].fillna(df2[col].mode()[0]) #take in train modes\n",
    "        except:\n",
    "            pass\n",
    "        \n",
    "            \n",
    "                "
   ]
  },
  {
   "cell_type": "code",
   "execution_count": null,
   "metadata": {},
   "outputs": [],
   "source": [
    "#apply filler to train and test data\n",
    "modelist = ['bsmt_exposure', 'garage_cond', 'garage_qual', 'bsmtfin_type_2','garage_yr_blt',\n",
    "           'garage_finish', 'electrical', 'garage_cars', 'bsmt_half_bath', 'bsmt_full_bath']\n",
    "fillmode(train,train,modelist)\n",
    "fillmode(test,train,modelist)\n",
    "\n"
   ]
  },
  {
   "cell_type": "code",
   "execution_count": null,
   "metadata": {},
   "outputs": [],
   "source": [
    "#define function to fill mean for columns with np.nan values\n",
    "\n",
    "def fillmean(df1,df2,melist):\n",
    "    \n",
    "    for i,col in enumerate(meanlist):\n",
    "        \n",
    "        try:\n",
    "            df1[col] = df1[col].fillna(df2[col].mean()) #take in train means\n",
    "        except:\n",
    "            pass"
   ]
  },
  {
   "cell_type": "code",
   "execution_count": null,
   "metadata": {},
   "outputs": [],
   "source": [
    "#apply filler to train and test data\n",
    "meanlist = ['lot_frontage', 'mas_vnr_area', 'garage_area', ]\n",
    "fillmean(train,train,meanlist)\n",
    "fillmean(test,train,meanlist)"
   ]
  },
  {
   "cell_type": "code",
   "execution_count": null,
   "metadata": {},
   "outputs": [],
   "source": []
  },
  {
   "cell_type": "code",
   "execution_count": null,
   "metadata": {},
   "outputs": [],
   "source": [
    "#to see columns with null values\n",
    "testnull_colns = train.columns[train.isnull().any()]\n",
    "test[testnull_colns].isnull().sum().sort_values(ascending=False)\n"
   ]
  },
  {
   "cell_type": "markdown",
   "metadata": {},
   "source": [
    "## Exploratory Data Analysis"
   ]
  },
  {
   "cell_type": "markdown",
   "metadata": {},
   "source": [
    "We want to get a sense of variables that could be potential predictors for the target variable saleprice. We also would like to see what possibilies there are to do feature engineering by doing analysis first."
   ]
  },
  {
   "cell_type": "code",
   "execution_count": null,
   "metadata": {},
   "outputs": [],
   "source": [
    "#create a heatmap to look out for correlation strength and possible multicollinearity\n",
    "fig = plt.figure(figsize=(12,12))\n",
    "sns.heatmap(train.corr(),mask =np.triu(np.ones_like(train.corr())));\n",
    "plt.tight_layout()"
   ]
  },
  {
   "cell_type": "markdown",
   "metadata": {},
   "source": [
    "Due to the large number of variables the heatmap become abit harder to decipher but is still useful visually to see which variables have strong correlation with saleprice. Right off the bat we see that built up square feet variables and the quality of the differnt parts of the house like the garage or basement have strong correlation as well. I also notice a very strong correlation between total rooms above grade and above grade living area"
   ]
  },
  {
   "cell_type": "code",
   "execution_count": null,
   "metadata": {},
   "outputs": [],
   "source": [
    "train.corr()['bsmtfin_type_1'].sort_values(ascending=False)"
   ]
  },
  {
   "cell_type": "code",
   "execution_count": null,
   "metadata": {},
   "outputs": [],
   "source": [
    "#saleprice correlation with other variables \n",
    "train.corr()['saleprice'].sort_values(ascending=False)"
   ]
  },
  {
   "cell_type": "code",
   "execution_count": null,
   "metadata": {},
   "outputs": [],
   "source": [
    "test.describe()"
   ]
  },
  {
   "cell_type": "code",
   "execution_count": null,
   "metadata": {},
   "outputs": [],
   "source": [
    "#distribution of overall quality, median salesprice for each ranking changes expectedly \n",
    "#from 1-10\n",
    "fig = plt.figure(figsize =(8,6))\n",
    "sns.boxplot(x='overall_qual',y='saleprice',orient = 'v',data = train);"
   ]
  },
  {
   "cell_type": "code",
   "execution_count": null,
   "metadata": {},
   "outputs": [],
   "source": [
    "#distribution of basement finished type1, median salesprice for each ranking changes expectedly \n",
    "#from 0 to 6\n",
    "fig = plt.figure(figsize =(8,6))\n",
    "sns.boxplot(x='bsmtfin_type_1',y='saleprice',orient = 'v',data = train);\n",
    "\n"
   ]
  },
  {
   "cell_type": "code",
   "execution_count": null,
   "metadata": {},
   "outputs": [],
   "source": [
    "#distribution of basement finished type2, median salesprice for each ranking changes expectedly \n",
    "#from 0 to 6\n",
    "fig = plt.figure(figsize =(8,6))\n",
    "sns.boxplot(x='bsmtfin_type_2',y='saleprice',orient = 'v',data = train);"
   ]
  },
  {
   "cell_type": "code",
   "execution_count": null,
   "metadata": {},
   "outputs": [],
   "source": [
    "#All bsmtfin_type_1 and bsmtfin_type_2 0 rankings correspond with each other \n",
    "train[train['bsmtfin_type_1']==0][['bsmtfin_type_1','bsmtfin_type_2']].head(5)"
   ]
  },
  {
   "cell_type": "code",
   "execution_count": null,
   "metadata": {},
   "outputs": [],
   "source": [
    "#All bsmtfin_type_2 and bsmtfin_type_1 0 rankings correspond with each other \n",
    "train[train['bsmtfin_type_2']==0][['bsmtfin_type_1','bsmtfin_type_2']].head(5)"
   ]
  },
  {
   "cell_type": "code",
   "execution_count": null,
   "metadata": {},
   "outputs": [],
   "source": [
    "train.info()"
   ]
  },
  {
   "cell_type": "markdown",
   "metadata": {},
   "source": [
    "## Feature Engineering"
   ]
  },
  {
   "cell_type": "code",
   "execution_count": null,
   "metadata": {},
   "outputs": [],
   "source": [
    "#Year built column shows a significant 0.57 correlation but year by itself does not seem \n",
    "#complete so a feature column 'building_age' will be created giving a more meaningful value\n",
    "train['building_age'] = train['yr_sold'] - train['year_built']\n",
    "test['building_age'] = test['yr_sold'] - test['year_built']\n",
    "#outlier mostly >120+"
   ]
  },
  {
   "cell_type": "code",
   "execution_count": null,
   "metadata": {},
   "outputs": [],
   "source": [
    "#1st floor sq ft high significant correlation and while 2nd floor sq ft \n",
    "#might not have the same significant correlation its feasible to include it in a \"total_sqft\"\n",
    "\n",
    "train['total_sqft'] =  train['1st_flr_sf'] + train['2nd_flr_sf']\n",
    "test['total_sqft'] =  test['1st_flr_sf'] + test['2nd_flr_sf']\n"
   ]
  },
  {
   "cell_type": "code",
   "execution_count": null,
   "metadata": {},
   "outputs": [],
   "source": [
    "#create consolidated basement finish type with both basement finish type 1 and type 2 \n",
    "#(0 implies no basement)\n",
    "\n",
    "train['all_basementfinish'] = train['bsmtfin_type_1'] * train['bsmtfin_type_2']\n",
    "test['all_basementfinish'] = test['bsmtfin_type_1'] * test['bsmtfin_type_2']"
   ]
  },
  {
   "cell_type": "code",
   "execution_count": null,
   "metadata": {},
   "outputs": [],
   "source": [
    "#test.head()"
   ]
  },
  {
   "cell_type": "code",
   "execution_count": null,
   "metadata": {},
   "outputs": [],
   "source": []
  },
  {
   "cell_type": "code",
   "execution_count": null,
   "metadata": {},
   "outputs": [],
   "source": [
    "fig = plt.figure(figsize=(8,8))\n",
    "sns.boxplot(train['building_age'],orient = 'v');"
   ]
  },
  {
   "cell_type": "code",
   "execution_count": null,
   "metadata": {},
   "outputs": [],
   "source": [
    "#see which train columns have more than 50% of its entries null\n",
    "[col for i,col in enumerate(train) if (train[col].isnull().sum())>1025] "
   ]
  },
  {
   "cell_type": "code",
   "execution_count": null,
   "metadata": {},
   "outputs": [],
   "source": [
    "#see which test columns have more than 50% of its entries null\n",
    "[col for i,col in enumerate(test) if (test[col].isnull().sum())>439] "
   ]
  },
  {
   "cell_type": "code",
   "execution_count": null,
   "metadata": {},
   "outputs": [],
   "source": []
  },
  {
   "cell_type": "markdown",
   "metadata": {},
   "source": [
    "## Modeling"
   ]
  },
  {
   "cell_type": "code",
   "execution_count": null,
   "metadata": {},
   "outputs": [],
   "source": [
    "#Create features for X predictor matrix\n",
    "#features = ['gr_liv_area','total_bsmt_sf','1st_flr_sf', 'full_bath','mas_vnr_area', 'totrms_abvgrd','fireplaces',\n",
    "#            'bsmtfin_sf_1', 'lot_frontage', 'open_porch_sf','low_qual_fin_sf','bsmt_half_bath']"
   ]
  },
  {
   "cell_type": "markdown",
   "metadata": {},
   "source": [
    "#Create X and X_test predictor matrix \n",
    "X = pd.concat([train[num_col],train[ordinal_col]], axis=1)\n",
    "X = pd.concat([X,train_dum],axis=1)\n",
    "\n",
    "X_test = pd.concat([test[num_col],test[ordinal_col]], axis=1)\n",
    "X_test = pd.concat([X,test_dum],axis=1)\n",
    "\n"
   ]
  },
  {
   "cell_type": "code",
   "execution_count": null,
   "metadata": {},
   "outputs": [],
   "source": [
    "#y target vector\n",
    "y = train['saleprice']"
   ]
  },
  {
   "cell_type": "code",
   "execution_count": null,
   "metadata": {},
   "outputs": [],
   "source": [
    "#X.shape"
   ]
  },
  {
   "cell_type": "code",
   "execution_count": null,
   "metadata": {},
   "outputs": [],
   "source": [
    "#y.shape"
   ]
  },
  {
   "cell_type": "code",
   "execution_count": null,
   "metadata": {},
   "outputs": [],
   "source": [
    "#X_train.info()"
   ]
  },
  {
   "cell_type": "code",
   "execution_count": null,
   "metadata": {},
   "outputs": [],
   "source": [
    "#corrmatrix = pd.concat([X,y],axis =1)"
   ]
  },
  {
   "cell_type": "code",
   "execution_count": null,
   "metadata": {},
   "outputs": [],
   "source": [
    "#pd.DataFrame({'Corr_with_saleprice':corrmatrix.corr()['saleprice'].sort_values(ascending = False)})"
   ]
  },
  {
   "cell_type": "code",
   "execution_count": null,
   "metadata": {},
   "outputs": [],
   "source": [
    "#train.select_dtypes(['object']).columns"
   ]
  },
  {
   "cell_type": "code",
   "execution_count": null,
   "metadata": {},
   "outputs": [],
   "source": [
    "#Apply standard scaling to X_train and X_test\n",
    "#ss = StandardScaler()\n",
    "#X_train_sc = ss.fit_transform(X_train)\n",
    "#X_test_sc = ss.transform(X_test)"
   ]
  },
  {
   "cell_type": "code",
   "execution_count": null,
   "metadata": {},
   "outputs": [],
   "source": [
    "#Instantiate our models\n",
    "#lr = LinearRegression()\n",
    "#lasso = LassoCV(n_alphas=200)\n",
    "#ridge = RidgeCV(alphas=np.linspace(.1, 10, 100))"
   ]
  },
  {
   "cell_type": "code",
   "execution_count": null,
   "metadata": {},
   "outputs": [],
   "source": [
    "#Lasso fit\n",
    "#lasso.fit(X_train_sc,y)\n",
    "#lasso.score(X_train_sc,y)"
   ]
  },
  {
   "cell_type": "code",
   "execution_count": null,
   "metadata": {},
   "outputs": [],
   "source": [
    "#cross validation score and compare its \n",
    "#kf = KFold(shuffle=True) #Create KFold with shuffle = True\n",
    "#lasso_scores = cross_val_score(lasso,X_train_sc,y,cv=kf)\n",
    "#lasso_scores.mean()"
   ]
  },
  {
   "cell_type": "code",
   "execution_count": null,
   "metadata": {},
   "outputs": [],
   "source": [
    "#y_pred = lasso.predict(X_test_sc)"
   ]
  },
  {
   "cell_type": "code",
   "execution_count": null,
   "metadata": {},
   "outputs": [],
   "source": [
    "#sample.shape"
   ]
  },
  {
   "cell_type": "code",
   "execution_count": null,
   "metadata": {},
   "outputs": [],
   "source": [
    "#y_pred.shape"
   ]
  },
  {
   "cell_type": "code",
   "execution_count": null,
   "metadata": {},
   "outputs": [],
   "source": [
    "#predf = pd.DataFrame({'SalePrice':y_pred})"
   ]
  },
  {
   "cell_type": "code",
   "execution_count": null,
   "metadata": {},
   "outputs": [],
   "source": [
    "#sample.columns"
   ]
  },
  {
   "cell_type": "code",
   "execution_count": null,
   "metadata": {},
   "outputs": [],
   "source": [
    "#dataset = pd.concat([sample['Id'],predf],axis=1)\n",
    "#dataset.to_csv('Aimes_sample_submission.csv',index=False)"
   ]
  },
  {
   "cell_type": "code",
   "execution_count": null,
   "metadata": {},
   "outputs": [],
   "source": []
  }
 ],
 "metadata": {
  "kernelspec": {
   "display_name": "Python 3",
   "language": "python",
   "name": "python3"
  },
  "language_info": {
   "codemirror_mode": {
    "name": "ipython",
    "version": 3
   },
   "file_extension": ".py",
   "mimetype": "text/x-python",
   "name": "python",
   "nbconvert_exporter": "python",
   "pygments_lexer": "ipython3",
   "version": "3.7.6"
  }
 },
 "nbformat": 4,
 "nbformat_minor": 4
}
