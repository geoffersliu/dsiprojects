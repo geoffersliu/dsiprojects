{
 "cells": [
  {
   "cell_type": "markdown",
   "metadata": {},
   "source": [
    "# Project 3 Part 2"
   ]
  },
  {
   "cell_type": "code",
   "execution_count": 3,
   "metadata": {},
   "outputs": [],
   "source": [
    "import pandas as pd\n",
    "import numpy as np\n",
    "import matplotlib.pyplot as plt\n",
    "import nltk\n",
    "import string\n",
    "import re\n",
    "from nltk.tokenize import RegexpTokenizer\n",
    "from sklearn.model_selection import train_test_split, GridSearchCV, cross_val_score\n",
    "from nltk.corpus import stopwords\n",
    "from sklearn.linear_model import LogisticRegression\n",
    "from sklearn.feature_extraction.text import CountVectorizer, TfidfVectorizer\n",
    "from sklearn.pipeline import Pipeline\n",
    "from collections import Counter\n",
    "from sklearn.naive_bayes import BernoulliNB, MultinomialNB\n",
    "from bs4 import BeautifulSoup\n",
    "from nltk.stem.porter import PorterStemmer\n",
    "from nltk.stem import WordNetLemmatizer\n",
    "from sklearn.metrics import confusion_matrix\n",
    "from wordcloud import WordCloud, STOPWORDS \n",
    "import seaborn as sns\n",
    "pd.set_option('display.max_columns', None)\n",
    "%matplotlib inline"
   ]
  },
  {
   "cell_type": "code",
   "execution_count": null,
   "metadata": {},
   "outputs": [],
   "source": []
  },
  {
   "cell_type": "markdown",
   "metadata": {},
   "source": [
    "### Table of Contents\n",
    "- [Data Cleaning for null values and duplicates](#Data-Cleaning-for-null-values-and-duplicates)\n",
    "- [Combine both subreddit dataframes](#Combine-both-subreddit-dataframes)\n",
    "- [Cleaning function for all_text column](#Cleaning-function-for-all_text-column)\n",
    "- [EDA](#EDA)"
   ]
  },
  {
   "cell_type": "markdown",
   "metadata": {},
   "source": [
    "## Data Cleaning for null values and duplicates"
   ]
  },
  {
   "cell_type": "markdown",
   "metadata": {},
   "source": [
    "I'll be dropping rows null values as it will not contribute to EDA and duplicates rows as well as it will impact the classification process"
   ]
  },
  {
   "cell_type": "code",
   "execution_count": 43,
   "metadata": {},
   "outputs": [],
   "source": [
    "#read csv files\n",
    "pf_df = pd.read_csv('./datasets/ddup_personalfinance.csv')\n",
    "loan_df = pd.read_csv('./datasets/ddup_loan.csv')"
   ]
  },
  {
   "cell_type": "code",
   "execution_count": 44,
   "metadata": {},
   "outputs": [
    {
     "data": {
      "text/plain": [
       "Unnamed: 0    0\n",
       "name          0\n",
       "subreddit     0\n",
       "title         0\n",
       "selftext      1\n",
       "dtype: int64"
      ]
     },
     "execution_count": 44,
     "metadata": {},
     "output_type": "execute_result"
    }
   ],
   "source": [
    "#see the null values for pf_df\n",
    "pf_df.isnull().sum()"
   ]
  },
  {
   "cell_type": "code",
   "execution_count": 45,
   "metadata": {},
   "outputs": [],
   "source": [
    "#drop null values\n",
    "pf_df=pf_df.dropna().reset_index(drop=True)"
   ]
  },
  {
   "cell_type": "code",
   "execution_count": 46,
   "metadata": {},
   "outputs": [
    {
     "data": {
      "text/plain": [
       "Unnamed: 0    0\n",
       "name          0\n",
       "subreddit     0\n",
       "title         0\n",
       "selftext      0\n",
       "dtype: int64"
      ]
     },
     "execution_count": 46,
     "metadata": {},
     "output_type": "execute_result"
    }
   ],
   "source": [
    "pf_df.isnull().sum()"
   ]
  },
  {
   "cell_type": "code",
   "execution_count": 47,
   "metadata": {},
   "outputs": [
    {
     "data": {
      "text/html": [
       "<div>\n",
       "<style scoped>\n",
       "    .dataframe tbody tr th:only-of-type {\n",
       "        vertical-align: middle;\n",
       "    }\n",
       "\n",
       "    .dataframe tbody tr th {\n",
       "        vertical-align: top;\n",
       "    }\n",
       "\n",
       "    .dataframe thead th {\n",
       "        text-align: right;\n",
       "    }\n",
       "</style>\n",
       "<table border=\"1\" class=\"dataframe\">\n",
       "  <thead>\n",
       "    <tr style=\"text-align: right;\">\n",
       "      <th></th>\n",
       "      <th>Unnamed: 0</th>\n",
       "      <th>name</th>\n",
       "      <th>subreddit</th>\n",
       "      <th>title</th>\n",
       "      <th>selftext</th>\n",
       "    </tr>\n",
       "  </thead>\n",
       "  <tbody>\n",
       "  </tbody>\n",
       "</table>\n",
       "</div>"
      ],
      "text/plain": [
       "Empty DataFrame\n",
       "Columns: [Unnamed: 0, name, subreddit, title, selftext]\n",
       "Index: []"
      ]
     },
     "execution_count": 47,
     "metadata": {},
     "output_type": "execute_result"
    }
   ],
   "source": [
    "pf_df[pf_df['title']=='']\n"
   ]
  },
  {
   "cell_type": "code",
   "execution_count": 48,
   "metadata": {},
   "outputs": [
    {
     "data": {
      "text/html": [
       "<div>\n",
       "<style scoped>\n",
       "    .dataframe tbody tr th:only-of-type {\n",
       "        vertical-align: middle;\n",
       "    }\n",
       "\n",
       "    .dataframe tbody tr th {\n",
       "        vertical-align: top;\n",
       "    }\n",
       "\n",
       "    .dataframe thead th {\n",
       "        text-align: right;\n",
       "    }\n",
       "</style>\n",
       "<table border=\"1\" class=\"dataframe\">\n",
       "  <thead>\n",
       "    <tr style=\"text-align: right;\">\n",
       "      <th></th>\n",
       "      <th>Unnamed: 0</th>\n",
       "      <th>name</th>\n",
       "      <th>subreddit</th>\n",
       "      <th>title</th>\n",
       "      <th>selftext</th>\n",
       "    </tr>\n",
       "  </thead>\n",
       "  <tbody>\n",
       "  </tbody>\n",
       "</table>\n",
       "</div>"
      ],
      "text/plain": [
       "Empty DataFrame\n",
       "Columns: [Unnamed: 0, name, subreddit, title, selftext]\n",
       "Index: []"
      ]
     },
     "execution_count": 48,
     "metadata": {},
     "output_type": "execute_result"
    }
   ],
   "source": [
    "pf_df[pf_df['selftext']=='']"
   ]
  },
  {
   "cell_type": "code",
   "execution_count": 49,
   "metadata": {},
   "outputs": [
    {
     "data": {
      "text/plain": [
       "Unnamed: 0    0\n",
       "name          0\n",
       "subreddit     0\n",
       "title         0\n",
       "selftext      1\n",
       "dtype: int64"
      ]
     },
     "execution_count": 49,
     "metadata": {},
     "output_type": "execute_result"
    }
   ],
   "source": [
    "#see the null values for loan_df\n",
    "loan_df.isnull().sum()"
   ]
  },
  {
   "cell_type": "code",
   "execution_count": 50,
   "metadata": {},
   "outputs": [],
   "source": [
    "#drop null values\n",
    "loan_df=loan_df.dropna().reset_index(drop=True)\n",
    "\n"
   ]
  },
  {
   "cell_type": "code",
   "execution_count": 51,
   "metadata": {},
   "outputs": [
    {
     "data": {
      "text/plain": [
       "Unnamed: 0    0\n",
       "name          0\n",
       "subreddit     0\n",
       "title         0\n",
       "selftext      0\n",
       "dtype: int64"
      ]
     },
     "execution_count": 51,
     "metadata": {},
     "output_type": "execute_result"
    }
   ],
   "source": [
    "loan_df.isnull().sum()"
   ]
  },
  {
   "cell_type": "code",
   "execution_count": 52,
   "metadata": {},
   "outputs": [
    {
     "data": {
      "text/html": [
       "<div>\n",
       "<style scoped>\n",
       "    .dataframe tbody tr th:only-of-type {\n",
       "        vertical-align: middle;\n",
       "    }\n",
       "\n",
       "    .dataframe tbody tr th {\n",
       "        vertical-align: top;\n",
       "    }\n",
       "\n",
       "    .dataframe thead th {\n",
       "        text-align: right;\n",
       "    }\n",
       "</style>\n",
       "<table border=\"1\" class=\"dataframe\">\n",
       "  <thead>\n",
       "    <tr style=\"text-align: right;\">\n",
       "      <th></th>\n",
       "      <th>Unnamed: 0</th>\n",
       "      <th>name</th>\n",
       "      <th>subreddit</th>\n",
       "      <th>title</th>\n",
       "      <th>selftext</th>\n",
       "    </tr>\n",
       "  </thead>\n",
       "  <tbody>\n",
       "  </tbody>\n",
       "</table>\n",
       "</div>"
      ],
      "text/plain": [
       "Empty DataFrame\n",
       "Columns: [Unnamed: 0, name, subreddit, title, selftext]\n",
       "Index: []"
      ]
     },
     "execution_count": 52,
     "metadata": {},
     "output_type": "execute_result"
    }
   ],
   "source": [
    "loan_df[loan_df['title']=='']"
   ]
  },
  {
   "cell_type": "code",
   "execution_count": 53,
   "metadata": {},
   "outputs": [
    {
     "data": {
      "text/html": [
       "<div>\n",
       "<style scoped>\n",
       "    .dataframe tbody tr th:only-of-type {\n",
       "        vertical-align: middle;\n",
       "    }\n",
       "\n",
       "    .dataframe tbody tr th {\n",
       "        vertical-align: top;\n",
       "    }\n",
       "\n",
       "    .dataframe thead th {\n",
       "        text-align: right;\n",
       "    }\n",
       "</style>\n",
       "<table border=\"1\" class=\"dataframe\">\n",
       "  <thead>\n",
       "    <tr style=\"text-align: right;\">\n",
       "      <th></th>\n",
       "      <th>Unnamed: 0</th>\n",
       "      <th>name</th>\n",
       "      <th>subreddit</th>\n",
       "      <th>title</th>\n",
       "      <th>selftext</th>\n",
       "    </tr>\n",
       "  </thead>\n",
       "  <tbody>\n",
       "  </tbody>\n",
       "</table>\n",
       "</div>"
      ],
      "text/plain": [
       "Empty DataFrame\n",
       "Columns: [Unnamed: 0, name, subreddit, title, selftext]\n",
       "Index: []"
      ]
     },
     "execution_count": 53,
     "metadata": {},
     "output_type": "execute_result"
    }
   ],
   "source": [
    "loan_df[loan_df['selftext']=='']"
   ]
  },
  {
   "cell_type": "code",
   "execution_count": 54,
   "metadata": {},
   "outputs": [
    {
     "data": {
      "text/plain": [
       "(993, 5)"
      ]
     },
     "execution_count": 54,
     "metadata": {},
     "output_type": "execute_result"
    }
   ],
   "source": [
    "pf_df.shape"
   ]
  },
  {
   "cell_type": "code",
   "execution_count": 55,
   "metadata": {},
   "outputs": [
    {
     "data": {
      "text/plain": [
       "(946, 5)"
      ]
     },
     "execution_count": 55,
     "metadata": {},
     "output_type": "execute_result"
    }
   ],
   "source": [
    "loan_df.shape"
   ]
  },
  {
   "cell_type": "code",
   "execution_count": 56,
   "metadata": {},
   "outputs": [],
   "source": [
    "#drop duplicate for pf_df\n",
    "pf_df.drop_duplicates(subset='selftext',keep='first',inplace=True,ignore_index=True)\n",
    "pf_df.drop_duplicates(subset='title',keep='first',inplace=True,ignore_index=True)\n"
   ]
  },
  {
   "cell_type": "code",
   "execution_count": 57,
   "metadata": {},
   "outputs": [
    {
     "data": {
      "text/plain": [
       "(993, 5)"
      ]
     },
     "execution_count": 57,
     "metadata": {},
     "output_type": "execute_result"
    }
   ],
   "source": [
    "pf_df.shape"
   ]
  },
  {
   "cell_type": "code",
   "execution_count": 58,
   "metadata": {},
   "outputs": [],
   "source": [
    "#drop duplicate for loan_df\n",
    "loan_df.drop_duplicates(subset='selftext',keep='first',inplace=True,ignore_index=True)\n",
    "loan_df.drop_duplicates(subset='title',keep='first',inplace=True,ignore_index=True)\n"
   ]
  },
  {
   "cell_type": "code",
   "execution_count": 59,
   "metadata": {},
   "outputs": [
    {
     "data": {
      "text/plain": [
       "(946, 5)"
      ]
     },
     "execution_count": 59,
     "metadata": {},
     "output_type": "execute_result"
    }
   ],
   "source": [
    "loan_df.shape"
   ]
  },
  {
   "cell_type": "markdown",
   "metadata": {},
   "source": [
    "## Combine both subreddit dataframes"
   ]
  },
  {
   "cell_type": "code",
   "execution_count": 60,
   "metadata": {},
   "outputs": [],
   "source": [
    "#Combine both dataframes rows. \n",
    "comb_df = pd.concat([pf_df,loan_df]).reset_index(drop=True)\n"
   ]
  },
  {
   "cell_type": "code",
   "execution_count": 61,
   "metadata": {},
   "outputs": [],
   "source": [
    "#drop unamed column\n",
    "comb_df.drop(['Unnamed: 0'],axis=1,inplace=True)\n"
   ]
  },
  {
   "cell_type": "code",
   "execution_count": 62,
   "metadata": {},
   "outputs": [
    {
     "data": {
      "text/html": [
       "<div>\n",
       "<style scoped>\n",
       "    .dataframe tbody tr th:only-of-type {\n",
       "        vertical-align: middle;\n",
       "    }\n",
       "\n",
       "    .dataframe tbody tr th {\n",
       "        vertical-align: top;\n",
       "    }\n",
       "\n",
       "    .dataframe thead th {\n",
       "        text-align: right;\n",
       "    }\n",
       "</style>\n",
       "<table border=\"1\" class=\"dataframe\">\n",
       "  <thead>\n",
       "    <tr style=\"text-align: right;\">\n",
       "      <th></th>\n",
       "      <th>name</th>\n",
       "      <th>subreddit</th>\n",
       "      <th>title</th>\n",
       "      <th>selftext</th>\n",
       "    </tr>\n",
       "  </thead>\n",
       "  <tbody>\n",
       "    <tr>\n",
       "      <th>0</th>\n",
       "      <td>t3_gjnn7e</td>\n",
       "      <td>personalfinance</td>\n",
       "      <td>Overwhelmed By My Finances &amp;amp; Getting Force...</td>\n",
       "      <td>So, the overview: I'm an out of work cook with...</td>\n",
       "    </tr>\n",
       "    <tr>\n",
       "      <th>1</th>\n",
       "      <td>t3_gjnmwp</td>\n",
       "      <td>personalfinance</td>\n",
       "      <td>National Insurance - Year is Not Full</td>\n",
       "      <td>According to [tax.service.gov.uk](https://tax....</td>\n",
       "    </tr>\n",
       "    <tr>\n",
       "      <th>2</th>\n",
       "      <td>t3_gjnlbs</td>\n",
       "      <td>personalfinance</td>\n",
       "      <td>Refinancing Process</td>\n",
       "      <td>I’m in Wyoming. And I’m pursuing a refinance t...</td>\n",
       "    </tr>\n",
       "    <tr>\n",
       "      <th>3</th>\n",
       "      <td>t3_gjned9</td>\n",
       "      <td>personalfinance</td>\n",
       "      <td>Finally maxing out my SEP IRA (as an employee)...</td>\n",
       "      <td>Like the title says, I am now financially able...</td>\n",
       "    </tr>\n",
       "    <tr>\n",
       "      <th>4</th>\n",
       "      <td>t3_gjneqq</td>\n",
       "      <td>personalfinance</td>\n",
       "      <td>Advice for limiting damage from joint &amp;amp; au...</td>\n",
       "      <td>My fiance's father is going through a pretty r...</td>\n",
       "    </tr>\n",
       "  </tbody>\n",
       "</table>\n",
       "</div>"
      ],
      "text/plain": [
       "        name        subreddit  \\\n",
       "0  t3_gjnn7e  personalfinance   \n",
       "1  t3_gjnmwp  personalfinance   \n",
       "2  t3_gjnlbs  personalfinance   \n",
       "3  t3_gjned9  personalfinance   \n",
       "4  t3_gjneqq  personalfinance   \n",
       "\n",
       "                                               title  \\\n",
       "0  Overwhelmed By My Finances &amp; Getting Force...   \n",
       "1              National Insurance - Year is Not Full   \n",
       "2                                Refinancing Process   \n",
       "3  Finally maxing out my SEP IRA (as an employee)...   \n",
       "4  Advice for limiting damage from joint &amp; au...   \n",
       "\n",
       "                                            selftext  \n",
       "0  So, the overview: I'm an out of work cook with...  \n",
       "1  According to [tax.service.gov.uk](https://tax....  \n",
       "2  I’m in Wyoming. And I’m pursuing a refinance t...  \n",
       "3  Like the title says, I am now financially able...  \n",
       "4  My fiance's father is going through a pretty r...  "
      ]
     },
     "execution_count": 62,
     "metadata": {},
     "output_type": "execute_result"
    }
   ],
   "source": [
    "comb_df.head()\n"
   ]
  },
  {
   "cell_type": "code",
   "execution_count": 63,
   "metadata": {},
   "outputs": [
    {
     "data": {
      "text/plain": [
       "personalfinance    0.51212\n",
       "StudentLoans       0.48788\n",
       "Name: subreddit, dtype: float64"
      ]
     },
     "execution_count": 63,
     "metadata": {},
     "output_type": "execute_result"
    }
   ],
   "source": [
    "#See the proportion of StudentLoans and personalfinance\n",
    "comb_df['subreddit'].value_counts(normalize=True)\n"
   ]
  },
  {
   "cell_type": "code",
   "execution_count": 64,
   "metadata": {},
   "outputs": [
    {
     "data": {
      "text/plain": [
       "(1939, 4)"
      ]
     },
     "execution_count": 64,
     "metadata": {},
     "output_type": "execute_result"
    }
   ],
   "source": [
    "#see the overall shape of the combined dataframe\n",
    "comb_df.shape"
   ]
  },
  {
   "cell_type": "markdown",
   "metadata": {},
   "source": [
    "The difference in proportion between StudentLoans and personalfinance is about 0.03 so it should not make too much of an impact in modeling."
   ]
  },
  {
   "cell_type": "code",
   "execution_count": 65,
   "metadata": {},
   "outputs": [],
   "source": [
    "#combine title and selftext\n",
    "comb_df['all_text'] = comb_df['title'] + comb_df['selftext']\n",
    "\n"
   ]
  },
  {
   "cell_type": "code",
   "execution_count": 66,
   "metadata": {},
   "outputs": [
    {
     "data": {
      "text/html": [
       "<div>\n",
       "<style scoped>\n",
       "    .dataframe tbody tr th:only-of-type {\n",
       "        vertical-align: middle;\n",
       "    }\n",
       "\n",
       "    .dataframe tbody tr th {\n",
       "        vertical-align: top;\n",
       "    }\n",
       "\n",
       "    .dataframe thead th {\n",
       "        text-align: right;\n",
       "    }\n",
       "</style>\n",
       "<table border=\"1\" class=\"dataframe\">\n",
       "  <thead>\n",
       "    <tr style=\"text-align: right;\">\n",
       "      <th></th>\n",
       "      <th>name</th>\n",
       "      <th>subreddit</th>\n",
       "      <th>title</th>\n",
       "      <th>selftext</th>\n",
       "      <th>all_text</th>\n",
       "    </tr>\n",
       "  </thead>\n",
       "  <tbody>\n",
       "    <tr>\n",
       "      <th>0</th>\n",
       "      <td>t3_gjnn7e</td>\n",
       "      <td>personalfinance</td>\n",
       "      <td>Overwhelmed By My Finances &amp;amp; Getting Force...</td>\n",
       "      <td>So, the overview: I'm an out of work cook with...</td>\n",
       "      <td>Overwhelmed By My Finances &amp;amp; Getting Force...</td>\n",
       "    </tr>\n",
       "    <tr>\n",
       "      <th>1</th>\n",
       "      <td>t3_gjnmwp</td>\n",
       "      <td>personalfinance</td>\n",
       "      <td>National Insurance - Year is Not Full</td>\n",
       "      <td>According to [tax.service.gov.uk](https://tax....</td>\n",
       "      <td>National Insurance - Year is Not FullAccording...</td>\n",
       "    </tr>\n",
       "    <tr>\n",
       "      <th>2</th>\n",
       "      <td>t3_gjnlbs</td>\n",
       "      <td>personalfinance</td>\n",
       "      <td>Refinancing Process</td>\n",
       "      <td>I’m in Wyoming. And I’m pursuing a refinance t...</td>\n",
       "      <td>Refinancing ProcessI’m in Wyoming. And I’m pur...</td>\n",
       "    </tr>\n",
       "    <tr>\n",
       "      <th>3</th>\n",
       "      <td>t3_gjned9</td>\n",
       "      <td>personalfinance</td>\n",
       "      <td>Finally maxing out my SEP IRA (as an employee)...</td>\n",
       "      <td>Like the title says, I am now financially able...</td>\n",
       "      <td>Finally maxing out my SEP IRA (as an employee)...</td>\n",
       "    </tr>\n",
       "    <tr>\n",
       "      <th>4</th>\n",
       "      <td>t3_gjneqq</td>\n",
       "      <td>personalfinance</td>\n",
       "      <td>Advice for limiting damage from joint &amp;amp; au...</td>\n",
       "      <td>My fiance's father is going through a pretty r...</td>\n",
       "      <td>Advice for limiting damage from joint &amp;amp; au...</td>\n",
       "    </tr>\n",
       "  </tbody>\n",
       "</table>\n",
       "</div>"
      ],
      "text/plain": [
       "        name        subreddit  \\\n",
       "0  t3_gjnn7e  personalfinance   \n",
       "1  t3_gjnmwp  personalfinance   \n",
       "2  t3_gjnlbs  personalfinance   \n",
       "3  t3_gjned9  personalfinance   \n",
       "4  t3_gjneqq  personalfinance   \n",
       "\n",
       "                                               title  \\\n",
       "0  Overwhelmed By My Finances &amp; Getting Force...   \n",
       "1              National Insurance - Year is Not Full   \n",
       "2                                Refinancing Process   \n",
       "3  Finally maxing out my SEP IRA (as an employee)...   \n",
       "4  Advice for limiting damage from joint &amp; au...   \n",
       "\n",
       "                                            selftext  \\\n",
       "0  So, the overview: I'm an out of work cook with...   \n",
       "1  According to [tax.service.gov.uk](https://tax....   \n",
       "2  I’m in Wyoming. And I’m pursuing a refinance t...   \n",
       "3  Like the title says, I am now financially able...   \n",
       "4  My fiance's father is going through a pretty r...   \n",
       "\n",
       "                                            all_text  \n",
       "0  Overwhelmed By My Finances &amp; Getting Force...  \n",
       "1  National Insurance - Year is Not FullAccording...  \n",
       "2  Refinancing ProcessI’m in Wyoming. And I’m pur...  \n",
       "3  Finally maxing out my SEP IRA (as an employee)...  \n",
       "4  Advice for limiting damage from joint &amp; au...  "
      ]
     },
     "execution_count": 66,
     "metadata": {},
     "output_type": "execute_result"
    }
   ],
   "source": [
    "comb_df.head()"
   ]
  },
  {
   "cell_type": "code",
   "execution_count": 67,
   "metadata": {},
   "outputs": [],
   "source": [
    "# create target variable, y which maps subreddit into a 1/0 column, where 1 indicates personalfinance\n",
    "comb_df['y'] = [1 if i == 'personalfinance' else 0 for i in comb_df['subreddit']]\n"
   ]
  },
  {
   "cell_type": "code",
   "execution_count": 69,
   "metadata": {},
   "outputs": [
    {
     "data": {
      "text/html": [
       "<div>\n",
       "<style scoped>\n",
       "    .dataframe tbody tr th:only-of-type {\n",
       "        vertical-align: middle;\n",
       "    }\n",
       "\n",
       "    .dataframe tbody tr th {\n",
       "        vertical-align: top;\n",
       "    }\n",
       "\n",
       "    .dataframe thead th {\n",
       "        text-align: right;\n",
       "    }\n",
       "</style>\n",
       "<table border=\"1\" class=\"dataframe\">\n",
       "  <thead>\n",
       "    <tr style=\"text-align: right;\">\n",
       "      <th></th>\n",
       "      <th>name</th>\n",
       "      <th>subreddit</th>\n",
       "      <th>title</th>\n",
       "      <th>selftext</th>\n",
       "      <th>all_text</th>\n",
       "      <th>y</th>\n",
       "    </tr>\n",
       "  </thead>\n",
       "  <tbody>\n",
       "    <tr>\n",
       "      <th>0</th>\n",
       "      <td>t3_gjnn7e</td>\n",
       "      <td>personalfinance</td>\n",
       "      <td>Overwhelmed By My Finances &amp;amp; Getting Force...</td>\n",
       "      <td>So, the overview: I'm an out of work cook with...</td>\n",
       "      <td>Overwhelmed By My Finances &amp;amp; Getting Force...</td>\n",
       "      <td>1</td>\n",
       "    </tr>\n",
       "    <tr>\n",
       "      <th>1</th>\n",
       "      <td>t3_gjnmwp</td>\n",
       "      <td>personalfinance</td>\n",
       "      <td>National Insurance - Year is Not Full</td>\n",
       "      <td>According to [tax.service.gov.uk](https://tax....</td>\n",
       "      <td>National Insurance - Year is Not FullAccording...</td>\n",
       "      <td>1</td>\n",
       "    </tr>\n",
       "    <tr>\n",
       "      <th>2</th>\n",
       "      <td>t3_gjnlbs</td>\n",
       "      <td>personalfinance</td>\n",
       "      <td>Refinancing Process</td>\n",
       "      <td>I’m in Wyoming. And I’m pursuing a refinance t...</td>\n",
       "      <td>Refinancing ProcessI’m in Wyoming. And I’m pur...</td>\n",
       "      <td>1</td>\n",
       "    </tr>\n",
       "    <tr>\n",
       "      <th>3</th>\n",
       "      <td>t3_gjned9</td>\n",
       "      <td>personalfinance</td>\n",
       "      <td>Finally maxing out my SEP IRA (as an employee)...</td>\n",
       "      <td>Like the title says, I am now financially able...</td>\n",
       "      <td>Finally maxing out my SEP IRA (as an employee)...</td>\n",
       "      <td>1</td>\n",
       "    </tr>\n",
       "    <tr>\n",
       "      <th>4</th>\n",
       "      <td>t3_gjneqq</td>\n",
       "      <td>personalfinance</td>\n",
       "      <td>Advice for limiting damage from joint &amp;amp; au...</td>\n",
       "      <td>My fiance's father is going through a pretty r...</td>\n",
       "      <td>Advice for limiting damage from joint &amp;amp; au...</td>\n",
       "      <td>1</td>\n",
       "    </tr>\n",
       "  </tbody>\n",
       "</table>\n",
       "</div>"
      ],
      "text/plain": [
       "        name        subreddit  \\\n",
       "0  t3_gjnn7e  personalfinance   \n",
       "1  t3_gjnmwp  personalfinance   \n",
       "2  t3_gjnlbs  personalfinance   \n",
       "3  t3_gjned9  personalfinance   \n",
       "4  t3_gjneqq  personalfinance   \n",
       "\n",
       "                                               title  \\\n",
       "0  Overwhelmed By My Finances &amp; Getting Force...   \n",
       "1              National Insurance - Year is Not Full   \n",
       "2                                Refinancing Process   \n",
       "3  Finally maxing out my SEP IRA (as an employee)...   \n",
       "4  Advice for limiting damage from joint &amp; au...   \n",
       "\n",
       "                                            selftext  \\\n",
       "0  So, the overview: I'm an out of work cook with...   \n",
       "1  According to [tax.service.gov.uk](https://tax....   \n",
       "2  I’m in Wyoming. And I’m pursuing a refinance t...   \n",
       "3  Like the title says, I am now financially able...   \n",
       "4  My fiance's father is going through a pretty r...   \n",
       "\n",
       "                                            all_text  y  \n",
       "0  Overwhelmed By My Finances &amp; Getting Force...  1  \n",
       "1  National Insurance - Year is Not FullAccording...  1  \n",
       "2  Refinancing ProcessI’m in Wyoming. And I’m pur...  1  \n",
       "3  Finally maxing out my SEP IRA (as an employee)...  1  \n",
       "4  Advice for limiting damage from joint &amp; au...  1  "
      ]
     },
     "execution_count": 69,
     "metadata": {},
     "output_type": "execute_result"
    }
   ],
   "source": [
    "comb_df.head()"
   ]
  },
  {
   "cell_type": "markdown",
   "metadata": {},
   "source": [
    "## Cleaning function for all_text column"
   ]
  },
  {
   "cell_type": "markdown",
   "metadata": {},
   "source": [
    "This function is to leave the all_text column with words that would be more related to the topic of the subreddits by removing HTML tags, words, symbols and digits that aren't useful as indidual elements when vectorzing and removing new lines. Stopwords are also taken out and the remaining words are lemmatized to reduce variations of basewords that might prolong the classifying process."
   ]
  },
  {
   "cell_type": "code",
   "execution_count": 70,
   "metadata": {},
   "outputs": [],
   "source": [
    "def review_to_words(raw_review):\n",
    "    # Function to convert a raw review to a string of words\n",
    "    # The input is a single string (a raw movie review), and \n",
    "    # the output is a single string (a preprocessed movie review)\n",
    "    \n",
    "    #Remove HTML.\n",
    "    review_text = BeautifulSoup(raw_review).get_text()\n",
    "    \n",
    "    \n",
    "    #remove https tags\n",
    "    letters_only = re.sub(r'https?:\\/\\/.*[\\r\\n]*','',review_text)\n",
    "    #remove punctuation\n",
    "    letters_only = re.sub('\\[.*?()\\]','',letters_only)\n",
    "    #removing words with numbers in them\n",
    "    letters_only = re.sub('\\w*d\\w*','',letters_only)\n",
    "    #removing numbers\n",
    "    letters_only = re.sub('\\d','',letters_only) \n",
    "    #remove words with 1 or 2 letters\n",
    "    letters_only = re.sub(r\"\\b[a-zA-Z]{1,2,3}\\b\", \"\", letters_only)\n",
    "    letters_only = re.sub(\"[^a-zA-Z]\", \" \", letters_only)\n",
    "    #remove new lines\n",
    "    letters_only = re.sub(\"\\n\",\" \",letters_only)\n",
    "    \n",
    "    \n",
    "    \n",
    "    #Convert to lower case, split into individual words.\n",
    "    words = letters_only.lower().split()\n",
    "    \n",
    "    # In Python, searching a set is much faster than searching\n",
    "    # a list, so convert the stopwords to a set.\n",
    "    stops = set(stopwords.words('english'))\n",
    "    \n",
    "  \n",
    "    \n",
    "    #Remove stopwords.\n",
    "    meaningful_words = [w for w in words if w not in stops]\n",
    "    #More words to remove after looking at the EDA section below\n",
    "    more_stops= ['StudentLoans','investing','would','get','make','know','still','like','https',\n",
    "                'com','www','take','go','going','think','want','see','try','come','also']\n",
    "    \n",
    "    meaningful_words = [w for w in meaningful_words if w not in more_stops]\n",
    "    \n",
    "    #Lemmatize words (Stemmer returns weird results like 'people' as 'peopl')\n",
    "    lemm = WordNetLemmatizer()\n",
    "    meaningful_words = [lemm.lemmatize(w) for w in meaningful_words]\n",
    "    \n",
    "    # Join the words back into one string separated by space, \n",
    "    # and return the result.\n",
    "    return(\" \".join(meaningful_words))"
   ]
  },
  {
   "cell_type": "code",
   "execution_count": 71,
   "metadata": {},
   "outputs": [],
   "source": [
    "# create column for cleaned all_text\n",
    "comb_df['clean_text'] = comb_df['all_text'].apply(lambda x: review_to_words(x))"
   ]
  },
  {
   "cell_type": "code",
   "execution_count": 72,
   "metadata": {},
   "outputs": [
    {
     "data": {
      "text/html": [
       "<div>\n",
       "<style scoped>\n",
       "    .dataframe tbody tr th:only-of-type {\n",
       "        vertical-align: middle;\n",
       "    }\n",
       "\n",
       "    .dataframe tbody tr th {\n",
       "        vertical-align: top;\n",
       "    }\n",
       "\n",
       "    .dataframe thead th {\n",
       "        text-align: right;\n",
       "    }\n",
       "</style>\n",
       "<table border=\"1\" class=\"dataframe\">\n",
       "  <thead>\n",
       "    <tr style=\"text-align: right;\">\n",
       "      <th></th>\n",
       "      <th>name</th>\n",
       "      <th>subreddit</th>\n",
       "      <th>title</th>\n",
       "      <th>selftext</th>\n",
       "      <th>all_text</th>\n",
       "      <th>y</th>\n",
       "      <th>clean_text</th>\n",
       "    </tr>\n",
       "  </thead>\n",
       "  <tbody>\n",
       "    <tr>\n",
       "      <th>0</th>\n",
       "      <td>t3_gjnn7e</td>\n",
       "      <td>personalfinance</td>\n",
       "      <td>Overwhelmed By My Finances &amp;amp; Getting Force...</td>\n",
       "      <td>So, the overview: I'm an out of work cook with...</td>\n",
       "      <td>Overwhelmed By My Finances &amp;amp; Getting Force...</td>\n",
       "      <td>1</td>\n",
       "      <td>finance getting forceful othersso overview wor...</td>\n",
       "    </tr>\n",
       "    <tr>\n",
       "      <th>1</th>\n",
       "      <td>t3_gjnmwp</td>\n",
       "      <td>personalfinance</td>\n",
       "      <td>National Insurance - Year is Not Full</td>\n",
       "      <td>According to [tax.service.gov.uk](https://tax....</td>\n",
       "      <td>National Insurance - Year is Not FullAccording...</td>\n",
       "      <td>1</td>\n",
       "      <td>national insurance year one asking voluntary c...</td>\n",
       "    </tr>\n",
       "    <tr>\n",
       "      <th>2</th>\n",
       "      <td>t3_gjnlbs</td>\n",
       "      <td>personalfinance</td>\n",
       "      <td>Refinancing Process</td>\n",
       "      <td>I’m in Wyoming. And I’m pursuing a refinance t...</td>\n",
       "      <td>Refinancing ProcessI’m in Wyoming. And I’m pur...</td>\n",
       "      <td>1</td>\n",
       "      <td>refinancing processi wyoming pursuing refinanc...</td>\n",
       "    </tr>\n",
       "    <tr>\n",
       "      <th>3</th>\n",
       "      <td>t3_gjned9</td>\n",
       "      <td>personalfinance</td>\n",
       "      <td>Finally maxing out my SEP IRA (as an employee)...</td>\n",
       "      <td>Like the title says, I am now financially able...</td>\n",
       "      <td>Finally maxing out my SEP IRA (as an employee)...</td>\n",
       "      <td>1</td>\n",
       "      <td>finally maxing sep ira employee title say fina...</td>\n",
       "    </tr>\n",
       "    <tr>\n",
       "      <th>4</th>\n",
       "      <td>t3_gjneqq</td>\n",
       "      <td>personalfinance</td>\n",
       "      <td>Advice for limiting damage from joint &amp;amp; au...</td>\n",
       "      <td>My fiance's father is going through a pretty r...</td>\n",
       "      <td>Advice for limiting damage from joint &amp;amp; au...</td>\n",
       "      <td>1</td>\n",
       "      <td>limiting joint user person go rehab fiance fat...</td>\n",
       "    </tr>\n",
       "  </tbody>\n",
       "</table>\n",
       "</div>"
      ],
      "text/plain": [
       "        name        subreddit  \\\n",
       "0  t3_gjnn7e  personalfinance   \n",
       "1  t3_gjnmwp  personalfinance   \n",
       "2  t3_gjnlbs  personalfinance   \n",
       "3  t3_gjned9  personalfinance   \n",
       "4  t3_gjneqq  personalfinance   \n",
       "\n",
       "                                               title  \\\n",
       "0  Overwhelmed By My Finances &amp; Getting Force...   \n",
       "1              National Insurance - Year is Not Full   \n",
       "2                                Refinancing Process   \n",
       "3  Finally maxing out my SEP IRA (as an employee)...   \n",
       "4  Advice for limiting damage from joint &amp; au...   \n",
       "\n",
       "                                            selftext  \\\n",
       "0  So, the overview: I'm an out of work cook with...   \n",
       "1  According to [tax.service.gov.uk](https://tax....   \n",
       "2  I’m in Wyoming. And I’m pursuing a refinance t...   \n",
       "3  Like the title says, I am now financially able...   \n",
       "4  My fiance's father is going through a pretty r...   \n",
       "\n",
       "                                            all_text  y  \\\n",
       "0  Overwhelmed By My Finances &amp; Getting Force...  1   \n",
       "1  National Insurance - Year is Not FullAccording...  1   \n",
       "2  Refinancing ProcessI’m in Wyoming. And I’m pur...  1   \n",
       "3  Finally maxing out my SEP IRA (as an employee)...  1   \n",
       "4  Advice for limiting damage from joint &amp; au...  1   \n",
       "\n",
       "                                          clean_text  \n",
       "0  finance getting forceful othersso overview wor...  \n",
       "1  national insurance year one asking voluntary c...  \n",
       "2  refinancing processi wyoming pursuing refinanc...  \n",
       "3  finally maxing sep ira employee title say fina...  \n",
       "4  limiting joint user person go rehab fiance fat...  "
      ]
     },
     "execution_count": 72,
     "metadata": {},
     "output_type": "execute_result"
    }
   ],
   "source": [
    "comb_df.head()"
   ]
  },
  {
   "cell_type": "code",
   "execution_count": 73,
   "metadata": {},
   "outputs": [
    {
     "data": {
      "text/plain": [
       "'finance getting forceful othersso overview work cook k loan k perkins loan mental block kept really committing plan finance last emergency saving say k bank account since put halt many bill long term plan save time car problem year car great springing leak cartoon rowboat family commit k car loan car improve time car across multiple state sometimes mine far minus literally everything leak leaking committing car payment rate got k especially work likely return without huge career shift insane even best hr plus tip unreliable pay car payment anyway better car name case something happens offering k help payment nothing argument specific car year price strong opinion choice car well k obviously choosing car situation feel anything k figure pay k loan september th interest collection saying however long take away telling phone thought stress trying objectively responsible worth principle since actually took k loan x seems excessive screw man move life getting higher salary happily car payment option country option picking fruit new teaching english south korea vietnam alternatively cheaper norway germany part time job better long term investment k car thinking getting mba import export something career path yet perspective situation really helpful seeing forest tree right right call money little every stressful thank'"
      ]
     },
     "execution_count": 73,
     "metadata": {},
     "output_type": "execute_result"
    }
   ],
   "source": [
    "#See the first clean text after cleaning\n",
    "comb_df['clean_text'][0]"
   ]
  },
  {
   "cell_type": "markdown",
   "metadata": {},
   "source": [
    "## EDA"
   ]
  },
  {
   "cell_type": "markdown",
   "metadata": {},
   "source": [
    "Here we will do exploratory data analysis with bar charts of the top 20 words and a word cloud to get a sense of words occuring most frequently in both subreddits and are there irrelavent ones that can be taken out"
   ]
  },
  {
   "cell_type": "code",
   "execution_count": 74,
   "metadata": {},
   "outputs": [],
   "source": [
    "# instantiate CountVectorizer and TfidfVectorizer \n",
    "cvec = CountVectorizer()\n",
    "tfidf = TfidfVectorizer()"
   ]
  },
  {
   "cell_type": "code",
   "execution_count": 76,
   "metadata": {},
   "outputs": [],
   "source": [
    "# CountVectorizer token counts for student loans and personal finance\n",
    "cvec_loan = pd.DataFrame(cvec.fit_transform(comb_df[comb_df['subreddit']=='StudentLoans']['clean_text']).todense(),\n",
    "                       columns=cvec.get_feature_names())\n",
    "\n",
    "cvec_pf = pd.DataFrame(cvec.fit_transform(comb_df[comb_df['subreddit']=='personalfinance']['clean_text']).todense(),\n",
    "                       columns=cvec.get_feature_names())\n"
   ]
  },
  {
   "cell_type": "markdown",
   "metadata": {},
   "source": [
    "I have been looking the barcharts continously and putting words in the function above that aren't related to the subreddit topics like 'would' and 'com' so they get removed. The subreddit topics \"StudentLoans' and 'investing' are also put in the function above to be removed before count vectorizing to minimize data leakage."
   ]
  },
  {
   "cell_type": "code",
   "execution_count": 77,
   "metadata": {},
   "outputs": [
    {
     "data": {
      "image/png": "[encoded data removed]",
      "text/plain": [
       "<Figure size 432x288 with 1 Axes>"
      ]
     },
     "metadata": {
      "needs_background": "light"
     },
     "output_type": "display_data"
    }
   ],
   "source": [
    "cvec_loan_20 = cvec_loan.sum().sort_values(ascending=False).head(20)\n",
    "\n",
    "sns.barplot(y=cvec_loan_20.index.values, x = cvec_loan_20).set_title('Top 20 student loan words');"
   ]
  },
  {
   "cell_type": "code",
   "execution_count": 78,
   "metadata": {},
   "outputs": [
    {
     "data": {
      "image/png": "[encoded data removed]",
      "text/plain": [
       "<Figure size 432x288 with 1 Axes>"
      ]
     },
     "metadata": {
      "needs_background": "light"
     },
     "output_type": "display_data"
    }
   ],
   "source": [
    "cvec_pf_20 = cvec_pf.sum().sort_values(ascending=False).head(20)\n",
    "\n",
    "sns.barplot(y=cvec_pf_20.index.values, x = cvec_pf_20).set_title('Top 20 personal finance words');"
   ]
  },
  {
   "cell_type": "markdown",
   "metadata": {},
   "source": [
    "I created a wordcloud function that can also help me see if there are anymore words to consider taking out. The more times a word appears in the wordcloud the bigger the word will appear in the wordcloud. I can see some common words like 'time' which I believe are relevant to the subreddit posts as people consider time and durations as factors when investing and taking up loans. Though it would be added challange for the model to classify correctly."
   ]
  },
  {
   "cell_type": "code",
   "execution_count": 79,
   "metadata": {},
   "outputs": [],
   "source": [
    "#define wordcloud function\n",
    "def show_wordcloud(data, title):\n",
    "\n",
    "    wordcloud = WordCloud(\n",
    "       background_color='black',\n",
    "       max_words=1000,\n",
    "       colormap='brg',\n",
    "       scale=3).generate(str(data))\n",
    "    fig = plt.figure(1, figsize=(15, 15))\n",
    "    plt.axis('off')\n",
    "    if title:\n",
    "        fig.suptitle(title, fontsize=20)\n",
    "        fig.subplots_adjust(top=2.3)\n",
    "    plt.imshow(wordcloud)\n",
    "    plt.show()"
   ]
  },
  {
   "cell_type": "code",
   "execution_count": 80,
   "metadata": {},
   "outputs": [
    {
     "data": {
      "image/png": "[encoded data removed]",
      "text/plain": [
       "<Figure size 1080x1080 with 1 Axes>"
      ]
     },
     "metadata": {
      "needs_background": "light"
     },
     "output_type": "display_data"
    }
   ],
   "source": [
    "show_wordcloud(comb_df[comb_df['subreddit']=='StudentLoans']['clean_text'],'Top student loans words')"
   ]
  },
  {
   "cell_type": "code",
   "execution_count": 81,
   "metadata": {},
   "outputs": [
    {
     "data": {
      "image/png": "[encoded data removed]",
      "text/plain": [
       "<Figure size 1080x1080 with 1 Axes>"
      ]
     },
     "metadata": {
      "needs_background": "light"
     },
     "output_type": "display_data"
    }
   ],
   "source": [
    "show_wordcloud(comb_df[comb_df['subreddit']=='personalfinance']['clean_text'],'Top personal finance words')"
   ]
  },
  {
   "cell_type": "code",
   "execution_count": 82,
   "metadata": {},
   "outputs": [],
   "source": [
    "#save comb_df to csv\n",
    "comb_df.to_csv('./datasets/comb_df.csv',index=False)"
   ]
  },
  {
   "cell_type": "markdown",
   "metadata": {},
   "source": [
    "## Practice modeling"
   ]
  },
  {
   "cell_type": "code",
   "execution_count": 40,
   "metadata": {},
   "outputs": [
    {
     "ename": "NameError",
     "evalue": "name 'X' is not defined",
     "output_type": "error",
     "traceback": [
      "\u001b[0;31m---------------------------------------------------------------------------\u001b[0m",
      "\u001b[0;31mNameError\u001b[0m                                 Traceback (most recent call last)",
      "\u001b[0;32m<ipython-input-40-2829ce9fc213>\u001b[0m in \u001b[0;36m<module>\u001b[0;34m\u001b[0m\n\u001b[1;32m      1\u001b[0m \u001b[0;31m#do a train test split\u001b[0m\u001b[0;34m\u001b[0m\u001b[0;34m\u001b[0m\u001b[0;34m\u001b[0m\u001b[0m\n\u001b[0;32m----> 2\u001b[0;31m \u001b[0mX_train\u001b[0m\u001b[0;34m,\u001b[0m \u001b[0mX_test\u001b[0m\u001b[0;34m,\u001b[0m \u001b[0my_train\u001b[0m\u001b[0;34m,\u001b[0m \u001b[0my_test\u001b[0m \u001b[0;34m=\u001b[0m \u001b[0mtrain_test_split\u001b[0m\u001b[0;34m(\u001b[0m\u001b[0mX\u001b[0m\u001b[0;34m,\u001b[0m \u001b[0my\u001b[0m\u001b[0;34m,\u001b[0m \u001b[0mstratify\u001b[0m\u001b[0;34m=\u001b[0m\u001b[0my\u001b[0m\u001b[0;34m,\u001b[0m \u001b[0mrandom_state\u001b[0m \u001b[0;34m=\u001b[0m \u001b[0;36m42\u001b[0m\u001b[0;34m)\u001b[0m\u001b[0;34m\u001b[0m\u001b[0;34m\u001b[0m\u001b[0m\n\u001b[0m",
      "\u001b[0;31mNameError\u001b[0m: name 'X' is not defined"
     ]
    }
   ],
   "source": [
    "#do a train test split \n",
    "X_train, X_test, y_train, y_test = train_test_split(X, y, stratify=y, random_state = 42)"
   ]
  },
  {
   "cell_type": "code",
   "execution_count": null,
   "metadata": {},
   "outputs": [],
   "source": [
    "# Import CountVectorizer.\n",
    "from sklearn.feature_extraction.text import CountVectorizer\n",
    "\n",
    "# Instantiate the \"CountVectorizer\" object, which is sklearn's\n",
    "# bag of words tool.\n",
    "vectorizer = CountVectorizer(analyzer = \"word\",\n",
    "                             tokenizer = None,\n",
    "                             preprocessor = None,\n",
    "                             stop_words = None,\n",
    "                             max_features = 1000,\n",
    "                             min_df=2,\n",
    "                             max_df=.90) "
   ]
  },
  {
   "cell_type": "code",
   "execution_count": null,
   "metadata": {},
   "outputs": [],
   "source": [
    "# fit_transform() does two things: First, it fits the model and \n",
    "# learns the vocabulary; second, it transforms our training data\n",
    "# into feature vectors. The input to fit_transform should be a \n",
    "# list of strings.\n",
    "\n",
    "train_data_features = vectorizer.fit_transform(clean_train_reviews)\n",
    "\n",
    "test_data_features = vectorizer.transform(clean_test_reviews)"
   ]
  },
  {
   "cell_type": "code",
   "execution_count": null,
   "metadata": {},
   "outputs": [],
   "source": [
    "print(train_data_features.shape)"
   ]
  },
  {
   "cell_type": "code",
   "execution_count": null,
   "metadata": {},
   "outputs": [],
   "source": [
    "print(test_data_features.shape)"
   ]
  },
  {
   "cell_type": "code",
   "execution_count": null,
   "metadata": {},
   "outputs": [],
   "source": [
    "# Convert X_train into a DataFrame.\n",
    "\n",
    "X_train_df = pd.DataFrame(train_data_features.toarray(),\n",
    "                          columns=vectorizer.get_feature_names())"
   ]
  },
  {
   "cell_type": "code",
   "execution_count": null,
   "metadata": {},
   "outputs": [],
   "source": [
    "X_train_df.head()"
   ]
  },
  {
   "cell_type": "code",
   "execution_count": null,
   "metadata": {},
   "outputs": [],
   "source": [
    "# Convert X_test into a DataFrame.\n",
    "\n",
    "X_test_df = pd.DataFrame(test_data_features.toarray(),\n",
    "                          columns=vectorizer.get_feature_names())"
   ]
  },
  {
   "cell_type": "code",
   "execution_count": null,
   "metadata": {},
   "outputs": [],
   "source": [
    "X_test_df.head()"
   ]
  },
  {
   "cell_type": "code",
   "execution_count": null,
   "metadata": {},
   "outputs": [],
   "source": [
    "#This is the baseline accuracy in order to tell if our model is better than null model\n",
    "y_test.value_counts(normalize=True)    "
   ]
  },
  {
   "cell_type": "code",
   "execution_count": null,
   "metadata": {},
   "outputs": [],
   "source": [
    "# Instantiate logistic regression model.\n",
    "lr = LogisticRegression(solver='lbfgs',max_iter=500)\n",
    "\n",
    "# Fit model to training data.\n",
    "lr.fit(train_data_features,y_train)\n",
    "\n",
    "# Evaluate model on training data.\n",
    "lr.score(train_data_features,y_train) #Accuracy"
   ]
  },
  {
   "cell_type": "code",
   "execution_count": null,
   "metadata": {},
   "outputs": [],
   "source": [
    "# Evaluate model on testing data.\n",
    "\n",
    "lr.score(test_data_features,y_test)"
   ]
  },
  {
   "cell_type": "code",
   "execution_count": null,
   "metadata": {},
   "outputs": [],
   "source": [
    "# Instantiate our Multinomial Bayes\n",
    "\n",
    "nb = MultinomialNB()"
   ]
  },
  {
   "cell_type": "code",
   "execution_count": null,
   "metadata": {},
   "outputs": [],
   "source": [
    "# Fit our model\n",
    "\n",
    "model = nb.fit(X_train_df, y_train)"
   ]
  },
  {
   "cell_type": "code",
   "execution_count": null,
   "metadata": {},
   "outputs": [],
   "source": [
    "# Generate our predictions\n",
    "\n",
    "predictions = model.predict(X_test_df)"
   ]
  },
  {
   "cell_type": "code",
   "execution_count": null,
   "metadata": {},
   "outputs": [],
   "source": [
    "# Score our model on the training set.\n",
    "\n",
    "model.score(X_train_df, y_train)"
   ]
  },
  {
   "cell_type": "code",
   "execution_count": null,
   "metadata": {},
   "outputs": [],
   "source": [
    "# Score our model on the test set.\n",
    "\n",
    "model.score(X_test_df, y_test)"
   ]
  },
  {
   "cell_type": "code",
   "execution_count": null,
   "metadata": {},
   "outputs": [],
   "source": [
    "# Generate a confusion matrix.\n",
    "\n",
    "confusion_matrix(y_test, predictions)"
   ]
  },
  {
   "cell_type": "code",
   "execution_count": null,
   "metadata": {},
   "outputs": [],
   "source": [
    "tn, fp, fn, tp = confusion_matrix(y_test, predictions).ravel()"
   ]
  },
  {
   "cell_type": "code",
   "execution_count": null,
   "metadata": {},
   "outputs": [],
   "source": [
    "#print out each element in the confusion matrix\n",
    "print(\"True Negatives: %s\" % tn)\n",
    "print(\"False Positives: %s\" % fp)\n",
    "print(\"False Negatives: %s\" % fn)\n",
    "print(\"True Positives: %s\" % tp)"
   ]
  },
  {
   "cell_type": "code",
   "execution_count": null,
   "metadata": {},
   "outputs": [],
   "source": [
    "# Instantiate the transformer.\n",
    "tvec = TfidfVectorizer()"
   ]
  },
  {
   "cell_type": "code",
   "execution_count": null,
   "metadata": {},
   "outputs": [],
   "source": [
    "tfidf_train_df = pd.DataFrame(tvec.fit_transform(clean_train_reviews).toarray(),\n",
    "                  columns=tvec.get_feature_names())"
   ]
  },
  {
   "cell_type": "code",
   "execution_count": null,
   "metadata": {},
   "outputs": [],
   "source": [
    "tfidf_test_df = pd.DataFrame(tvec.fit_transform(clean_test_reviews).toarray(),\n",
    "                  columns=tvec.get_feature_names())"
   ]
  },
  {
   "cell_type": "markdown",
   "metadata": {},
   "source": [
    "## Pipeline and Gridsearch"
   ]
  },
  {
   "cell_type": "code",
   "execution_count": null,
   "metadata": {},
   "outputs": [],
   "source": [
    "# Let's set a pipeline up with two stages:\n",
    "# 1. CountVectorizer (transformer)\n",
    "# 2. LogisticRegression (estimator)\n",
    "\n",
    "pipe = Pipeline([\n",
    "    ('cvec', CountVectorizer()),\n",
    "    ('lr', LogisticRegression(solver = 'lbfgs'))\n",
    "])"
   ]
  },
  {
   "cell_type": "code",
   "execution_count": null,
   "metadata": {},
   "outputs": [],
   "source": [
    "# Search over the following values of hyperparameters:\n",
    "# Maximum number of features fit: 2000, 3000, 4000, 5000\n",
    "# Minimum number of documents needed to include token: 2, 3\n",
    "# Maximum number of documents needed to include token: 90%, 95%\n",
    "# Check (individual tokens) and also check (individual tokens and 2-grams).\n",
    "\n",
    "pipe_params = {\n",
    "    'cvec__max_features': [2_000, 3_000, 4_000, 5_000],\n",
    "    'cvec__min_df': [2, 3],\n",
    "    'cvec__max_df': [.9, .95],\n",
    "    'cvec__ngram_range': [(1,1), (1,2)]\n",
    "}"
   ]
  },
  {
   "cell_type": "code",
   "execution_count": null,
   "metadata": {},
   "outputs": [],
   "source": [
    "# Instantiate GridSearchCV.\n",
    "\n",
    "gs = GridSearchCV(pipe, # what object are we optimizing?\n",
    "                  param_grid=pipe_params, # what parameters values are we searching?\n",
    "                  cv=5) # 5-fold cross-validation."
   ]
  },
  {
   "cell_type": "code",
   "execution_count": null,
   "metadata": {},
   "outputs": [],
   "source": [
    "# Fit GridSearch to training data.\n",
    "gs.fit(clean_train_reviews, y_train)"
   ]
  },
  {
   "cell_type": "code",
   "execution_count": null,
   "metadata": {},
   "outputs": [],
   "source": [
    "# What's the best score?\n",
    "print(gs.best_score_)"
   ]
  },
  {
   "cell_type": "code",
   "execution_count": null,
   "metadata": {},
   "outputs": [],
   "source": [
    "gs_model = gs.best_estimator_"
   ]
  },
  {
   "cell_type": "code",
   "execution_count": null,
   "metadata": {},
   "outputs": [],
   "source": [
    "# Score model on training set.\n",
    "gs_model.score(clean_train_reviews, y_train)"
   ]
  },
  {
   "cell_type": "code",
   "execution_count": null,
   "metadata": {},
   "outputs": [],
   "source": [
    "# Score model on test set.\n",
    "gs_model.score(clean_test_reviews, y_test)"
   ]
  },
  {
   "cell_type": "code",
   "execution_count": null,
   "metadata": {},
   "outputs": [],
   "source": [
    "# Instantiate the transformer.\n",
    "tvec = TfidfVectorizer()"
   ]
  },
  {
   "cell_type": "code",
   "execution_count": null,
   "metadata": {},
   "outputs": [],
   "source": [
    "pipe = Pipeline([\n",
    "    ('tvec', TfidfVectorizer()),\n",
    "    ('lr', LogisticRegression(solver = 'lbfgs'))\n",
    "])"
   ]
  },
  {
   "cell_type": "code",
   "execution_count": null,
   "metadata": {},
   "outputs": [],
   "source": [
    "# Search over the following values of hyperparameters:\n",
    "# Maximum number of features fit: 2000, 3000, 4000, 5000\n",
    "# Minimum number of documents needed to include token: 2, 3\n",
    "# Maximum number of documents needed to include token: 90%, 95%\n",
    "# Check (individual tokens) and also check (individual tokens and 2-grams).\n",
    "\n",
    "pipe_params = {\n",
    "    'tvec__max_features': [2_000, 3_000, 4_000, 5_000],\n",
    "    'tvec__min_df': [2, 3],\n",
    "    'tvec__max_df': [.9, .95],\n",
    "    'tvec__ngram_range': [(1,1), (1,2)]\n",
    "}"
   ]
  },
  {
   "cell_type": "code",
   "execution_count": null,
   "metadata": {},
   "outputs": [],
   "source": [
    "# Instantiate GridSearchCV.\n",
    "\n",
    "gs = GridSearchCV(pipe, # what object are we optimizing?\n",
    "                  param_grid=pipe_params, # what parameters values are we searching?\n",
    "                  cv=5) # 5-fold cross-validation."
   ]
  },
  {
   "cell_type": "code",
   "execution_count": null,
   "metadata": {},
   "outputs": [],
   "source": [
    "# Fit GridSearch to training data.\n",
    "gs.fit(clean_train_reviews, y_train)"
   ]
  },
  {
   "cell_type": "code",
   "execution_count": null,
   "metadata": {},
   "outputs": [],
   "source": [
    "# What's the best score?\n",
    "print(gs.best_score_)"
   ]
  },
  {
   "cell_type": "code",
   "execution_count": null,
   "metadata": {},
   "outputs": [],
   "source": [
    "gs_model = gs.best_estimator_"
   ]
  },
  {
   "cell_type": "code",
   "execution_count": null,
   "metadata": {},
   "outputs": [],
   "source": [
    "# Score model on training set.\n",
    "gs_model.score(clean_train_reviews, y_train)"
   ]
  },
  {
   "cell_type": "code",
   "execution_count": null,
   "metadata": {},
   "outputs": [],
   "source": [
    "# Score model on test set.\n",
    "gs_model.score(clean_test_reviews, y_test)"
   ]
  },
  {
   "cell_type": "code",
   "execution_count": null,
   "metadata": {},
   "outputs": [],
   "source": []
  }
 ],
 "metadata": {
  "kernelspec": {
   "display_name": "Python 3",
   "language": "python",
   "name": "python3"
  },
  "language_info": {
   "codemirror_mode": {
    "name": "ipython",
    "version": 3
   },
   "file_extension": ".py",
   "mimetype": "text/x-python",
   "name": "python",
   "nbconvert_exporter": "python",
   "pygments_lexer": "ipython3",
   "version": "3.7.6"
  }
 },
 "nbformat": 4,
 "nbformat_minor": 4
}
