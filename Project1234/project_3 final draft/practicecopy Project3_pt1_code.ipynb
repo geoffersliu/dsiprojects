{
 "cells": [
  {
   "cell_type": "markdown",
   "metadata": {},
   "source": [
    "# Project 3 - Using NLP to train a classifier on which subreddit a given post came from\n",
    "For project 3, your goal is two-fold:\n",
    "1. Using Reddit's API, you'll collect posts from two subreddits of your choosing.\n",
    "2. You'll then use NLP to train a classifier on which subreddit a given post came from. This is a binary classification problem."
   ]
  },
  {
   "cell_type": "markdown",
   "metadata": {},
   "source": [
    "## Problem Statement"
   ]
  },
  {
   "cell_type": "markdown",
   "metadata": {},
   "source": [
    "## Executive Summary"
   ]
  },
  {
   "cell_type": "markdown",
   "metadata": {},
   "source": [
    "### Table of Contents\n",
    "- [Create headers and url](#Create-headers-and-url)\n",
    "- [Investing subreddit scrape](#Investing-subreddit-scrape)\n",
    "- [Student Loans subreddit scrape](#Student-Loans-subreddit-scrape)"
   ]
  },
  {
   "cell_type": "code",
   "execution_count": 3,
   "metadata": {},
   "outputs": [],
   "source": [
    "#Import the neccessary libraries\n",
    "import requests\n",
    "import pandas as pd\n",
    "import time\n",
    "import random\n",
    "from bs4 import BeautifulSoup\n",
    "\n",
    "pd.set_option('display.max_columns', None)"
   ]
  },
  {
   "cell_type": "markdown",
   "metadata": {},
   "source": [
    "## Create headers and url"
   ]
  },
  {
   "cell_type": "code",
   "execution_count": 4,
   "metadata": {},
   "outputs": [],
   "source": [
    "#create headers so reddit won't know its python agent\n",
    "headers = {'User-agent': 'Geoff Inc 8.0'}"
   ]
  },
  {
   "cell_type": "code",
   "execution_count": 5,
   "metadata": {},
   "outputs": [],
   "source": [
    "investurl = 'https://www.reddit.com/r/investing/new.json'"
   ]
  },
  {
   "cell_type": "code",
   "execution_count": 6,
   "metadata": {},
   "outputs": [],
   "source": [
    "loanurl = 'https://www.reddit.com/r/StudentLoans/.json'"
   ]
  },
  {
   "cell_type": "markdown",
   "metadata": {},
   "source": [
    "## Investing subreddit scrape"
   ]
  },
  {
   "cell_type": "code",
   "execution_count": 364,
   "metadata": {
    "scrolled": true
   },
   "outputs": [
    {
     "name": "stdout",
     "output_type": "stream",
     "text": [
      "https://www.reddit.com/r/investing/new.json\n",
      "6\n",
      "https://www.reddit.com/r/investing/new.json?after=t3_gg6nuv\n",
      "4\n",
      "https://www.reddit.com/r/investing/new.json?after=t3_gfzvr2\n",
      "3\n",
      "https://www.reddit.com/r/investing/new.json?after=t3_gfsn42\n",
      "4\n",
      "https://www.reddit.com/r/investing/new.json?after=t3_gfkrsj\n",
      "3\n",
      "https://www.reddit.com/r/investing/new.json?after=t3_gfejee\n",
      "5\n",
      "https://www.reddit.com/r/investing/new.json?after=t3_gf8ckh\n",
      "5\n",
      "https://www.reddit.com/r/investing/new.json?after=t3_gf445n\n",
      "6\n",
      "https://www.reddit.com/r/investing/new.json?after=t3_gexw1b\n",
      "3\n",
      "https://www.reddit.com/r/investing/new.json?after=t3_geqeep\n",
      "2\n",
      "https://www.reddit.com/r/investing/new.json?after=t3_gelo26\n",
      "4\n",
      "https://www.reddit.com/r/investing/new.json?after=t3_ged65t\n",
      "5\n",
      "https://www.reddit.com/r/investing/new.json?after=t3_ge6iz5\n",
      "4\n",
      "https://www.reddit.com/r/investing/new.json?after=t3_gdxdv8\n",
      "3\n",
      "https://www.reddit.com/r/investing/new.json?after=t3_gdoqvg\n",
      "5\n",
      "https://www.reddit.com/r/investing/new.json?after=t3_gdir9z\n",
      "6\n",
      "https://www.reddit.com/r/investing/new.json?after=t3_gdan9q\n",
      "4\n",
      "https://www.reddit.com/r/investing/new.json?after=t3_gctgeb\n",
      "3\n",
      "https://www.reddit.com/r/investing/new.json?after=t3_gcgi1e\n",
      "6\n",
      "https://www.reddit.com/r/investing/new.json?after=t3_gc6w0k\n",
      "6\n",
      "https://www.reddit.com/r/investing/new.json?after=t3_gbzgi1\n",
      "5\n",
      "https://www.reddit.com/r/investing/new.json?after=t3_gbmo5z\n",
      "3\n",
      "https://www.reddit.com/r/investing/new.json?after=t3_gbhq44\n",
      "3\n",
      "https://www.reddit.com/r/investing/new.json?after=t3_gb719v\n",
      "3\n",
      "https://www.reddit.com/r/investing/new.json?after=t3_gaxocu\n",
      "4\n",
      "https://www.reddit.com/r/investing/new.json?after=t3_ganede\n",
      "5\n",
      "https://www.reddit.com/r/investing/new.json?after=t3_gaiiee\n",
      "4\n",
      "https://www.reddit.com/r/investing/new.json?after=t3_gafbrl\n",
      "3\n",
      "https://www.reddit.com/r/investing/new.json?after=t3_ga7rq0\n",
      "5\n",
      "https://www.reddit.com/r/investing/new.json?after=t3_g9yb4v\n",
      "2\n",
      "https://www.reddit.com/r/investing/new.json?after=t3_g9msrg\n",
      "3\n",
      "https://www.reddit.com/r/investing/new.json?after=t3_g9atye\n",
      "5\n",
      "https://www.reddit.com/r/investing/new.json?after=t3_g93g5j\n",
      "5\n",
      "https://www.reddit.com/r/investing/new.json?after=t3_g8tas7\n",
      "6\n",
      "https://www.reddit.com/r/investing/new.json?after=t3_g8gipt\n",
      "4\n",
      "https://www.reddit.com/r/investing/new.json?after=t3_g88lsf\n",
      "5\n",
      "https://www.reddit.com/r/investing/new.json?after=t3_g80ny9\n",
      "2\n",
      "https://www.reddit.com/r/investing/new.json?after=t3_g7sn65\n",
      "2\n",
      "https://www.reddit.com/r/investing/new.json?after=t3_g7l5yy\n",
      "5\n",
      "https://www.reddit.com/r/investing/new.json\n",
      "6\n",
      "https://www.reddit.com/r/investing/new.json?after=t3_gg6nuv\n",
      "4\n",
      "https://www.reddit.com/r/investing/new.json?after=t3_gfzvr2\n",
      "5\n",
      "https://www.reddit.com/r/investing/new.json?after=t3_gfsn42\n",
      "5\n",
      "https://www.reddit.com/r/investing/new.json?after=t3_gfkrsj\n",
      "2\n",
      "https://www.reddit.com/r/investing/new.json?after=t3_gfejee\n",
      "3\n",
      "https://www.reddit.com/r/investing/new.json?after=t3_gf8ckh\n",
      "4\n",
      "https://www.reddit.com/r/investing/new.json?after=t3_gf445n\n",
      "3\n",
      "https://www.reddit.com/r/investing/new.json?after=t3_gexw1b\n",
      "4\n",
      "https://www.reddit.com/r/investing/new.json?after=t3_geqeep\n",
      "6\n",
      "https://www.reddit.com/r/investing/new.json?after=t3_gelo26\n",
      "4\n",
      "https://www.reddit.com/r/investing/new.json?after=t3_ged65t\n",
      "3\n",
      "https://www.reddit.com/r/investing/new.json?after=t3_ge6iz5\n",
      "5\n",
      "https://www.reddit.com/r/investing/new.json?after=t3_gdxdv8\n",
      "6\n",
      "https://www.reddit.com/r/investing/new.json?after=t3_gdoqvg\n",
      "6\n",
      "https://www.reddit.com/r/investing/new.json?after=t3_gdir9z\n",
      "5\n",
      "https://www.reddit.com/r/investing/new.json?after=t3_gdan9q\n",
      "2\n",
      "https://www.reddit.com/r/investing/new.json?after=t3_gctgeb\n",
      "5\n",
      "https://www.reddit.com/r/investing/new.json?after=t3_gcgi1e\n",
      "5\n",
      "https://www.reddit.com/r/investing/new.json?after=t3_gc6w0k\n",
      "3\n",
      "https://www.reddit.com/r/investing/new.json?after=t3_gbzgi1\n",
      "6\n",
      "https://www.reddit.com/r/investing/new.json?after=t3_gbmo5z\n",
      "4\n",
      "https://www.reddit.com/r/investing/new.json?after=t3_gbhq44\n",
      "5\n",
      "https://www.reddit.com/r/investing/new.json?after=t3_gb719v\n",
      "3\n",
      "https://www.reddit.com/r/investing/new.json?after=t3_gaxocu\n",
      "6\n",
      "https://www.reddit.com/r/investing/new.json?after=t3_ganede\n",
      "3\n",
      "https://www.reddit.com/r/investing/new.json?after=t3_gaiiee\n",
      "5\n",
      "https://www.reddit.com/r/investing/new.json?after=t3_gafbrl\n",
      "2\n",
      "https://www.reddit.com/r/investing/new.json?after=t3_ga7rq0\n",
      "2\n",
      "https://www.reddit.com/r/investing/new.json?after=t3_g9yb4v\n",
      "2\n",
      "https://www.reddit.com/r/investing/new.json?after=t3_g9msrg\n",
      "6\n",
      "https://www.reddit.com/r/investing/new.json?after=t3_g9atye\n",
      "3\n",
      "https://www.reddit.com/r/investing/new.json?after=t3_g93g5j\n",
      "6\n",
      "https://www.reddit.com/r/investing/new.json?after=t3_g8tas7\n",
      "4\n",
      "https://www.reddit.com/r/investing/new.json?after=t3_g8gipt\n",
      "3\n",
      "https://www.reddit.com/r/investing/new.json?after=t3_g88lsf\n",
      "3\n",
      "https://www.reddit.com/r/investing/new.json?after=t3_g80ny9\n",
      "4\n",
      "https://www.reddit.com/r/investing/new.json?after=t3_g7sn65\n",
      "2\n",
      "https://www.reddit.com/r/investing/new.json?after=t3_g7l5yy\n",
      "4\n",
      "https://www.reddit.com/r/investing/new.json\n",
      "4\n",
      "https://www.reddit.com/r/investing/new.json?after=t3_gg6nuv\n",
      "6\n",
      "https://www.reddit.com/r/investing/new.json?after=t3_gfzvr2\n",
      "6\n",
      "https://www.reddit.com/r/investing/new.json?after=t3_gfsn42\n",
      "5\n",
      "https://www.reddit.com/r/investing/new.json?after=t3_gfkrsj\n",
      "4\n",
      "https://www.reddit.com/r/investing/new.json?after=t3_gfejee\n",
      "4\n",
      "https://www.reddit.com/r/investing/new.json?after=t3_gf8ckh\n",
      "4\n",
      "https://www.reddit.com/r/investing/new.json?after=t3_gf445n\n",
      "2\n",
      "https://www.reddit.com/r/investing/new.json?after=t3_gexw1b\n",
      "5\n",
      "https://www.reddit.com/r/investing/new.json?after=t3_geqeep\n",
      "6\n",
      "https://www.reddit.com/r/investing/new.json?after=t3_gelo26\n",
      "5\n",
      "https://www.reddit.com/r/investing/new.json?after=t3_ged65t\n",
      "2\n",
      "https://www.reddit.com/r/investing/new.json?after=t3_ge6iz5\n",
      "2\n",
      "https://www.reddit.com/r/investing/new.json?after=t3_gdxdv8\n",
      "4\n",
      "https://www.reddit.com/r/investing/new.json?after=t3_gdoqvg\n",
      "4\n",
      "https://www.reddit.com/r/investing/new.json?after=t3_gdir9z\n",
      "6\n",
      "https://www.reddit.com/r/investing/new.json?after=t3_gdan9q\n",
      "2\n",
      "https://www.reddit.com/r/investing/new.json?after=t3_gctgeb\n",
      "6\n",
      "https://www.reddit.com/r/investing/new.json?after=t3_gcgi1e\n",
      "6\n",
      "https://www.reddit.com/r/investing/new.json?after=t3_gc6w0k\n",
      "2\n",
      "https://www.reddit.com/r/investing/new.json?after=t3_gbzgi1\n",
      "2\n",
      "https://www.reddit.com/r/investing/new.json?after=t3_gbmo5z\n",
      "4\n"
     ]
    }
   ],
   "source": [
    "#scraping for investing subreddit posts\n",
    "invest_posts = []\n",
    "after = None\n",
    "\n",
    "for a in range(100):\n",
    "    if after == None:\n",
    "        current_url = investurl\n",
    "    else:\n",
    "        current_url = investurl + '?after=' + after\n",
    "    print(current_url)\n",
    "    investres = requests.get(current_url, headers=headers)\n",
    "    \n",
    "    if investres.status_code != 200:\n",
    "        print('Status error', res.status_code)\n",
    "        break\n",
    "    \n",
    "    current_dict = investres.json()\n",
    "    current_posts = [p['data'] for p in current_dict['data']['children']]\n",
    "    investing_posts.extend(current_posts)\n",
    "    after = current_dict['data']['after']\n",
    "    \n",
    "    \n",
    "    if a > 0:\n",
    "        prev_posts = pd.read_csv('./datasets/investing.csv')\n",
    "        current_df = pd.DataFrame(current_posts)\n",
    "        final = pd.concat([prev_posts,current_df])\n",
    "        final.to_csv('./datasets/investing.csv',index=False)\n",
    "        \n",
    "    else:\n",
    "        pd.DataFrame(current_posts).to_csv('./datasets/investing.csv', index = False)\n",
    "    \n",
    "    # generate a random sleep duration to look more 'natural'\n",
    "    sleep_duration = random.randint(2,6)\n",
    "    print(sleep_duration)\n",
    "    time.sleep(sleep_duration)"
   ]
  },
  {
   "cell_type": "code",
   "execution_count": 365,
   "metadata": {},
   "outputs": [],
   "source": [
    "#read investing csv\n",
    "indf = pd.read_csv('./datasets/investing.csv')"
   ]
  },
  {
   "cell_type": "code",
   "execution_count": 366,
   "metadata": {},
   "outputs": [
    {
     "data": {
      "text/plain": [
       "(2496, 102)"
      ]
     },
     "execution_count": 366,
     "metadata": {},
     "output_type": "execute_result"
    }
   ],
   "source": [
    "indf.shape"
   ]
  },
  {
   "cell_type": "code",
   "execution_count": 386,
   "metadata": {},
   "outputs": [
    {
     "data": {
      "text/html": [
       "<div>\n",
       "<style scoped>\n",
       "    .dataframe tbody tr th:only-of-type {\n",
       "        vertical-align: middle;\n",
       "    }\n",
       "\n",
       "    .dataframe tbody tr th {\n",
       "        vertical-align: top;\n",
       "    }\n",
       "\n",
       "    .dataframe thead th {\n",
       "        text-align: right;\n",
       "    }\n",
       "</style>\n",
       "<table border=\"1\" class=\"dataframe\">\n",
       "  <thead>\n",
       "    <tr style=\"text-align: right;\">\n",
       "      <th></th>\n",
       "      <th>name</th>\n",
       "      <th>subreddit</th>\n",
       "      <th>title</th>\n",
       "      <th>selftext</th>\n",
       "    </tr>\n",
       "  </thead>\n",
       "  <tbody>\n",
       "    <tr>\n",
       "      <th>0</th>\n",
       "      <td>t3_ggfbbc</td>\n",
       "      <td>investing</td>\n",
       "      <td>This video is the simplest video that explains...</td>\n",
       "      <td># [https://youtu.be/PqiewtqGYM4](https://youtu...</td>\n",
       "    </tr>\n",
       "    <tr>\n",
       "      <th>1</th>\n",
       "      <td>t3_ggfazw</td>\n",
       "      <td>investing</td>\n",
       "      <td>Non index funds that do well when the market i...</td>\n",
       "      <td>I thought I’d try something a little different...</td>\n",
       "    </tr>\n",
       "    <tr>\n",
       "      <th>2</th>\n",
       "      <td>t3_ggf7zk</td>\n",
       "      <td>investing</td>\n",
       "      <td>What profits should we expect for a company th...</td>\n",
       "      <td>I'm new to investing and have no background in...</td>\n",
       "    </tr>\n",
       "    <tr>\n",
       "      <th>3</th>\n",
       "      <td>t3_ggeebs</td>\n",
       "      <td>investing</td>\n",
       "      <td>Daily Advice Thread - All basic help or advice...</td>\n",
       "      <td>If your question is \"I have $10,000, what do I...</td>\n",
       "    </tr>\n",
       "    <tr>\n",
       "      <th>4</th>\n",
       "      <td>t3_ggedr4</td>\n",
       "      <td>investing</td>\n",
       "      <td>Group and company f/s and consolidated statements</td>\n",
       "      <td>I can't seem to understand. The difference bet...</td>\n",
       "    </tr>\n",
       "  </tbody>\n",
       "</table>\n",
       "</div>"
      ],
      "text/plain": [
       "        name  subreddit                                              title  \\\n",
       "0  t3_ggfbbc  investing  This video is the simplest video that explains...   \n",
       "1  t3_ggfazw  investing  Non index funds that do well when the market i...   \n",
       "2  t3_ggf7zk  investing  What profits should we expect for a company th...   \n",
       "3  t3_ggeebs  investing  Daily Advice Thread - All basic help or advice...   \n",
       "4  t3_ggedr4  investing  Group and company f/s and consolidated statements   \n",
       "\n",
       "                                            selftext  \n",
       "0  # [https://youtu.be/PqiewtqGYM4](https://youtu...  \n",
       "1  I thought I’d try something a little different...  \n",
       "2  I'm new to investing and have no background in...  \n",
       "3  If your question is \"I have $10,000, what do I...  \n",
       "4  I can't seem to understand. The difference bet...  "
      ]
     },
     "execution_count": 386,
     "metadata": {},
     "output_type": "execute_result"
    }
   ],
   "source": [
    "#see indf can successfully open\n",
    "indf.head()"
   ]
  },
  {
   "cell_type": "code",
   "execution_count": 368,
   "metadata": {},
   "outputs": [],
   "source": [
    "#retain 'name','subreddit','title','selftext' columns\n",
    "indf = indf[['name','subreddit','title','selftext']]"
   ]
  },
  {
   "cell_type": "code",
   "execution_count": 369,
   "metadata": {},
   "outputs": [
    {
     "data": {
      "text/plain": [
       "2496"
      ]
     },
     "execution_count": 369,
     "metadata": {},
     "output_type": "execute_result"
    }
   ],
   "source": [
    "len(indf[indf['selftext']!=''])"
   ]
  },
  {
   "cell_type": "code",
   "execution_count": 370,
   "metadata": {},
   "outputs": [],
   "source": [
    "indf.drop(indf.columns.difference(['name','subreddit','title','selftext']),1,inplace=True)"
   ]
  },
  {
   "cell_type": "code",
   "execution_count": 371,
   "metadata": {},
   "outputs": [],
   "source": [
    "#drop duplicate rows in indf\n",
    "indf.drop_duplicates(subset='title',keep='first',inplace=True,ignore_index=True)"
   ]
  },
  {
   "cell_type": "code",
   "execution_count": 372,
   "metadata": {},
   "outputs": [
    {
     "data": {
      "text/plain": [
       "(959, 4)"
      ]
     },
     "execution_count": 372,
     "metadata": {},
     "output_type": "execute_result"
    }
   ],
   "source": [
    "indf.shape"
   ]
  },
  {
   "cell_type": "code",
   "execution_count": 388,
   "metadata": {},
   "outputs": [],
   "source": [
    "#save indf to csv\n",
    "indf.to_csv('./datasets/ddup_investing.csv')"
   ]
  },
  {
   "cell_type": "markdown",
   "metadata": {},
   "source": [
    "## Student Loans subreddit scrape"
   ]
  },
  {
   "cell_type": "code",
   "execution_count": 9,
   "metadata": {},
   "outputs": [
    {
     "name": "stdout",
     "output_type": "stream",
     "text": [
      "https://www.reddit.com/r/StudentLoans/.json\n",
      "5\n",
      "https://www.reddit.com/r/StudentLoans/.json?after=t3_ghwirh\n",
      "5\n",
      "https://www.reddit.com/r/StudentLoans/.json?after=t3_gh1msb\n",
      "5\n",
      "https://www.reddit.com/r/StudentLoans/.json?after=t3_ggfrcb\n",
      "4\n",
      "https://www.reddit.com/r/StudentLoans/.json?after=t3_gfn4gj\n",
      "6\n",
      "https://www.reddit.com/r/StudentLoans/.json?after=t3_ges7xz\n",
      "6\n",
      "https://www.reddit.com/r/StudentLoans/.json?after=t3_gdtia0\n",
      "3\n",
      "https://www.reddit.com/r/StudentLoans/.json?after=t3_gdcsex\n",
      "6\n",
      "https://www.reddit.com/r/StudentLoans/.json?after=t3_gc6jp5\n",
      "2\n",
      "https://www.reddit.com/r/StudentLoans/.json?after=t3_gbu91f\n",
      "6\n",
      "https://www.reddit.com/r/StudentLoans/.json?after=t3_gbhdg1\n",
      "4\n",
      "https://www.reddit.com/r/StudentLoans/.json?after=t3_gadqpb\n",
      "3\n",
      "https://www.reddit.com/r/StudentLoans/.json?after=t3_g9xgke\n",
      "6\n",
      "https://www.reddit.com/r/StudentLoans/.json?after=t3_g91vbm\n",
      "6\n",
      "https://www.reddit.com/r/StudentLoans/.json?after=t3_g8q4bo\n",
      "5\n",
      "https://www.reddit.com/r/StudentLoans/.json?after=t3_g7mg1i\n",
      "6\n",
      "https://www.reddit.com/r/StudentLoans/.json?after=t3_g6z8nq\n",
      "6\n",
      "https://www.reddit.com/r/StudentLoans/.json?after=t3_g60eoy\n",
      "2\n",
      "https://www.reddit.com/r/StudentLoans/.json?after=t3_g5214u\n",
      "5\n",
      "https://www.reddit.com/r/StudentLoans/.json?after=t3_g4y6vg\n",
      "4\n",
      "https://www.reddit.com/r/StudentLoans/.json?after=t3_g46yhp\n",
      "4\n",
      "https://www.reddit.com/r/StudentLoans/.json?after=t3_g3dnen\n",
      "6\n",
      "https://www.reddit.com/r/StudentLoans/.json?after=t3_g2t5g0\n",
      "4\n",
      "https://www.reddit.com/r/StudentLoans/.json?after=t3_g29tov\n",
      "4\n",
      "https://www.reddit.com/r/StudentLoans/.json?after=t3_g1uzkd\n",
      "3\n",
      "https://www.reddit.com/r/StudentLoans/.json?after=t3_g18kqx\n",
      "6\n",
      "https://www.reddit.com/r/StudentLoans/.json?after=t3_g0ns0d\n",
      "3\n",
      "https://www.reddit.com/r/StudentLoans/.json?after=t3_g00j0k\n",
      "3\n",
      "https://www.reddit.com/r/StudentLoans/.json?after=t3_fza3kr\n",
      "6\n",
      "https://www.reddit.com/r/StudentLoans/.json?after=t3_fylspo\n",
      "2\n",
      "https://www.reddit.com/r/StudentLoans/.json?after=t3_fxsei5\n",
      "6\n",
      "https://www.reddit.com/r/StudentLoans/.json?after=t3_fximsh\n",
      "2\n",
      "https://www.reddit.com/r/StudentLoans/.json?after=t3_fwsyfo\n",
      "5\n",
      "https://www.reddit.com/r/StudentLoans/.json?after=t3_fwsh3p\n",
      "4\n",
      "https://www.reddit.com/r/StudentLoans/.json?after=t3_fw54az\n",
      "5\n",
      "https://www.reddit.com/r/StudentLoans/.json?after=t3_fuwcis\n",
      "2\n",
      "https://www.reddit.com/r/StudentLoans/.json?after=t3_fum0s2\n",
      "2\n",
      "https://www.reddit.com/r/StudentLoans/.json?after=t3_ftvs6w\n",
      "6\n",
      "https://www.reddit.com/r/StudentLoans/.json?after=t3_ft8yfp\n",
      "3\n",
      "https://www.reddit.com/r/StudentLoans/.json?after=t3_fs4nvr\n",
      "3\n",
      "https://www.reddit.com/r/StudentLoans/.json\n",
      "2\n",
      "https://www.reddit.com/r/StudentLoans/.json?after=t3_ghwirh\n",
      "2\n",
      "https://www.reddit.com/r/StudentLoans/.json?after=t3_gh1msb\n",
      "6\n",
      "https://www.reddit.com/r/StudentLoans/.json?after=t3_ggfrcb\n",
      "6\n",
      "https://www.reddit.com/r/StudentLoans/.json?after=t3_gfn4gj\n",
      "2\n",
      "https://www.reddit.com/r/StudentLoans/.json?after=t3_ges7xz\n",
      "5\n",
      "https://www.reddit.com/r/StudentLoans/.json?after=t3_gdtia0\n",
      "4\n",
      "https://www.reddit.com/r/StudentLoans/.json?after=t3_gdcsex\n",
      "5\n",
      "https://www.reddit.com/r/StudentLoans/.json?after=t3_gc6jp5\n",
      "6\n",
      "https://www.reddit.com/r/StudentLoans/.json?after=t3_gbu91f\n",
      "3\n",
      "https://www.reddit.com/r/StudentLoans/.json?after=t3_gbhdg1\n",
      "4\n",
      "https://www.reddit.com/r/StudentLoans/.json?after=t3_gadqpb\n",
      "3\n",
      "https://www.reddit.com/r/StudentLoans/.json?after=t3_g9xgke\n",
      "4\n",
      "https://www.reddit.com/r/StudentLoans/.json?after=t3_g91vbm\n",
      "3\n",
      "https://www.reddit.com/r/StudentLoans/.json?after=t3_g8q4bo\n",
      "6\n",
      "https://www.reddit.com/r/StudentLoans/.json?after=t3_g7mg1i\n",
      "4\n",
      "https://www.reddit.com/r/StudentLoans/.json?after=t3_g6z8nq\n",
      "3\n",
      "https://www.reddit.com/r/StudentLoans/.json?after=t3_g60eoy\n",
      "5\n",
      "https://www.reddit.com/r/StudentLoans/.json?after=t3_g5214u\n",
      "4\n",
      "https://www.reddit.com/r/StudentLoans/.json?after=t3_g4y6vg\n",
      "2\n",
      "https://www.reddit.com/r/StudentLoans/.json?after=t3_g46yhp\n",
      "6\n",
      "https://www.reddit.com/r/StudentLoans/.json?after=t3_g3dnen\n",
      "4\n",
      "https://www.reddit.com/r/StudentLoans/.json?after=t3_g2t5g0\n",
      "3\n",
      "https://www.reddit.com/r/StudentLoans/.json?after=t3_g29tov\n",
      "4\n",
      "https://www.reddit.com/r/StudentLoans/.json?after=t3_g1uzkd\n",
      "6\n",
      "https://www.reddit.com/r/StudentLoans/.json?after=t3_g18kqx\n",
      "6\n",
      "https://www.reddit.com/r/StudentLoans/.json?after=t3_g0ns0d\n",
      "5\n",
      "https://www.reddit.com/r/StudentLoans/.json?after=t3_g00j0k\n",
      "5\n",
      "https://www.reddit.com/r/StudentLoans/.json?after=t3_fza3kr\n",
      "2\n",
      "https://www.reddit.com/r/StudentLoans/.json?after=t3_fylspo\n",
      "2\n",
      "https://www.reddit.com/r/StudentLoans/.json?after=t3_fxsei5\n",
      "6\n",
      "https://www.reddit.com/r/StudentLoans/.json?after=t3_fximsh\n",
      "6\n",
      "https://www.reddit.com/r/StudentLoans/.json?after=t3_fwsyfo\n",
      "6\n",
      "https://www.reddit.com/r/StudentLoans/.json?after=t3_fwsh3p\n",
      "4\n",
      "https://www.reddit.com/r/StudentLoans/.json?after=t3_fw54az\n",
      "3\n",
      "https://www.reddit.com/r/StudentLoans/.json?after=t3_fuwcis\n",
      "6\n",
      "https://www.reddit.com/r/StudentLoans/.json?after=t3_fum0s2\n",
      "4\n",
      "https://www.reddit.com/r/StudentLoans/.json?after=t3_ftvs6w\n",
      "3\n",
      "https://www.reddit.com/r/StudentLoans/.json?after=t3_ft8yfp\n",
      "2\n",
      "https://www.reddit.com/r/StudentLoans/.json?after=t3_fs4nvr\n",
      "2\n",
      "https://www.reddit.com/r/StudentLoans/.json\n",
      "4\n",
      "https://www.reddit.com/r/StudentLoans/.json?after=t3_ghwirh\n",
      "6\n",
      "https://www.reddit.com/r/StudentLoans/.json?after=t3_gh1msb\n",
      "3\n",
      "https://www.reddit.com/r/StudentLoans/.json?after=t3_ggfrcb\n",
      "2\n",
      "https://www.reddit.com/r/StudentLoans/.json?after=t3_gfn4gj\n",
      "3\n",
      "https://www.reddit.com/r/StudentLoans/.json?after=t3_ges7xz\n",
      "6\n",
      "https://www.reddit.com/r/StudentLoans/.json?after=t3_gdtia0\n",
      "3\n",
      "https://www.reddit.com/r/StudentLoans/.json?after=t3_gdcsex\n",
      "3\n",
      "https://www.reddit.com/r/StudentLoans/.json?after=t3_gc6jp5\n",
      "6\n",
      "https://www.reddit.com/r/StudentLoans/.json?after=t3_gbu91f\n",
      "6\n",
      "https://www.reddit.com/r/StudentLoans/.json?after=t3_gbhdg1\n",
      "3\n",
      "https://www.reddit.com/r/StudentLoans/.json?after=t3_gadqpb\n",
      "3\n",
      "https://www.reddit.com/r/StudentLoans/.json?after=t3_g9xgke\n",
      "2\n",
      "https://www.reddit.com/r/StudentLoans/.json?after=t3_g91vbm\n",
      "4\n",
      "https://www.reddit.com/r/StudentLoans/.json?after=t3_g8q4bo\n",
      "2\n",
      "https://www.reddit.com/r/StudentLoans/.json?after=t3_g7mg1i\n",
      "4\n",
      "https://www.reddit.com/r/StudentLoans/.json?after=t3_g6z8nq\n",
      "4\n",
      "https://www.reddit.com/r/StudentLoans/.json?after=t3_g60eoy\n",
      "5\n",
      "https://www.reddit.com/r/StudentLoans/.json?after=t3_g5214u\n",
      "4\n",
      "https://www.reddit.com/r/StudentLoans/.json?after=t3_g4y6vg\n",
      "5\n"
     ]
    }
   ],
   "source": [
    "#scraping for student loans subreddit posts\n",
    "loan_posts = []\n",
    "after = None\n",
    "\n",
    "for a in range(100):\n",
    "    if after == None:\n",
    "        current_url = loanurl\n",
    "    else:\n",
    "        current_url = loanurl + '?after=' + after\n",
    "    print(current_url)\n",
    "    loanres = requests.get(current_url, headers=headers)\n",
    "    \n",
    "    if loanres.status_code != 200:\n",
    "        print('Status error', loanres.status_code)\n",
    "        break\n",
    "    \n",
    "    \n",
    "    current_dict = loanres.json()\n",
    "    current_posts = [p['data'] for p in current_dict['data']['children']]\n",
    "    loan_posts.extend(current_posts)\n",
    "    after = current_dict['data']['after']\n",
    "    \n",
    "    \n",
    "    if a > 0:\n",
    "        prev_posts = pd.read_csv('./datasets/loan.csv')\n",
    "        current_df = pd.DataFrame(current_posts)\n",
    "        finalloan = pd.concat([prev_posts,current_df])\n",
    "        finalloan.to_csv('./datasets/loan.csv',index=False)\n",
    "        \n",
    "    else:\n",
    "   \n",
    "        pd.DataFrame(current_posts).to_csv('./datasets/loan.csv', index = False)\n",
    "    \n",
    "    # generate a random sleep duration to look more 'natural'\n",
    "    sleep_duration = random.randint(2,6)\n",
    "    print(sleep_duration)\n",
    "    time.sleep(sleep_duration)"
   ]
  },
  {
   "cell_type": "code",
   "execution_count": 15,
   "metadata": {},
   "outputs": [],
   "source": [
    "#read loan csv file\n",
    "loandf = pd.read_csv('./datasets/loan.csv')"
   ]
  },
  {
   "cell_type": "code",
   "execution_count": 16,
   "metadata": {},
   "outputs": [
    {
     "data": {
      "text/plain": [
       "(2468, 104)"
      ]
     },
     "execution_count": 16,
     "metadata": {},
     "output_type": "execute_result"
    }
   ],
   "source": [
    "loandf.shape"
   ]
  },
  {
   "cell_type": "code",
   "execution_count": 33,
   "metadata": {},
   "outputs": [
    {
     "data": {
      "text/html": [
       "<div>\n",
       "<style scoped>\n",
       "    .dataframe tbody tr th:only-of-type {\n",
       "        vertical-align: middle;\n",
       "    }\n",
       "\n",
       "    .dataframe tbody tr th {\n",
       "        vertical-align: top;\n",
       "    }\n",
       "\n",
       "    .dataframe thead th {\n",
       "        text-align: right;\n",
       "    }\n",
       "</style>\n",
       "<table border=\"1\" class=\"dataframe\">\n",
       "  <thead>\n",
       "    <tr style=\"text-align: right;\">\n",
       "      <th></th>\n",
       "      <th>name</th>\n",
       "      <th>subreddit</th>\n",
       "      <th>title</th>\n",
       "      <th>selftext</th>\n",
       "    </tr>\n",
       "  </thead>\n",
       "  <tbody>\n",
       "    <tr>\n",
       "      <th>0</th>\n",
       "      <td>t3_9w474g</td>\n",
       "      <td>StudentLoans</td>\n",
       "      <td>How to Identify a Student Loan Scam</td>\n",
       "      <td>It seems it's time to sticky another post abou...</td>\n",
       "    </tr>\n",
       "    <tr>\n",
       "      <th>1</th>\n",
       "      <td>t3_ghp77u</td>\n",
       "      <td>StudentLoans</td>\n",
       "      <td>Update on credit bureau reporting for COVID wa...</td>\n",
       "      <td>Hi there.  This weekend many of you reported t...</td>\n",
       "    </tr>\n",
       "    <tr>\n",
       "      <th>2</th>\n",
       "      <td>t3_ghxdmi</td>\n",
       "      <td>StudentLoans</td>\n",
       "      <td>\"Average\" Person Paying Loans? Not a doctor/la...</td>\n",
       "      <td>Hey! Long-time lurker...\\n\\n Not sure if this ...</td>\n",
       "    </tr>\n",
       "    <tr>\n",
       "      <th>3</th>\n",
       "      <td>t3_gi5zt3</td>\n",
       "      <td>StudentLoans</td>\n",
       "      <td>Why would my student loan payment go down?</td>\n",
       "      <td>So every month, I pay roughly about 100/month ...</td>\n",
       "    </tr>\n",
       "    <tr>\n",
       "      <th>4</th>\n",
       "      <td>t3_ghz2d7</td>\n",
       "      <td>StudentLoans</td>\n",
       "      <td>Conflicting advice for mountain of debt (high ...</td>\n",
       "      <td>Hello all! I'm extremely happy with my career,...</td>\n",
       "    </tr>\n",
       "  </tbody>\n",
       "</table>\n",
       "</div>"
      ],
      "text/plain": [
       "        name     subreddit                                              title  \\\n",
       "0  t3_9w474g  StudentLoans                How to Identify a Student Loan Scam   \n",
       "1  t3_ghp77u  StudentLoans  Update on credit bureau reporting for COVID wa...   \n",
       "2  t3_ghxdmi  StudentLoans  \"Average\" Person Paying Loans? Not a doctor/la...   \n",
       "3  t3_gi5zt3  StudentLoans         Why would my student loan payment go down?   \n",
       "4  t3_ghz2d7  StudentLoans  Conflicting advice for mountain of debt (high ...   \n",
       "\n",
       "                                            selftext  \n",
       "0  It seems it's time to sticky another post abou...  \n",
       "1  Hi there.  This weekend many of you reported t...  \n",
       "2  Hey! Long-time lurker...\\n\\n Not sure if this ...  \n",
       "3  So every month, I pay roughly about 100/month ...  \n",
       "4  Hello all! I'm extremely happy with my career,...  "
      ]
     },
     "execution_count": 33,
     "metadata": {},
     "output_type": "execute_result"
    }
   ],
   "source": [
    "#see loandf can successfully open\n",
    "loandf.head()"
   ]
  },
  {
   "cell_type": "code",
   "execution_count": 17,
   "metadata": {},
   "outputs": [],
   "source": [
    "loandf = loandf[['name','subreddit','title','selftext']]"
   ]
  },
  {
   "cell_type": "code",
   "execution_count": 18,
   "metadata": {},
   "outputs": [
    {
     "data": {
      "text/plain": [
       "2468"
      ]
     },
     "execution_count": 18,
     "metadata": {},
     "output_type": "execute_result"
    }
   ],
   "source": [
    "len(loandf[loandf['selftext']!=''])"
   ]
  },
  {
   "cell_type": "code",
   "execution_count": 22,
   "metadata": {},
   "outputs": [],
   "source": [
    "loandf.drop(loandf.columns.difference(['name','subreddit','title','selftext']),1,inplace=True)"
   ]
  },
  {
   "cell_type": "code",
   "execution_count": 23,
   "metadata": {},
   "outputs": [],
   "source": [
    "#drop duplicate rows in loandf\n",
    "loandf.drop_duplicates(subset='title',keep='first',inplace=True,ignore_index=True)"
   ]
  },
  {
   "cell_type": "code",
   "execution_count": 30,
   "metadata": {},
   "outputs": [],
   "source": [
    "loandf.drop_duplicates(subset='selftext',keep='first',inplace=True,ignore_index=True)"
   ]
  },
  {
   "cell_type": "code",
   "execution_count": 27,
   "metadata": {},
   "outputs": [
    {
     "data": {
      "text/plain": [
       "(947, 4)"
      ]
     },
     "execution_count": 27,
     "metadata": {},
     "output_type": "execute_result"
    }
   ],
   "source": [
    "loandf.shape"
   ]
  },
  {
   "cell_type": "code",
   "execution_count": 32,
   "metadata": {},
   "outputs": [],
   "source": [
    "#save loandf to csv\n",
    "loandf.to_csv('./datasets/ddup_loan.csv')"
   ]
  }
 ],
 "metadata": {
  "kernelspec": {
   "display_name": "Python 3",
   "language": "python",
   "name": "python3"
  },
  "language_info": {
   "codemirror_mode": {
    "name": "ipython",
    "version": 3
   },
   "file_extension": ".py",
   "mimetype": "text/x-python",
   "name": "python",
   "nbconvert_exporter": "python",
   "pygments_lexer": "ipython3",
   "version": "3.7.6"
  }
 },
 "nbformat": 4,
 "nbformat_minor": 4
}
